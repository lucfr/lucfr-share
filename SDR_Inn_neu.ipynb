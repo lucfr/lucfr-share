{
 "cells": [
  {
   "cell_type": "markdown",
   "metadata": {},
   "source": [
    "# Regressionsanalyse für einen neuen SDR Ansatz für den Inn"
   ]
  },
  {
   "cell_type": "code",
   "execution_count": 4,
   "metadata": {
    "collapsed": true
   },
   "outputs": [],
   "source": [
    "%matplotlib inline"
   ]
  },
  {
   "cell_type": "code",
   "execution_count": 6,
   "metadata": {
    "collapsed": false
   },
   "outputs": [],
   "source": [
    "import pandas as pd\n",
    "import numpy as np\n",
    "import os\n",
    "import matplotlib.pyplot as plt\n",
    "import seaborn as sns"
   ]
  },
  {
   "cell_type": "code",
   "execution_count": 311,
   "metadata": {
    "collapsed": true
   },
   "outputs": [],
   "source": [
    "from scipy import stats"
   ]
  },
  {
   "cell_type": "code",
   "execution_count": 313,
   "metadata": {
    "collapsed": true
   },
   "outputs": [],
   "source": [
    "import scipy"
   ]
  },
  {
   "cell_type": "code",
   "execution_count": 358,
   "metadata": {
    "collapsed": true
   },
   "outputs": [],
   "source": [
    "import lmfit"
   ]
  },
  {
   "cell_type": "code",
   "execution_count": 359,
   "metadata": {
    "collapsed": true
   },
   "outputs": [],
   "source": [
    "from sklearn import tree"
   ]
  },
  {
   "cell_type": "markdown",
   "metadata": {},
   "source": [
    "Daten jeweils per csv laden, oder alle erstmal in eine hdf5 (http://www.pytables.org) packen?"
   ]
  },
  {
   "cell_type": "code",
   "execution_count": null,
   "metadata": {
    "collapsed": true
   },
   "outputs": [],
   "source": [
    "# proper sublots with matplotlib:\n",
    "\n",
    "# next to each other\n",
    "\n",
    "#fig, axes = plt.subplots(nrows = 1, ncols = 2, figsize = (10,5));\n",
    "#axes[0].plot('Ticks', 'Open', data = google);\n",
    "#axes[0].set_title('Original Plot');\n",
    "#axes[1].plot('Ticks', 'Open', data = one_tenth);\n",
    "#axes[1].set_title('Sampled Plot');\n",
    "\n",
    "# overlay in same plot:\n",
    "\n",
    "#fig = plt.figure();\n",
    "#ax = fig.add_subplot(111);\n",
    "#ax.plot(google['Date'], google['Rolling_Mean'], color = (0,0,0), linewidth = 4, alpha = .9, label = 'Smoothed');\n",
    "#ax.plot(google['Date'], google['Open'], color = (1,0,0), label = 'Original');\n",
    "#ax.set_title('Original and Smoothed Price')\n",
    "#ax.set_xlabel('Ticks')\n",
    "#ax.set_ylabel('Price')\n",
    "#ax.legend(loc='lower right');"
   ]
  },
  {
   "cell_type": "markdown",
   "metadata": {},
   "source": [
    "![Catchments of all sediment load measurement stations](EZGS_Inn_Karte.png)"
   ]
  },
  {
   "cell_type": "markdown",
   "metadata": {},
   "source": [
    "*(more at D:\\Projekte\\Innprojekt\\Ergebnisse\\Vorträge\\Innprojekt Treffen Karlsruhe 04_2016\\figures\\Sediment)*"
   ]
  },
  {
   "cell_type": "code",
   "execution_count": 412,
   "metadata": {
    "collapsed": false
   },
   "outputs": [],
   "source": [
    "passau = pd.read_csv('Passau-Ingling_TagSum.csv', decimal=',', sep=';', header=0, \n",
    "                   #encoding = 'ISO-8859-1', \n",
    "                   encoding = 'latin-1',\n",
    "                   #dtype={'Sedfracht':np.float64},\n",
    "                   index_col=0, parse_dates=True, dayfirst=True, infer_datetime_format=True, \n",
    "                   usecols=[0,1], names=['Datum', 'Sedfracht'], \n",
    "                   #na_values=['L\\xfccke']\n",
    "                   #na_values=['L\\u00fccke    ']\n",
    "                   na_values='Lücke    '.encode(encoding='latin-1')\n",
    "                  )"
   ]
  },
  {
   "cell_type": "code",
   "execution_count": 434,
   "metadata": {
    "collapsed": false
   },
   "outputs": [],
   "source": [
    "passau_stoffe = pd.read_csv('BY20_Passau_Stoffe.csv', decimal=',', sep=';', header=0, \n",
    "                   #encoding = 'ISO-8859-1', \n",
    "                   encoding = 'latin-1',\n",
    "                   #dtype={'Sedfracht':np.float64},\n",
    "                   index_col=0)#, parse_dates=True, infer_datetime_format=True)"
   ]
  },
  {
   "cell_type": "code",
   "execution_count": 442,
   "metadata": {
    "collapsed": false,
    "scrolled": true
   },
   "outputs": [
    {
     "data": {
      "text/html": [
       "<div>\n",
       "<table border=\"1\" class=\"dataframe\">\n",
       "  <thead>\n",
       "    <tr style=\"text-align: right;\">\n",
       "      <th></th>\n",
       "      <th>SedFracht</th>\n",
       "      <th>Cadmium</th>\n",
       "      <th>Chrom</th>\n",
       "      <th>Kupfer</th>\n",
       "      <th>Nickel</th>\n",
       "      <th>Blei</th>\n",
       "      <th>Zink</th>\n",
       "      <th>Phosphor gesamt</th>\n",
       "    </tr>\n",
       "    <tr>\n",
       "      <th>Jahr</th>\n",
       "      <th></th>\n",
       "      <th></th>\n",
       "      <th></th>\n",
       "      <th></th>\n",
       "      <th></th>\n",
       "      <th></th>\n",
       "      <th></th>\n",
       "      <th></th>\n",
       "    </tr>\n",
       "  </thead>\n",
       "  <tbody>\n",
       "    <tr>\n",
       "      <th>2006</th>\n",
       "      <td>5001711.376</td>\n",
       "      <td>2253.216</td>\n",
       "      <td>61830.712</td>\n",
       "      <td>182750.559</td>\n",
       "      <td>125760.524</td>\n",
       "      <td>73335.820</td>\n",
       "      <td>457332.007</td>\n",
       "      <td>2280.352771</td>\n",
       "    </tr>\n",
       "    <tr>\n",
       "      <th>2007</th>\n",
       "      <td>2891563.497</td>\n",
       "      <td>1151.285</td>\n",
       "      <td>36869.816</td>\n",
       "      <td>57964.663</td>\n",
       "      <td>50243.013</td>\n",
       "      <td>39969.592</td>\n",
       "      <td>16175.855</td>\n",
       "      <td>1720.091429</td>\n",
       "    </tr>\n",
       "    <tr>\n",
       "      <th>2008</th>\n",
       "      <td>4333513.508</td>\n",
       "      <td>1100.093</td>\n",
       "      <td>42115.557</td>\n",
       "      <td>65708.749</td>\n",
       "      <td>67981.019</td>\n",
       "      <td>30897.629</td>\n",
       "      <td>380125.013</td>\n",
       "      <td>2095.634888</td>\n",
       "    </tr>\n",
       "    <tr>\n",
       "      <th>2009</th>\n",
       "      <td>3870148.220</td>\n",
       "      <td>1201.601</td>\n",
       "      <td>50118.230</td>\n",
       "      <td>64759.314</td>\n",
       "      <td>69279.029</td>\n",
       "      <td>24151.682</td>\n",
       "      <td>157217.775</td>\n",
       "      <td>1763.621713</td>\n",
       "    </tr>\n",
       "    <tr>\n",
       "      <th>2010</th>\n",
       "      <td>6224991.862</td>\n",
       "      <td>1492.768</td>\n",
       "      <td>61889.691</td>\n",
       "      <td>98645.592</td>\n",
       "      <td>85677.643</td>\n",
       "      <td>44370.177</td>\n",
       "      <td>278909.048</td>\n",
       "      <td>1861.446687</td>\n",
       "    </tr>\n",
       "    <tr>\n",
       "      <th>2011</th>\n",
       "      <td>2216659.308</td>\n",
       "      <td>1256.073</td>\n",
       "      <td>71396.823</td>\n",
       "      <td>65555.353</td>\n",
       "      <td>69474.619</td>\n",
       "      <td>27520.594</td>\n",
       "      <td>791496.303</td>\n",
       "      <td>1519.806491</td>\n",
       "    </tr>\n",
       "    <tr>\n",
       "      <th>2012</th>\n",
       "      <td>3809658.547</td>\n",
       "      <td>1689.238</td>\n",
       "      <td>135969.093</td>\n",
       "      <td>163883.906</td>\n",
       "      <td>178839.795</td>\n",
       "      <td>76132.494</td>\n",
       "      <td>470223.483</td>\n",
       "      <td>2435.792627</td>\n",
       "    </tr>\n",
       "    <tr>\n",
       "      <th>2013</th>\n",
       "      <td>3366337.429</td>\n",
       "      <td>1523.767</td>\n",
       "      <td>68956.541</td>\n",
       "      <td>89526.548</td>\n",
       "      <td>84324.788</td>\n",
       "      <td>40743.566</td>\n",
       "      <td>276482.570</td>\n",
       "      <td>2962.929622</td>\n",
       "    </tr>\n",
       "  </tbody>\n",
       "</table>\n",
       "</div>"
      ],
      "text/plain": [
       "        SedFracht   Cadmium       Chrom      Kupfer      Nickel       Blei  \\\n",
       "Jahr                                                                         \n",
       "2006  5001711.376  2253.216   61830.712  182750.559  125760.524  73335.820   \n",
       "2007  2891563.497  1151.285   36869.816   57964.663   50243.013  39969.592   \n",
       "2008  4333513.508  1100.093   42115.557   65708.749   67981.019  30897.629   \n",
       "2009  3870148.220  1201.601   50118.230   64759.314   69279.029  24151.682   \n",
       "2010  6224991.862  1492.768   61889.691   98645.592   85677.643  44370.177   \n",
       "2011  2216659.308  1256.073   71396.823   65555.353   69474.619  27520.594   \n",
       "2012  3809658.547  1689.238  135969.093  163883.906  178839.795  76132.494   \n",
       "2013  3366337.429  1523.767   68956.541   89526.548   84324.788  40743.566   \n",
       "\n",
       "            Zink  Phosphor gesamt  \n",
       "Jahr                               \n",
       "2006  457332.007      2280.352771  \n",
       "2007   16175.855      1720.091429  \n",
       "2008  380125.013      2095.634888  \n",
       "2009  157217.775      1763.621713  \n",
       "2010  278909.048      1861.446687  \n",
       "2011  791496.303      1519.806491  \n",
       "2012  470223.483      2435.792627  \n",
       "2013  276482.570      2962.929622  "
      ]
     },
     "execution_count": 442,
     "metadata": {},
     "output_type": "execute_result"
    }
   ],
   "source": [
    "passau_stoffe_subset"
   ]
  },
  {
   "cell_type": "code",
   "execution_count": 479,
   "metadata": {
    "collapsed": false
   },
   "outputs": [
    {
     "data": {
      "image/png": "[encoded data removed]",
      "text/plain": [
       "<matplotlib.figure.Figure at 0x20b522b0>"
      ]
     },
     "metadata": {},
     "output_type": "display_data"
    }
   ],
   "source": [
    "#passau_stoffe_subset.Cadmium.plot.bar()\n",
    "#plt.figure(figsize=(12,4))\n",
    "passau_stoffe_subset[['SedFracht', 'Cadmium', 'Chrom', 'Phosphor gesamt']].plot.bar(\n",
    "    subplots=True, sharex=True, figsize=(6,12), color=('teal', 'green', 'magenta', 'blue'))\n",
    "plt.savefig('Sed_Cad_Chrom_Phosphor.png')"
   ]
  },
  {
   "cell_type": "code",
   "execution_count": 475,
   "metadata": {
    "collapsed": false
   },
   "outputs": [
    {
     "data": {
      "image/png": "[encoded data removed]",
      "text/plain": [
       "<matplotlib.figure.Figure at 0x1f3f9898>"
      ]
     },
     "metadata": {},
     "output_type": "display_data"
    }
   ],
   "source": [
    "#passau_stoffe_subset.Cadmium.plot.bar()\n",
    "#plt.figure(figsize=(12,4))\n",
    "passau_stoffe_subset[['SedFracht', 'Kupfer', 'Nickel', 'Blei']].plot.bar(\n",
    "    subplots=True, sharex=True, figsize=(6,12), color=('teal', 'orange', 'red', 'grey'))\n",
    "plt.savefig('Sed_Kupfer_Nickel_Blei.png')"
   ]
  },
  {
   "cell_type": "code",
   "execution_count": 452,
   "metadata": {
    "collapsed": false
   },
   "outputs": [
    {
     "data": {
      "text/plain": [
       "<matplotlib.axes._subplots.AxesSubplot at 0x1847c390>"
      ]
     },
     "execution_count": 452,
     "metadata": {},
     "output_type": "execute_result"
    },
    {
     "data": {
      "image/png": "[encoded data removed]",
      "text/plain": [
       "<matplotlib.figure.Figure at 0x1817ba58>"
      ]
     },
     "metadata": {},
     "output_type": "display_data"
    }
   ],
   "source": [
    "passau_stoffe_subset[['SedFracht', 'Cadmium']].plot()"
   ]
  },
  {
   "cell_type": "code",
   "execution_count": 455,
   "metadata": {
    "collapsed": false
   },
   "outputs": [
    {
     "data": {
      "text/plain": [
       "array([[<matplotlib.axes._subplots.AxesSubplot object at 0x0000000018484748>,\n",
       "        <matplotlib.axes._subplots.AxesSubplot object at 0x000000001864B8D0>,\n",
       "        <matplotlib.axes._subplots.AxesSubplot object at 0x0000000018619C18>,\n",
       "        <matplotlib.axes._subplots.AxesSubplot object at 0x000000001872FDA0>,\n",
       "        <matplotlib.axes._subplots.AxesSubplot object at 0x000000001877F518>,\n",
       "        <matplotlib.axes._subplots.AxesSubplot object at 0x00000000180A1A90>,\n",
       "        <matplotlib.axes._subplots.AxesSubplot object at 0x00000000187BB358>,\n",
       "        <matplotlib.axes._subplots.AxesSubplot object at 0x00000000187F9780>],\n",
       "       [<matplotlib.axes._subplots.AxesSubplot object at 0x00000000188454E0>,\n",
       "        <matplotlib.axes._subplots.AxesSubplot object at 0x0000000018885240>,\n",
       "        <matplotlib.axes._subplots.AxesSubplot object at 0x00000000188CBBA8>,\n",
       "        <matplotlib.axes._subplots.AxesSubplot object at 0x0000000018917048>,\n",
       "        <matplotlib.axes._subplots.AxesSubplot object at 0x000000001895B978>,\n",
       "        <matplotlib.axes._subplots.AxesSubplot object at 0x0000000019979208>,\n",
       "        <matplotlib.axes._subplots.AxesSubplot object at 0x00000000199B29B0>,\n",
       "        <matplotlib.axes._subplots.AxesSubplot object at 0x00000000199FEAC8>],\n",
       "       [<matplotlib.axes._subplots.AxesSubplot object at 0x0000000019A3A8D0>,\n",
       "        <matplotlib.axes._subplots.AxesSubplot object at 0x0000000019A886A0>,\n",
       "        <matplotlib.axes._subplots.AxesSubplot object at 0x0000000019A4CE10>,\n",
       "        <matplotlib.axes._subplots.AxesSubplot object at 0x0000000019B0BF98>,\n",
       "        <matplotlib.axes._subplots.AxesSubplot object at 0x0000000019B58630>,\n",
       "        <matplotlib.axes._subplots.AxesSubplot object at 0x0000000019B96F28>,\n",
       "        <matplotlib.axes._subplots.AxesSubplot object at 0x0000000019BE2E80>,\n",
       "        <matplotlib.axes._subplots.AxesSubplot object at 0x0000000019C1ED30>],\n",
       "       [<matplotlib.axes._subplots.AxesSubplot object at 0x0000000019C6FB00>,\n",
       "        <matplotlib.axes._subplots.AxesSubplot object at 0x0000000019CAA7F0>,\n",
       "        <matplotlib.axes._subplots.AxesSubplot object at 0x0000000019CF5080>,\n",
       "        <matplotlib.axes._subplots.AxesSubplot object at 0x0000000019D008D0>,\n",
       "        <matplotlib.axes._subplots.AxesSubplot object at 0x0000000019D810F0>,\n",
       "        <matplotlib.axes._subplots.AxesSubplot object at 0x0000000019DC8A58>,\n",
       "        <matplotlib.axes._subplots.AxesSubplot object at 0x0000000019E073C8>,\n",
       "        <matplotlib.axes._subplots.AxesSubplot object at 0x0000000019E50828>],\n",
       "       [<matplotlib.axes._subplots.AxesSubplot object at 0x0000000019E94630>,\n",
       "        <matplotlib.axes._subplots.AxesSubplot object at 0x0000000019EE2278>,\n",
       "        <matplotlib.axes._subplots.AxesSubplot object at 0x0000000019F200F0>,\n",
       "        <matplotlib.axes._subplots.AxesSubplot object at 0x0000000019F68940>,\n",
       "        <matplotlib.axes._subplots.AxesSubplot object at 0x0000000019FB9710>,\n",
       "        <matplotlib.axes._subplots.AxesSubplot object at 0x0000000019FF2BA8>,\n",
       "        <matplotlib.axes._subplots.AxesSubplot object at 0x000000001A040240>,\n",
       "        <matplotlib.axes._subplots.AxesSubplot object at 0x000000001A07F0B8>],\n",
       "       [<matplotlib.axes._subplots.AxesSubplot object at 0x000000001A0CC0F0>,\n",
       "        <matplotlib.axes._subplots.AxesSubplot object at 0x000000001A100F98>,\n",
       "        <matplotlib.axes._subplots.AxesSubplot object at 0x000000001A151208>,\n",
       "        <matplotlib.axes._subplots.AxesSubplot object at 0x000000001A11DBE0>,\n",
       "        <matplotlib.axes._subplots.AxesSubplot object at 0x000000001A1D89B0>,\n",
       "        <matplotlib.axes._subplots.AxesSubplot object at 0x000000001A226048>,\n",
       "        <matplotlib.axes._subplots.AxesSubplot object at 0x000000001A264550>,\n",
       "        <matplotlib.axes._subplots.AxesSubplot object at 0x000000001A2B24A8>],\n",
       "       [<matplotlib.axes._subplots.AxesSubplot object at 0x000000001A2EB358>,\n",
       "        <matplotlib.axes._subplots.AxesSubplot object at 0x000000001A33C128>,\n",
       "        <matplotlib.axes._subplots.AxesSubplot object at 0x000000001A371DD8>,\n",
       "        <matplotlib.axes._subplots.AxesSubplot object at 0x000000001A3BD668>,\n",
       "        <matplotlib.axes._subplots.AxesSubplot object at 0x000000001A3CD320>,\n",
       "        <matplotlib.axes._subplots.AxesSubplot object at 0x000000001A44A6D8>,\n",
       "        <matplotlib.axes._subplots.AxesSubplot object at 0x000000001A497080>,\n",
       "        <matplotlib.axes._subplots.AxesSubplot object at 0x000000001A4D09B0>],\n",
       "       [<matplotlib.axes._subplots.AxesSubplot object at 0x000000001A518E10>,\n",
       "        <matplotlib.axes._subplots.AxesSubplot object at 0x000000001A55AC18>,\n",
       "        <matplotlib.axes._subplots.AxesSubplot object at 0x000000001A5A7860>,\n",
       "        <matplotlib.axes._subplots.AxesSubplot object at 0x000000001A5E86D8>,\n",
       "        <matplotlib.axes._subplots.AxesSubplot object at 0x000000001A62DF28>,\n",
       "        <matplotlib.axes._subplots.AxesSubplot object at 0x000000001A67FCF8>,\n",
       "        <matplotlib.axes._subplots.AxesSubplot object at 0x000000001A694240>,\n",
       "        <matplotlib.axes._subplots.AxesSubplot object at 0x000000001A6DFBE0>]], dtype=object)"
      ]
     },
     "execution_count": 455,
     "metadata": {},
     "output_type": "execute_result"
    },
    {
     "data": {
      "image/png": "[encoded data removed]",
      "text/plain": [
       "<matplotlib.figure.Figure at 0x184748d0>"
      ]
     },
     "metadata": {},
     "output_type": "display_data"
    }
   ],
   "source": [
    "pd.scatter_matrix(passau_stoffe_subset)"
   ]
  },
  {
   "cell_type": "code",
   "execution_count": 448,
   "metadata": {
    "collapsed": false
   },
   "outputs": [
    {
     "data": {
      "text/plain": [
       "<matplotlib.axes._subplots.AxesSubplot at 0x16de5588>"
      ]
     },
     "execution_count": 448,
     "metadata": {},
     "output_type": "execute_result"
    },
    {
     "data": {
      "image/png": "[encoded data removed]",
      "text/plain": [
       "<matplotlib.figure.Figure at 0x16e379b0>"
      ]
     },
     "metadata": {},
     "output_type": "display_data"
    }
   ],
   "source": [
    "passau_stoffe_subset.SedFracht.plot.bar()"
   ]
  },
  {
   "cell_type": "code",
   "execution_count": 437,
   "metadata": {
    "collapsed": true
   },
   "outputs": [],
   "source": [
    "passau_stoffe_subset = passau_stoffe[['SedFracht', 'Cadmium', 'Chrom', 'Kupfer', 'Nickel', 'Blei', 'Zink', 'Phosphor gesamt']]"
   ]
  },
  {
   "cell_type": "code",
   "execution_count": 440,
   "metadata": {
    "collapsed": false
   },
   "outputs": [
    {
     "ename": "TypeError",
     "evalue": "'bool' object is not callable",
     "output_type": "error",
     "traceback": [
      "\u001b[0;31m---------------------------------------------------------------------------\u001b[0m",
      "\u001b[0;31mTypeError\u001b[0m                                 Traceback (most recent call last)",
      "\u001b[0;32m<ipython-input-440-66c0fb85c054>\u001b[0m in \u001b[0;36m<module>\u001b[0;34m()\u001b[0m\n\u001b[0;32m----> 1\u001b[0;31m \u001b[0msns\u001b[0m\u001b[0;34m.\u001b[0m\u001b[0mlmplot\u001b[0m\u001b[0;34m(\u001b[0m\u001b[0mx\u001b[0m\u001b[0;34m=\u001b[0m\u001b[0;34m'SedFracht'\u001b[0m\u001b[0;34m,\u001b[0m \u001b[0my\u001b[0m\u001b[0;34m=\u001b[0m\u001b[0;34m'Cadmium'\u001b[0m\u001b[0;34m,\u001b[0m \u001b[0mdata\u001b[0m\u001b[0;34m=\u001b[0m\u001b[0mpassau_stoffe_subset\u001b[0m\u001b[0;34m)\u001b[0m\u001b[0;34m\u001b[0m\u001b[0m\n\u001b[0m",
      "\u001b[0;32mC:\\Anaconda3\\envs\\py35\\lib\\site-packages\\seaborn\\linearmodels.py\u001b[0m in \u001b[0;36mlmplot\u001b[0;34m(x, y, data, hue, col, row, palette, col_wrap, size, aspect, markers, sharex, sharey, hue_order, col_order, row_order, legend, legend_out, x_estimator, x_bins, x_ci, scatter, fit_reg, ci, n_boot, units, order, logistic, lowess, robust, logx, x_partial, y_partial, truncate, x_jitter, y_jitter, scatter_kws, line_kws)\u001b[0m\n\u001b[1;32m    546\u001b[0m                        \u001b[0mhue_order\u001b[0m\u001b[0;34m=\u001b[0m\u001b[0mhue_order\u001b[0m\u001b[0;34m,\u001b[0m \u001b[0msize\u001b[0m\u001b[0;34m=\u001b[0m\u001b[0msize\u001b[0m\u001b[0;34m,\u001b[0m \u001b[0maspect\u001b[0m\u001b[0;34m=\u001b[0m\u001b[0maspect\u001b[0m\u001b[0;34m,\u001b[0m\u001b[0;34m\u001b[0m\u001b[0m\n\u001b[1;32m    547\u001b[0m                        \u001b[0mcol_wrap\u001b[0m\u001b[0;34m=\u001b[0m\u001b[0mcol_wrap\u001b[0m\u001b[0;34m,\u001b[0m \u001b[0msharex\u001b[0m\u001b[0;34m=\u001b[0m\u001b[0msharex\u001b[0m\u001b[0;34m,\u001b[0m \u001b[0msharey\u001b[0m\u001b[0;34m=\u001b[0m\u001b[0msharey\u001b[0m\u001b[0;34m,\u001b[0m\u001b[0;34m\u001b[0m\u001b[0m\n\u001b[0;32m--> 548\u001b[0;31m                        legend_out=legend_out)\n\u001b[0m\u001b[1;32m    549\u001b[0m \u001b[0;34m\u001b[0m\u001b[0m\n\u001b[1;32m    550\u001b[0m     \u001b[0;31m# Add the markers here as FacetGrid has figured out how many levels of the\u001b[0m\u001b[0;34m\u001b[0m\u001b[0;34m\u001b[0m\u001b[0m\n",
      "\u001b[0;32mC:\\Anaconda3\\envs\\py35\\lib\\site-packages\\seaborn\\axisgrid.py\u001b[0m in \u001b[0;36m__init__\u001b[0;34m(self, data, row, col, hue, col_wrap, sharex, sharey, size, aspect, palette, row_order, col_order, hue_order, hue_kws, dropna, legend_out, despine, margin_titles, xlim, ylim, subplot_kws, gridspec_kws)\u001b[0m\n\u001b[1;32m    305\u001b[0m                     \u001b[0mwarnings\u001b[0m\u001b[0;34m.\u001b[0m\u001b[0mwarn\u001b[0m\u001b[0;34m(\u001b[0m\u001b[0mmsg\u001b[0m\u001b[0;34m.\u001b[0m\u001b[0mformat\u001b[0m\u001b[0;34m(\u001b[0m\u001b[0mMPL_GRIDSPEC_VERSION\u001b[0m\u001b[0;34m)\u001b[0m\u001b[0;34m)\u001b[0m\u001b[0;34m\u001b[0m\u001b[0m\n\u001b[1;32m    306\u001b[0m \u001b[0;34m\u001b[0m\u001b[0m\n\u001b[0;32m--> 307\u001b[0;31m             \u001b[0mfig\u001b[0m\u001b[0;34m,\u001b[0m \u001b[0maxes\u001b[0m \u001b[0;34m=\u001b[0m \u001b[0mplt\u001b[0m\u001b[0;34m.\u001b[0m\u001b[0msubplots\u001b[0m\u001b[0;34m(\u001b[0m\u001b[0mnrow\u001b[0m\u001b[0;34m,\u001b[0m \u001b[0mncol\u001b[0m\u001b[0;34m,\u001b[0m \u001b[0;34m**\u001b[0m\u001b[0mkwargs\u001b[0m\u001b[0;34m)\u001b[0m\u001b[0;34m\u001b[0m\u001b[0m\n\u001b[0m\u001b[1;32m    308\u001b[0m             \u001b[0mself\u001b[0m\u001b[0;34m.\u001b[0m\u001b[0maxes\u001b[0m \u001b[0;34m=\u001b[0m \u001b[0maxes\u001b[0m\u001b[0;34m\u001b[0m\u001b[0m\n\u001b[1;32m    309\u001b[0m \u001b[0;34m\u001b[0m\u001b[0m\n",
      "\u001b[0;31mTypeError\u001b[0m: 'bool' object is not callable"
     ]
    }
   ],
   "source": [
    "sns.lmplot(x='SedFracht', y='Cadmium', data=passau_stoffe_subset)"
   ]
  },
  {
   "cell_type": "code",
   "execution_count": 417,
   "metadata": {
    "collapsed": false
   },
   "outputs": [],
   "source": [
    "passau_jahr = passau.groupby(by=passau.index.year).sum()"
   ]
  },
  {
   "cell_type": "code",
   "execution_count": 419,
   "metadata": {
    "collapsed": false
   },
   "outputs": [],
   "source": [
    "passau_jahr.to_excel('passau_jahr.xls')"
   ]
  },
  {
   "cell_type": "code",
   "execution_count": 420,
   "metadata": {
    "collapsed": false
   },
   "outputs": [
    {
     "data": {
      "text/html": [
       "<div>\n",
       "<table border=\"1\" class=\"dataframe\">\n",
       "  <thead>\n",
       "    <tr style=\"text-align: right;\">\n",
       "      <th></th>\n",
       "      <th>Sedfracht</th>\n",
       "    </tr>\n",
       "  </thead>\n",
       "  <tbody>\n",
       "    <tr>\n",
       "      <th>2000</th>\n",
       "      <td>4692807.581</td>\n",
       "    </tr>\n",
       "    <tr>\n",
       "      <th>2001</th>\n",
       "      <td>5595742.153</td>\n",
       "    </tr>\n",
       "    <tr>\n",
       "      <th>2002</th>\n",
       "      <td>8087801.919</td>\n",
       "    </tr>\n",
       "    <tr>\n",
       "      <th>2003</th>\n",
       "      <td>1916180.423</td>\n",
       "    </tr>\n",
       "    <tr>\n",
       "      <th>2004</th>\n",
       "      <td>3572580.887</td>\n",
       "    </tr>\n",
       "    <tr>\n",
       "      <th>2005</th>\n",
       "      <td>8163935.395</td>\n",
       "    </tr>\n",
       "    <tr>\n",
       "      <th>2006</th>\n",
       "      <td>5001711.376</td>\n",
       "    </tr>\n",
       "    <tr>\n",
       "      <th>2007</th>\n",
       "      <td>2891563.497</td>\n",
       "    </tr>\n",
       "    <tr>\n",
       "      <th>2008</th>\n",
       "      <td>4333513.508</td>\n",
       "    </tr>\n",
       "    <tr>\n",
       "      <th>2009</th>\n",
       "      <td>3870148.220</td>\n",
       "    </tr>\n",
       "    <tr>\n",
       "      <th>2010</th>\n",
       "      <td>6224991.862</td>\n",
       "    </tr>\n",
       "    <tr>\n",
       "      <th>2011</th>\n",
       "      <td>2216659.308</td>\n",
       "    </tr>\n",
       "    <tr>\n",
       "      <th>2012</th>\n",
       "      <td>3809658.547</td>\n",
       "    </tr>\n",
       "    <tr>\n",
       "      <th>2013</th>\n",
       "      <td>3366337.429</td>\n",
       "    </tr>\n",
       "  </tbody>\n",
       "</table>\n",
       "</div>"
      ],
      "text/plain": [
       "        Sedfracht\n",
       "2000  4692807.581\n",
       "2001  5595742.153\n",
       "2002  8087801.919\n",
       "2003  1916180.423\n",
       "2004  3572580.887\n",
       "2005  8163935.395\n",
       "2006  5001711.376\n",
       "2007  2891563.497\n",
       "2008  4333513.508\n",
       "2009  3870148.220\n",
       "2010  6224991.862\n",
       "2011  2216659.308\n",
       "2012  3809658.547\n",
       "2013  3366337.429"
      ]
     },
     "execution_count": 420,
     "metadata": {},
     "output_type": "execute_result"
    }
   ],
   "source": [
    "passau_jahr"
   ]
  },
  {
   "cell_type": "code",
   "execution_count": 2,
   "metadata": {
    "collapsed": false
   },
   "outputs": [
    {
     "name": "stdout",
     "output_type": "stream",
     "text": [
      "D:\\Projekte\\Innprojekt\\Auswertungen\\Sedimenteintrag\\SDR_neu_Inn\\gemessen\n"
     ]
    }
   ],
   "source": [
    "% cd D:\\Projekte\\Innprojekt\\Auswertungen\\Sedimenteintrag\\SDR_neu_Inn\\gemessen"
   ]
  },
  {
   "cell_type": "code",
   "execution_count": 109,
   "metadata": {
    "collapsed": false,
    "scrolled": true
   },
   "outputs": [],
   "source": [
    "vent = pd.read_csv('Schwebstoff-Tagesfracht-201350.csv', decimal=',', sep=';', header=29, \n",
    "                   #encoding = 'ISO-8859-1', \n",
    "                   encoding = 'latin-1',\n",
    "                   #dtype={'Sedfracht':np.float64},\n",
    "                   index_col=0, parse_dates=True, dayfirst=True, infer_datetime_format=True, \n",
    "                   usecols=[0,1], names=['Datum', 'Sedfracht'], \n",
    "                   #na_values=['L\\xfccke']\n",
    "                   #na_values=['L\\u00fccke    ']\n",
    "                   na_values='Lücke    '.encode(encoding='latin-1')\n",
    "                  )"
   ]
  },
  {
   "cell_type": "code",
   "execution_count": null,
   "metadata": {
    "collapsed": true
   },
   "outputs": [],
   "source": [
    "vent_series = vent['Sedfracht']\n",
    "\n",
    "vent_jahr = vent.groupby(by=vent.index.year).sum()\n",
    "\n",
    "vent_jahr['Anzahl'] = vent.groupby(by=vent.index.year).count()"
   ]
  },
  {
   "cell_type": "code",
   "execution_count": 120,
   "metadata": {
    "collapsed": false
   },
   "outputs": [
    {
     "data": {
      "text/html": [
       "<div>\n",
       "<table border=\"1\" class=\"dataframe\">\n",
       "  <thead>\n",
       "    <tr style=\"text-align: right;\">\n",
       "      <th></th>\n",
       "      <th>Sedfracht</th>\n",
       "      <th>Anzahl</th>\n",
       "    </tr>\n",
       "  </thead>\n",
       "  <tbody>\n",
       "    <tr>\n",
       "      <th>2008</th>\n",
       "      <td>152567.1</td>\n",
       "      <td>184</td>\n",
       "    </tr>\n",
       "    <tr>\n",
       "      <th>2009</th>\n",
       "      <td>146898.1</td>\n",
       "      <td>184</td>\n",
       "    </tr>\n",
       "    <tr>\n",
       "      <th>2010</th>\n",
       "      <td>154528.5</td>\n",
       "      <td>184</td>\n",
       "    </tr>\n",
       "    <tr>\n",
       "      <th>2011</th>\n",
       "      <td>151119.6</td>\n",
       "      <td>184</td>\n",
       "    </tr>\n",
       "    <tr>\n",
       "      <th>2012</th>\n",
       "      <td>199495.1</td>\n",
       "      <td>184</td>\n",
       "    </tr>\n",
       "    <tr>\n",
       "      <th>2013</th>\n",
       "      <td>72018.7</td>\n",
       "      <td>184</td>\n",
       "    </tr>\n",
       "  </tbody>\n",
       "</table>\n",
       "</div>"
      ],
      "text/plain": [
       "      Sedfracht  Anzahl\n",
       "2008   152567.1     184\n",
       "2009   146898.1     184\n",
       "2010   154528.5     184\n",
       "2011   151119.6     184\n",
       "2012   199495.1     184\n",
       "2013    72018.7     184"
      ]
     },
     "execution_count": 120,
     "metadata": {},
     "output_type": "execute_result"
    }
   ],
   "source": [
    "vent_jahr"
   ]
  },
  {
   "cell_type": "code",
   "execution_count": 123,
   "metadata": {
    "collapsed": true
   },
   "outputs": [],
   "source": [
    "koessen = pd.read_csv('Schwebstoff-Tagesfracht-202382.csv', decimal=',', sep=';', header=29, \n",
    "                   #encoding = 'ISO-8859-1', \n",
    "                   encoding = 'latin-1',\n",
    "                   #dtype={'Sedfracht':np.float64},\n",
    "                   index_col=0, parse_dates=True, dayfirst=True, infer_datetime_format=True, \n",
    "                   usecols=[0,1], names=['Datum', 'Sedfracht'], \n",
    "                   #na_values=['L\\xfccke']\n",
    "                   #na_values=['L\\u00fccke    ']\n",
    "                   na_values='Lücke    '.encode(encoding='latin-1')\n",
    "                  )"
   ]
  },
  {
   "cell_type": "code",
   "execution_count": 124,
   "metadata": {
    "collapsed": true
   },
   "outputs": [],
   "source": [
    "koessen_series = koessen['Sedfracht']\n",
    "\n",
    "koessen_jahr = koessen.groupby(by=koessen.index.year).sum()\n",
    "\n",
    "koessen_jahr['Anzahl'] = koessen.groupby(by=koessen.index.year).count()"
   ]
  },
  {
   "cell_type": "code",
   "execution_count": 125,
   "metadata": {
    "collapsed": false,
    "scrolled": true
   },
   "outputs": [
    {
     "data": {
      "text/html": [
       "<div>\n",
       "<table border=\"1\" class=\"dataframe\">\n",
       "  <thead>\n",
       "    <tr style=\"text-align: right;\">\n",
       "      <th></th>\n",
       "      <th>Sedfracht</th>\n",
       "      <th>Anzahl</th>\n",
       "    </tr>\n",
       "  </thead>\n",
       "  <tbody>\n",
       "    <tr>\n",
       "      <th>2008</th>\n",
       "      <td>164824.3</td>\n",
       "      <td>366</td>\n",
       "    </tr>\n",
       "    <tr>\n",
       "      <th>2009</th>\n",
       "      <td>265521.2</td>\n",
       "      <td>365</td>\n",
       "    </tr>\n",
       "    <tr>\n",
       "      <th>2010</th>\n",
       "      <td>356027.0</td>\n",
       "      <td>365</td>\n",
       "    </tr>\n",
       "    <tr>\n",
       "      <th>2011</th>\n",
       "      <td>150142.6</td>\n",
       "      <td>365</td>\n",
       "    </tr>\n",
       "    <tr>\n",
       "      <th>2012</th>\n",
       "      <td>253720.5</td>\n",
       "      <td>366</td>\n",
       "    </tr>\n",
       "    <tr>\n",
       "      <th>2013</th>\n",
       "      <td>828267.0</td>\n",
       "      <td>365</td>\n",
       "    </tr>\n",
       "  </tbody>\n",
       "</table>\n",
       "</div>"
      ],
      "text/plain": [
       "      Sedfracht  Anzahl\n",
       "2008   164824.3     366\n",
       "2009   265521.2     365\n",
       "2010   356027.0     365\n",
       "2011   150142.6     365\n",
       "2012   253720.5     366\n",
       "2013   828267.0     365"
      ]
     },
     "execution_count": 125,
     "metadata": {},
     "output_type": "execute_result"
    }
   ],
   "source": [
    "koessen_jahr"
   ]
  },
  {
   "cell_type": "code",
   "execution_count": 129,
   "metadata": {
    "collapsed": true
   },
   "outputs": [],
   "source": [
    "landeck_br = pd.read_csv('Schwebstoff-Tagesfracht-202036.csv', decimal=',', sep=';', header=30, \n",
    "                   #encoding = 'ISO-8859-1', \n",
    "                   encoding = 'latin-1',\n",
    "                   #dtype={'Sedfracht':np.float64},\n",
    "                   index_col=0, parse_dates=True, dayfirst=True, infer_datetime_format=True, \n",
    "                   usecols=[0,1], names=['Datum', 'Sedfracht'], \n",
    "                   #na_values=['L\\xfccke']\n",
    "                   #na_values=['L\\u00fccke    ']\n",
    "                   na_values='Lücke    '.encode(encoding='latin-1')\n",
    "                  )"
   ]
  },
  {
   "cell_type": "code",
   "execution_count": 131,
   "metadata": {
    "collapsed": false
   },
   "outputs": [],
   "source": [
    "landeck_br_series = landeck_br['Sedfracht']\n",
    "\n",
    "landeck_br_jahr = landeck_br.groupby(by=landeck_br.index.year).sum()\n",
    "\n",
    "landeck_br_jahr['Anzahl'] = landeck_br.groupby(by=landeck_br.index.year).count()"
   ]
  },
  {
   "cell_type": "code",
   "execution_count": 132,
   "metadata": {
    "collapsed": false
   },
   "outputs": [
    {
     "data": {
      "text/html": [
       "<div>\n",
       "<table border=\"1\" class=\"dataframe\">\n",
       "  <thead>\n",
       "    <tr style=\"text-align: right;\">\n",
       "      <th></th>\n",
       "      <th>Sedfracht</th>\n",
       "      <th>Anzahl</th>\n",
       "    </tr>\n",
       "  </thead>\n",
       "  <tbody>\n",
       "    <tr>\n",
       "      <th>2008</th>\n",
       "      <td>170833.1</td>\n",
       "      <td>366</td>\n",
       "    </tr>\n",
       "    <tr>\n",
       "      <th>2009</th>\n",
       "      <td>50897.9</td>\n",
       "      <td>365</td>\n",
       "    </tr>\n",
       "    <tr>\n",
       "      <th>2010</th>\n",
       "      <td>378974.1</td>\n",
       "      <td>365</td>\n",
       "    </tr>\n",
       "    <tr>\n",
       "      <th>2011</th>\n",
       "      <td>67997.3</td>\n",
       "      <td>365</td>\n",
       "    </tr>\n",
       "    <tr>\n",
       "      <th>2012</th>\n",
       "      <td>158676.2</td>\n",
       "      <td>366</td>\n",
       "    </tr>\n",
       "    <tr>\n",
       "      <th>2013</th>\n",
       "      <td>168689.6</td>\n",
       "      <td>365</td>\n",
       "    </tr>\n",
       "  </tbody>\n",
       "</table>\n",
       "</div>"
      ],
      "text/plain": [
       "      Sedfracht  Anzahl\n",
       "2008   170833.1     366\n",
       "2009    50897.9     365\n",
       "2010   378974.1     365\n",
       "2011    67997.3     365\n",
       "2012   158676.2     366\n",
       "2013   168689.6     365"
      ]
     },
     "execution_count": 132,
     "metadata": {},
     "output_type": "execute_result"
    }
   ],
   "source": [
    "landeck_br_jahr"
   ]
  },
  {
   "cell_type": "code",
   "execution_count": 134,
   "metadata": {
    "collapsed": true
   },
   "outputs": [],
   "source": [
    "bruckhaeusl = pd.read_csv('Schwebstoff-Tagesfracht-201863.csv', decimal=',', sep=';', header=30, \n",
    "                   #encoding = 'ISO-8859-1', \n",
    "                   encoding = 'latin-1',\n",
    "                   #dtype={'Sedfracht':np.float64},\n",
    "                   index_col=0, parse_dates=True, dayfirst=True, infer_datetime_format=True, \n",
    "                   usecols=[0,1], names=['Datum', 'Sedfracht'], \n",
    "                   #na_values=['L\\xfccke']\n",
    "                   #na_values=['L\\u00fccke    ']\n",
    "                   na_values='Lücke    '.encode(encoding='latin-1')\n",
    "                  )"
   ]
  },
  {
   "cell_type": "code",
   "execution_count": 136,
   "metadata": {
    "collapsed": false
   },
   "outputs": [],
   "source": [
    "bruckhaeusl_series = bruckhaeusl['Sedfracht']\n",
    "\n",
    "bruckhaeusl_jahr = bruckhaeusl.groupby(by=bruckhaeusl.index.year).sum()\n",
    "\n",
    "bruckhaeusl_jahr['Anzahl'] = bruckhaeusl.groupby(by=bruckhaeusl.index.year).count()"
   ]
  },
  {
   "cell_type": "code",
   "execution_count": 137,
   "metadata": {
    "collapsed": false,
    "scrolled": true
   },
   "outputs": [
    {
     "data": {
      "text/html": [
       "<div>\n",
       "<table border=\"1\" class=\"dataframe\">\n",
       "  <thead>\n",
       "    <tr style=\"text-align: right;\">\n",
       "      <th></th>\n",
       "      <th>Sedfracht</th>\n",
       "      <th>Anzahl</th>\n",
       "    </tr>\n",
       "  </thead>\n",
       "  <tbody>\n",
       "    <tr>\n",
       "      <th>2008</th>\n",
       "      <td>71813.2</td>\n",
       "      <td>366</td>\n",
       "    </tr>\n",
       "    <tr>\n",
       "      <th>2009</th>\n",
       "      <td>59690.5</td>\n",
       "      <td>365</td>\n",
       "    </tr>\n",
       "    <tr>\n",
       "      <th>2010</th>\n",
       "      <td>114665.1</td>\n",
       "      <td>365</td>\n",
       "    </tr>\n",
       "    <tr>\n",
       "      <th>2011</th>\n",
       "      <td>47640.2</td>\n",
       "      <td>365</td>\n",
       "    </tr>\n",
       "    <tr>\n",
       "      <th>2012</th>\n",
       "      <td>122810.6</td>\n",
       "      <td>366</td>\n",
       "    </tr>\n",
       "    <tr>\n",
       "      <th>2013</th>\n",
       "      <td>348501.2</td>\n",
       "      <td>365</td>\n",
       "    </tr>\n",
       "  </tbody>\n",
       "</table>\n",
       "</div>"
      ],
      "text/plain": [
       "      Sedfracht  Anzahl\n",
       "2008    71813.2     366\n",
       "2009    59690.5     365\n",
       "2010   114665.1     365\n",
       "2011    47640.2     365\n",
       "2012   122810.6     366\n",
       "2013   348501.2     365"
      ]
     },
     "execution_count": 137,
     "metadata": {},
     "output_type": "execute_result"
    }
   ],
   "source": [
    "bruckhaeusl_jahr"
   ]
  },
  {
   "cell_type": "code",
   "execution_count": 140,
   "metadata": {
    "collapsed": true
   },
   "outputs": [],
   "source": [
    "innsbr_reichenau = pd.read_csv('Schwebstoff-Tagesfracht-201624.csv', decimal=',', sep=';', header=33, \n",
    "                   #encoding = 'ISO-8859-1', \n",
    "                   encoding = 'latin-1',\n",
    "                   #dtype={'Sedfracht':np.float64},\n",
    "                   index_col=0, parse_dates=True, dayfirst=True, infer_datetime_format=True, \n",
    "                   usecols=[0,1], names=['Datum', 'Sedfracht'], \n",
    "                   #na_values=['L\\xfccke']\n",
    "                   #na_values=['L\\u00fccke    ']\n",
    "                   na_values='Lücke    '.encode(encoding='latin-1')\n",
    "                  )"
   ]
  },
  {
   "cell_type": "code",
   "execution_count": 142,
   "metadata": {
    "collapsed": false
   },
   "outputs": [],
   "source": [
    "innsbr_reichenau_series = innsbr_reichenau['Sedfracht']\n",
    "\n",
    "innsbr_reichenau_jahr = innsbr_reichenau.groupby(by=innsbr_reichenau.index.year).sum()\n",
    "\n",
    "innsbr_reichenau_jahr['Anzahl'] = innsbr_reichenau.groupby(by=innsbr_reichenau.index.year).count()"
   ]
  },
  {
   "cell_type": "code",
   "execution_count": 143,
   "metadata": {
    "collapsed": false,
    "scrolled": true
   },
   "outputs": [
    {
     "data": {
      "text/html": [
       "<div>\n",
       "<table border=\"1\" class=\"dataframe\">\n",
       "  <thead>\n",
       "    <tr style=\"text-align: right;\">\n",
       "      <th></th>\n",
       "      <th>Sedfracht</th>\n",
       "      <th>Anzahl</th>\n",
       "    </tr>\n",
       "  </thead>\n",
       "  <tbody>\n",
       "    <tr>\n",
       "      <th>2009</th>\n",
       "      <td>133564.3</td>\n",
       "      <td>365</td>\n",
       "    </tr>\n",
       "    <tr>\n",
       "      <th>2010</th>\n",
       "      <td>115137.0</td>\n",
       "      <td>365</td>\n",
       "    </tr>\n",
       "    <tr>\n",
       "      <th>2011</th>\n",
       "      <td>82394.9</td>\n",
       "      <td>365</td>\n",
       "    </tr>\n",
       "    <tr>\n",
       "      <th>2012</th>\n",
       "      <td>378428.9</td>\n",
       "      <td>366</td>\n",
       "    </tr>\n",
       "    <tr>\n",
       "      <th>2013</th>\n",
       "      <td>147390.9</td>\n",
       "      <td>365</td>\n",
       "    </tr>\n",
       "  </tbody>\n",
       "</table>\n",
       "</div>"
      ],
      "text/plain": [
       "      Sedfracht  Anzahl\n",
       "2009   133564.3     365\n",
       "2010   115137.0     365\n",
       "2011    82394.9     365\n",
       "2012   378428.9     366\n",
       "2013   147390.9     365"
      ]
     },
     "execution_count": 143,
     "metadata": {},
     "output_type": "execute_result"
    }
   ],
   "source": [
    "innsbr_reichenau_jahr"
   ]
  },
  {
   "cell_type": "code",
   "execution_count": 144,
   "metadata": {
    "collapsed": true
   },
   "outputs": [],
   "source": [
    "tumpen = pd.read_csv('Schwebstoff-Tagesfracht-201434.csv', decimal=',', sep=';', header=30, \n",
    "                   #encoding = 'ISO-8859-1', \n",
    "                   encoding = 'latin-1',\n",
    "                   #dtype={'Sedfracht':np.float64},\n",
    "                   index_col=0, parse_dates=True, dayfirst=True, infer_datetime_format=True, \n",
    "                   usecols=[0,1], names=['Datum', 'Sedfracht'], \n",
    "                   #na_values=['L\\xfccke']\n",
    "                   #na_values=['L\\u00fccke    ']\n",
    "                   na_values='Lücke    '.encode(encoding='latin-1')\n",
    "                  )"
   ]
  },
  {
   "cell_type": "code",
   "execution_count": 145,
   "metadata": {
    "collapsed": true
   },
   "outputs": [],
   "source": [
    "tumpen_series = tumpen['Sedfracht']\n",
    "\n",
    "tumpen_jahr = tumpen.groupby(by=tumpen.index.year).sum()\n",
    "\n",
    "tumpen_jahr['Anzahl'] = tumpen.groupby(by=tumpen.index.year).count()"
   ]
  },
  {
   "cell_type": "code",
   "execution_count": 146,
   "metadata": {
    "collapsed": false
   },
   "outputs": [
    {
     "data": {
      "text/html": [
       "<div>\n",
       "<table border=\"1\" class=\"dataframe\">\n",
       "  <thead>\n",
       "    <tr style=\"text-align: right;\">\n",
       "      <th></th>\n",
       "      <th>Sedfracht</th>\n",
       "      <th>Anzahl</th>\n",
       "    </tr>\n",
       "  </thead>\n",
       "  <tbody>\n",
       "    <tr>\n",
       "      <th>2008</th>\n",
       "      <td>635842.6</td>\n",
       "      <td>306</td>\n",
       "    </tr>\n",
       "    <tr>\n",
       "      <th>2009</th>\n",
       "      <td>339991.0</td>\n",
       "      <td>365</td>\n",
       "    </tr>\n",
       "    <tr>\n",
       "      <th>2010</th>\n",
       "      <td>696082.0</td>\n",
       "      <td>365</td>\n",
       "    </tr>\n",
       "    <tr>\n",
       "      <th>2011</th>\n",
       "      <td>652551.7</td>\n",
       "      <td>365</td>\n",
       "    </tr>\n",
       "    <tr>\n",
       "      <th>2012</th>\n",
       "      <td>921718.0</td>\n",
       "      <td>366</td>\n",
       "    </tr>\n",
       "    <tr>\n",
       "      <th>2013</th>\n",
       "      <td>582111.0</td>\n",
       "      <td>365</td>\n",
       "    </tr>\n",
       "  </tbody>\n",
       "</table>\n",
       "</div>"
      ],
      "text/plain": [
       "      Sedfracht  Anzahl\n",
       "2008   635842.6     306\n",
       "2009   339991.0     365\n",
       "2010   696082.0     365\n",
       "2011   652551.7     365\n",
       "2012   921718.0     366\n",
       "2013   582111.0     365"
      ]
     },
     "execution_count": 146,
     "metadata": {},
     "output_type": "execute_result"
    }
   ],
   "source": [
    "tumpen_jahr"
   ]
  },
  {
   "cell_type": "code",
   "execution_count": 153,
   "metadata": {
    "collapsed": false
   },
   "outputs": [],
   "source": [
    "vent_q = pd.read_csv('Q-Tagesmittel-201350.csv', header=20, delimiter=';',\n",
    "                     index_col=0, parse_dates=True, dayfirst=True, infer_datetime_format=True, \n",
    "                     usecols=[0,2], names=['Datum', 'Abfluss'], )"
   ]
  },
  {
   "cell_type": "code",
   "execution_count": 155,
   "metadata": {
    "collapsed": false
   },
   "outputs": [],
   "source": [
    "vent_q_series = vent_q['Abfluss']\n",
    "\n",
    "vent_q_jahr = vent_q.groupby(by=vent_q.index.year).mean()\n",
    "\n",
    "vent_q_jahr['Anzahl'] = vent_q.groupby(by=vent_q.index.year).count()"
   ]
  },
  {
   "cell_type": "code",
   "execution_count": 159,
   "metadata": {
    "collapsed": false
   },
   "outputs": [
    {
     "data": {
      "text/html": [
       "<div>\n",
       "<table border=\"1\" class=\"dataframe\">\n",
       "  <thead>\n",
       "    <tr style=\"text-align: right;\">\n",
       "      <th></th>\n",
       "      <th>Abfluss</th>\n",
       "      <th>Anzahl</th>\n",
       "    </tr>\n",
       "  </thead>\n",
       "  <tbody>\n",
       "    <tr>\n",
       "      <th>2008</th>\n",
       "      <td>4.730656</td>\n",
       "      <td>366</td>\n",
       "    </tr>\n",
       "  </tbody>\n",
       "</table>\n",
       "</div>"
      ],
      "text/plain": [
       "       Abfluss  Anzahl\n",
       "2008  4.730656     366"
      ]
     },
     "execution_count": 159,
     "metadata": {},
     "output_type": "execute_result"
    }
   ],
   "source": [
    "vent_q_jahr[vent_q_jahr.index == 2008]"
   ]
  },
  {
   "cell_type": "code",
   "execution_count": 187,
   "metadata": {
    "collapsed": true
   },
   "outputs": [],
   "source": [
    "def gkdby_csv_import(datei):\n",
    "    import pandas as pd\n",
    "    daten = pd.read_csv(datei, infer_datetime_format=True, dayfirst=True, delimiter=';', decimal=',', header=9, index_col=0, \n",
    "                        names=('Datum', 'dailyMeanConc', 'dailyavgQ', 'Pruefstatus'),\n",
    "                       usecols=('Datum','dailyMeanConc', 'dailyavgQ'))\n",
    "    daten.index = pd.to_datetime(daten.index) #, errors=coerce\n",
    "    #daten['dailyavgQ'] = pd.to_numeric(daten['dailyavgQ'], errors='coerce')\n",
    "    #daten['dailyMeanConc'] = pd.to_numeric(daten['dailyMeanConc'], errors='coerce')\n",
    "    daten['dailySedFracht [t]'] = daten['dailyavgQ'] * daten['dailyMeanConc'] * 60 * 60 * 24 / 1000000\n",
    "    return daten"
   ]
  },
  {
   "cell_type": "code",
   "execution_count": 184,
   "metadata": {
    "collapsed": false
   },
   "outputs": [],
   "source": [
    "def SedSumme_tabelle(location_sed):\n",
    "    summen_tab = pd.DataFrame()\n",
    "    summen_tab['SedFrachtJahresSumme'] = location_sed.groupby(by=location_sed.index.year).sum()\n",
    "    summen_tab['SedFrachtCounts'] = pd.value_counts(location_sed.index.year, sort=False)\n",
    "    print('mean of all years:'+str(location_sed.groupby(by=location_sed.index.year).sum().mean()))\n",
    "    return summen_tab"
   ]
  },
  {
   "cell_type": "code",
   "execution_count": 188,
   "metadata": {
    "collapsed": false
   },
   "outputs": [],
   "source": [
    "linden = gkdby_csv_import('konzentration_18803805.csv')"
   ]
  },
  {
   "cell_type": "code",
   "execution_count": 189,
   "metadata": {
    "collapsed": false,
    "scrolled": true
   },
   "outputs": [
    {
     "data": {
      "text/html": [
       "<div>\n",
       "<table border=\"1\" class=\"dataframe\">\n",
       "  <thead>\n",
       "    <tr style=\"text-align: right;\">\n",
       "      <th></th>\n",
       "      <th>dailyMeanConc</th>\n",
       "      <th>dailyavgQ</th>\n",
       "      <th>dailySedFracht [t]</th>\n",
       "    </tr>\n",
       "    <tr>\n",
       "      <th>Datum</th>\n",
       "      <th></th>\n",
       "      <th></th>\n",
       "      <th></th>\n",
       "    </tr>\n",
       "  </thead>\n",
       "  <tbody>\n",
       "    <tr>\n",
       "      <th>2012-06-17</th>\n",
       "      <td>31.0</td>\n",
       "      <td>2.1</td>\n",
       "      <td>5.624640</td>\n",
       "    </tr>\n",
       "    <tr>\n",
       "      <th>2012-06-18</th>\n",
       "      <td>25.6</td>\n",
       "      <td>1.8</td>\n",
       "      <td>3.981312</td>\n",
       "    </tr>\n",
       "    <tr>\n",
       "      <th>2012-06-19</th>\n",
       "      <td>28.7</td>\n",
       "      <td>2.3</td>\n",
       "      <td>5.703264</td>\n",
       "    </tr>\n",
       "    <tr>\n",
       "      <th>2012-06-20</th>\n",
       "      <td>27.0</td>\n",
       "      <td>2.3</td>\n",
       "      <td>5.365440</td>\n",
       "    </tr>\n",
       "    <tr>\n",
       "      <th>2012-06-21</th>\n",
       "      <td>41.7</td>\n",
       "      <td>5.2</td>\n",
       "      <td>18.734976</td>\n",
       "    </tr>\n",
       "  </tbody>\n",
       "</table>\n",
       "</div>"
      ],
      "text/plain": [
       "            dailyMeanConc  dailyavgQ  dailySedFracht [t]\n",
       "Datum                                                   \n",
       "2012-06-17           31.0        2.1            5.624640\n",
       "2012-06-18           25.6        1.8            3.981312\n",
       "2012-06-19           28.7        2.3            5.703264\n",
       "2012-06-20           27.0        2.3            5.365440\n",
       "2012-06-21           41.7        5.2           18.734976"
      ]
     },
     "execution_count": 189,
     "metadata": {},
     "output_type": "execute_result"
    }
   ],
   "source": [
    "linden.head()"
   ]
  },
  {
   "cell_type": "code",
   "execution_count": 210,
   "metadata": {
    "collapsed": false
   },
   "outputs": [
    {
     "data": {
      "text/plain": [
       "dailyMeanConc          973.3000\n",
       "dailyavgQ              148.0000\n",
       "dailySedFracht [t]    9626.5152\n",
       "dtype: float64"
      ]
     },
     "execution_count": 210,
     "metadata": {},
     "output_type": "execute_result"
    }
   ],
   "source": [
    "linden.max()"
   ]
  },
  {
   "cell_type": "code",
   "execution_count": 191,
   "metadata": {
    "collapsed": false
   },
   "outputs": [
    {
     "name": "stdout",
     "output_type": "stream",
     "text": [
      "mean of all years:12723.6239424\n"
     ]
    },
    {
     "data": {
      "text/html": [
       "<div>\n",
       "<table border=\"1\" class=\"dataframe\">\n",
       "  <thead>\n",
       "    <tr style=\"text-align: right;\">\n",
       "      <th></th>\n",
       "      <th>SedFrachtJahresSumme</th>\n",
       "      <th>SedFrachtCounts</th>\n",
       "    </tr>\n",
       "  </thead>\n",
       "  <tbody>\n",
       "    <tr>\n",
       "      <th>2012</th>\n",
       "      <td>8172.874080</td>\n",
       "      <td>198</td>\n",
       "    </tr>\n",
       "    <tr>\n",
       "      <th>2013</th>\n",
       "      <td>31799.552832</td>\n",
       "      <td>365</td>\n",
       "    </tr>\n",
       "    <tr>\n",
       "      <th>2014</th>\n",
       "      <td>4968.774144</td>\n",
       "      <td>365</td>\n",
       "    </tr>\n",
       "    <tr>\n",
       "      <th>2015</th>\n",
       "      <td>6271.737120</td>\n",
       "      <td>365</td>\n",
       "    </tr>\n",
       "    <tr>\n",
       "      <th>2016</th>\n",
       "      <td>12405.181536</td>\n",
       "      <td>270</td>\n",
       "    </tr>\n",
       "  </tbody>\n",
       "</table>\n",
       "</div>"
      ],
      "text/plain": [
       "      SedFrachtJahresSumme  SedFrachtCounts\n",
       "2012           8172.874080              198\n",
       "2013          31799.552832              365\n",
       "2014           4968.774144              365\n",
       "2015           6271.737120              365\n",
       "2016          12405.181536              270"
      ]
     },
     "execution_count": 191,
     "metadata": {},
     "output_type": "execute_result"
    }
   ],
   "source": [
    "SedSumme_tabelle(linden['dailySedFracht [t]'])"
   ]
  },
  {
   "cell_type": "code",
   "execution_count": 209,
   "metadata": {
    "collapsed": false,
    "scrolled": false
   },
   "outputs": [
    {
     "data": {
      "text/plain": [
       "array([<matplotlib.axes._subplots.AxesSubplot object at 0x000000000B09BA20>,\n",
       "       <matplotlib.axes._subplots.AxesSubplot object at 0x000000000AEC3DA0>,\n",
       "       <matplotlib.axes._subplots.AxesSubplot object at 0x000000000AD42A20>], dtype=object)"
      ]
     },
     "execution_count": 209,
     "metadata": {},
     "output_type": "execute_result"
    },
    {
     "data": {
      "image/png": "[encoded data removed]",
      "text/plain": [
       "<matplotlib.figure.Figure at 0xb41fdd8>"
      ]
     },
     "metadata": {},
     "output_type": "display_data"
    }
   ],
   "source": [
    "linden.plot(subplots=True, figsize=(12,12))"
   ]
  },
  {
   "cell_type": "markdown",
   "metadata": {},
   "source": [
    "### PCA/FA/RegrA für\n",
    "\n",
    "- BI_PREC_jan ... dez (Mean, Sum, Max)\n",
    "- IM_PREC_s / w / a (Mean, Sum, Max)\n",
    "\n",
    "\n",
    "- BI_Q_dir_LARSIM_net (Mean, Sum, Max)\n",
    "\n",
    "\n",
    "- IM_A.... WS (für Seen)\n",
    "\n",
    "\n",
    "- BI_A_AL Fläche Ackerlands vs Offene/Nat?\n",
    "\n",
    "\n",
    "- MeanElev, MeanDist2Stream, ElevAbvStream, slope, streampowerindex, TWI, TRI, Sed transport index\n",
    "\n",
    "\n",
    "---> Im Vergleich zu RUSLE/SED_fracht\n",
    "\n",
    "[RUSLE-MoRE = ER_mnt_SL + ER_agrl_SL + ER_nat_SL * ER_FCT_corr_FCT_r_ABAG]\n"
   ]
  },
  {
   "cell_type": "code",
   "execution_count": 221,
   "metadata": {
    "collapsed": false
   },
   "outputs": [
    {
     "name": "stdout",
     "output_type": "stream",
     "text": [
      "1492.1483721973648\n"
     ]
    }
   ],
   "source": [
    "ER_nat_SL_spec = 16.5553662479291\n",
    "BI_A_NAT = 0.961\n",
    "print(ER_nat_SL_spec * BI_A_NAT * 100 * ER_FCT_corr_FCT_r_ABAG)"
   ]
  },
  {
   "cell_type": "code",
   "execution_count": 215,
   "metadata": {
    "collapsed": false
   },
   "outputs": [],
   "source": [
    "ER_mnt_SL = 25225.936883374\n",
    "ER_nat_SL = 1491.46046738259\n",
    "ER_agrl_SL_PST = 2553.46772516311\n",
    "ER_agrl_SL_AL = 0\n",
    "ER_agrl_SL = ER_agrl_SL_PST + ER_agrl_SL_AL\n",
    "\n",
    "ER_SDR = 6.55468202201207\n",
    "ER_FCT_corr_FCT_r_ABAG = 0.937885515773094"
   ]
  },
  {
   "cell_type": "code",
   "execution_count": 218,
   "metadata": {
    "collapsed": false
   },
   "outputs": [
    {
     "name": "stdout",
     "output_type": "stream",
     "text": [
      "26884.76904067574\n"
     ]
    }
   ],
   "source": [
    "ER_E_SED = ER_agrl_SL * ER_SDR / 100 + ER_nat_SL + ER_mnt_SL\n",
    "print(ER_E_SED)"
   ]
  },
  {
   "cell_type": "markdown",
   "metadata": {},
   "source": [
    "SPI:\n",
    "\n",
    "https://beaver.nrri.umn.edu/EcolRank/water-quality/\n",
    "http://www.saga-gis.org/saga_tool_doc/2.3.0/ta_hydrology_21.html\n",
    "\n",
    "TWI:\n",
    "\n",
    "http://gis4geomorphology.com/topographic-index-model/\n",
    "http://www.hydrol-earth-syst-sci.net/10/101/2006/hess-10-101-2006.pdf\n",
    "\n",
    "TRI:\n",
    "\n",
    "http://gis4geomorphology.com/roughness-topographic-position/\n",
    "\n",
    "\n",
    "SedTransIndex:\n",
    "\n",
    "http://christine-gisrocks.blogspot.de/2012/03/sediment-transport-index.html\n",
    "\n",
    "\n",
    "\n",
    "\n"
   ]
  },
  {
   "cell_type": "code",
   "execution_count": 237,
   "metadata": {
    "collapsed": false
   },
   "outputs": [],
   "source": [
    "sdr_neu_alles = pd.read_csv('D:\\Projekte\\Innprojekt\\Auswertungen\\Sedimenteintrag\\SDR_neu_Inn\\SDR_ZonalStat_alles.csv', sep=';', decimal=',', \n",
    "                            encoding='latin-1', header=0)"
   ]
  },
  {
   "cell_type": "code",
   "execution_count": 238,
   "metadata": {
    "collapsed": false,
    "scrolled": false
   },
   "outputs": [
    {
     "data": {
      "text/html": [
       "<div>\n",
       "<table border=\"1\" class=\"dataframe\">\n",
       "  <thead>\n",
       "    <tr style=\"text-align: right;\">\n",
       "      <th></th>\n",
       "      <th>EZG_year</th>\n",
       "      <th>EZG_NAME</th>\n",
       "      <th>year</th>\n",
       "      <th>SedFracht_gemessen [t/a]</th>\n",
       "      <th>Area [m²]</th>\n",
       "      <th>IM_A_NAT</th>\n",
       "      <th>IM_A_MNT</th>\n",
       "      <th>IM_A_AL</th>\n",
       "      <th>BI_A_PST</th>\n",
       "      <th>IM_A_AGRL</th>\n",
       "      <th>...</th>\n",
       "      <th>IM_PREC_s [mm/summer]</th>\n",
       "      <th>IM_PREC_s _area[mm/summer]</th>\n",
       "      <th>elev</th>\n",
       "      <th>dist2stream</th>\n",
       "      <th>elevabvstream</th>\n",
       "      <th>slope</th>\n",
       "      <th>streampowerindex</th>\n",
       "      <th>topowetnessindex</th>\n",
       "      <th>toporoughnessindex</th>\n",
       "      <th>sedtransportindex</th>\n",
       "    </tr>\n",
       "  </thead>\n",
       "  <tbody>\n",
       "    <tr>\n",
       "      <th>0</th>\n",
       "      <td>landeck_2008</td>\n",
       "      <td>landeck_br2_ezg</td>\n",
       "      <td>2008</td>\n",
       "      <td>170833.1</td>\n",
       "      <td>726933125</td>\n",
       "      <td>356.947421</td>\n",
       "      <td>14.123907</td>\n",
       "      <td>0.257898</td>\n",
       "      <td>34.219</td>\n",
       "      <td>34.477</td>\n",
       "      <td>...</td>\n",
       "      <td>17304.362420</td>\n",
       "      <td>23.804614</td>\n",
       "      <td>2123.67</td>\n",
       "      <td>1239.87</td>\n",
       "      <td>439.18</td>\n",
       "      <td>26.63</td>\n",
       "      <td>84.30</td>\n",
       "      <td>3.03</td>\n",
       "      <td>11.47</td>\n",
       "      <td>9.18</td>\n",
       "    </tr>\n",
       "    <tr>\n",
       "      <th>1</th>\n",
       "      <td>vent_2008</td>\n",
       "      <td>vent_pegel_ezg</td>\n",
       "      <td>2008</td>\n",
       "      <td>152567.1</td>\n",
       "      <td>96567500</td>\n",
       "      <td>0.960557</td>\n",
       "      <td>63.064842</td>\n",
       "      <td>0.000000</td>\n",
       "      <td>0.724</td>\n",
       "      <td>0.724</td>\n",
       "      <td>...</td>\n",
       "      <td>2455.566295</td>\n",
       "      <td>25.428496</td>\n",
       "      <td>2887.43</td>\n",
       "      <td>1373.00</td>\n",
       "      <td>390.87</td>\n",
       "      <td>22.49</td>\n",
       "      <td>38.36</td>\n",
       "      <td>3.35</td>\n",
       "      <td>9.44</td>\n",
       "      <td>7.87</td>\n",
       "    </tr>\n",
       "    <tr>\n",
       "      <th>2</th>\n",
       "      <td>innsreich_2008</td>\n",
       "      <td>innsreich_ezg</td>\n",
       "      <td>2008</td>\n",
       "      <td>NaN</td>\n",
       "      <td>846703125</td>\n",
       "      <td>344.311337</td>\n",
       "      <td>0.991554</td>\n",
       "      <td>5.369113</td>\n",
       "      <td>111.329</td>\n",
       "      <td>116.698</td>\n",
       "      <td>...</td>\n",
       "      <td>25931.502790</td>\n",
       "      <td>30.626440</td>\n",
       "      <td>1897.84</td>\n",
       "      <td>1267.54</td>\n",
       "      <td>443.92</td>\n",
       "      <td>26.08</td>\n",
       "      <td>90.10</td>\n",
       "      <td>3.12</td>\n",
       "      <td>11.28</td>\n",
       "      <td>9.11</td>\n",
       "    </tr>\n",
       "    <tr>\n",
       "      <th>3</th>\n",
       "      <td>bruckh_2008</td>\n",
       "      <td>bruckh_ezg</td>\n",
       "      <td>2008</td>\n",
       "      <td>71813.2</td>\n",
       "      <td>316188125</td>\n",
       "      <td>118.516326</td>\n",
       "      <td>4.323956</td>\n",
       "      <td>0.376376</td>\n",
       "      <td>55.450</td>\n",
       "      <td>55.827</td>\n",
       "      <td>...</td>\n",
       "      <td>11010.978800</td>\n",
       "      <td>34.824138</td>\n",
       "      <td>1330.51</td>\n",
       "      <td>1205.20</td>\n",
       "      <td>333.99</td>\n",
       "      <td>20.82</td>\n",
       "      <td>41.82</td>\n",
       "      <td>3.41</td>\n",
       "      <td>8.55</td>\n",
       "      <td>7.09</td>\n",
       "    </tr>\n",
       "    <tr>\n",
       "      <th>4</th>\n",
       "      <td>koessen_2008</td>\n",
       "      <td>koessen_ezg</td>\n",
       "      <td>2008</td>\n",
       "      <td>164824.3</td>\n",
       "      <td>734265000</td>\n",
       "      <td>327.762693</td>\n",
       "      <td>8.339129</td>\n",
       "      <td>5.397308</td>\n",
       "      <td>159.672</td>\n",
       "      <td>165.069</td>\n",
       "      <td>...</td>\n",
       "      <td>21536.232970</td>\n",
       "      <td>29.330328</td>\n",
       "      <td>1189.11</td>\n",
       "      <td>1237.59</td>\n",
       "      <td>275.35</td>\n",
       "      <td>19.84</td>\n",
       "      <td>45.56</td>\n",
       "      <td>3.35</td>\n",
       "      <td>8.26</td>\n",
       "      <td>6.17</td>\n",
       "    </tr>\n",
       "    <tr>\n",
       "      <th>5</th>\n",
       "      <td>linden_2008</td>\n",
       "      <td>linden_ezg</td>\n",
       "      <td>2008</td>\n",
       "      <td>NaN</td>\n",
       "      <td>530707500</td>\n",
       "      <td>148.930827</td>\n",
       "      <td>0.000000</td>\n",
       "      <td>273.616772</td>\n",
       "      <td>85.592</td>\n",
       "      <td>359.209</td>\n",
       "      <td>...</td>\n",
       "      <td>10508.450940</td>\n",
       "      <td>19.800834</td>\n",
       "      <td>465.93</td>\n",
       "      <td>1163.43</td>\n",
       "      <td>26.20</td>\n",
       "      <td>3.76</td>\n",
       "      <td>9.54</td>\n",
       "      <td>4.48</td>\n",
       "      <td>1.52</td>\n",
       "      <td>0.58</td>\n",
       "    </tr>\n",
       "    <tr>\n",
       "      <th>6</th>\n",
       "      <td>landeck_2009</td>\n",
       "      <td>landeck_br2_ezg</td>\n",
       "      <td>2009</td>\n",
       "      <td>50897.9</td>\n",
       "      <td>726933125</td>\n",
       "      <td>356.947421</td>\n",
       "      <td>14.123907</td>\n",
       "      <td>0.257898</td>\n",
       "      <td>34.219</td>\n",
       "      <td>34.477</td>\n",
       "      <td>...</td>\n",
       "      <td>15297.120320</td>\n",
       "      <td>21.043367</td>\n",
       "      <td>2123.67</td>\n",
       "      <td>1239.87</td>\n",
       "      <td>439.18</td>\n",
       "      <td>26.63</td>\n",
       "      <td>84.30</td>\n",
       "      <td>3.03</td>\n",
       "      <td>11.47</td>\n",
       "      <td>9.18</td>\n",
       "    </tr>\n",
       "    <tr>\n",
       "      <th>7</th>\n",
       "      <td>vent_2009</td>\n",
       "      <td>vent_pegel_ezg</td>\n",
       "      <td>2009</td>\n",
       "      <td>146898.1</td>\n",
       "      <td>96567500</td>\n",
       "      <td>0.960557</td>\n",
       "      <td>63.064842</td>\n",
       "      <td>0.000000</td>\n",
       "      <td>0.724</td>\n",
       "      <td>0.724</td>\n",
       "      <td>...</td>\n",
       "      <td>1969.003359</td>\n",
       "      <td>20.389917</td>\n",
       "      <td>2887.43</td>\n",
       "      <td>1373.00</td>\n",
       "      <td>390.87</td>\n",
       "      <td>22.49</td>\n",
       "      <td>38.36</td>\n",
       "      <td>3.35</td>\n",
       "      <td>9.44</td>\n",
       "      <td>7.87</td>\n",
       "    </tr>\n",
       "    <tr>\n",
       "      <th>8</th>\n",
       "      <td>innsreich_2009</td>\n",
       "      <td>innsreich_ezg</td>\n",
       "      <td>2009</td>\n",
       "      <td>133564.3</td>\n",
       "      <td>846703125</td>\n",
       "      <td>344.311337</td>\n",
       "      <td>0.991554</td>\n",
       "      <td>5.369113</td>\n",
       "      <td>111.329</td>\n",
       "      <td>116.698</td>\n",
       "      <td>...</td>\n",
       "      <td>19805.268680</td>\n",
       "      <td>23.391042</td>\n",
       "      <td>1897.84</td>\n",
       "      <td>1267.54</td>\n",
       "      <td>443.92</td>\n",
       "      <td>26.08</td>\n",
       "      <td>90.10</td>\n",
       "      <td>3.12</td>\n",
       "      <td>11.28</td>\n",
       "      <td>9.11</td>\n",
       "    </tr>\n",
       "    <tr>\n",
       "      <th>9</th>\n",
       "      <td>bruckh_2009</td>\n",
       "      <td>bruckh_ezg</td>\n",
       "      <td>2009</td>\n",
       "      <td>59690.5</td>\n",
       "      <td>316188125</td>\n",
       "      <td>118.516326</td>\n",
       "      <td>4.323956</td>\n",
       "      <td>0.376376</td>\n",
       "      <td>55.450</td>\n",
       "      <td>55.827</td>\n",
       "      <td>...</td>\n",
       "      <td>14911.876880</td>\n",
       "      <td>47.161407</td>\n",
       "      <td>1330.51</td>\n",
       "      <td>1205.20</td>\n",
       "      <td>333.99</td>\n",
       "      <td>20.82</td>\n",
       "      <td>41.82</td>\n",
       "      <td>3.41</td>\n",
       "      <td>8.55</td>\n",
       "      <td>7.09</td>\n",
       "    </tr>\n",
       "    <tr>\n",
       "      <th>10</th>\n",
       "      <td>koessen_2009</td>\n",
       "      <td>koessen_ezg</td>\n",
       "      <td>2009</td>\n",
       "      <td>265521.2</td>\n",
       "      <td>734265000</td>\n",
       "      <td>327.762693</td>\n",
       "      <td>8.339129</td>\n",
       "      <td>5.397308</td>\n",
       "      <td>159.672</td>\n",
       "      <td>165.069</td>\n",
       "      <td>...</td>\n",
       "      <td>31007.400900</td>\n",
       "      <td>42.229169</td>\n",
       "      <td>1189.11</td>\n",
       "      <td>1237.59</td>\n",
       "      <td>275.35</td>\n",
       "      <td>19.84</td>\n",
       "      <td>45.56</td>\n",
       "      <td>3.35</td>\n",
       "      <td>8.26</td>\n",
       "      <td>6.17</td>\n",
       "    </tr>\n",
       "    <tr>\n",
       "      <th>11</th>\n",
       "      <td>linden_2009</td>\n",
       "      <td>linden_ezg</td>\n",
       "      <td>2009</td>\n",
       "      <td>NaN</td>\n",
       "      <td>530707500</td>\n",
       "      <td>148.930827</td>\n",
       "      <td>0.000000</td>\n",
       "      <td>273.616772</td>\n",
       "      <td>85.592</td>\n",
       "      <td>359.209</td>\n",
       "      <td>...</td>\n",
       "      <td>12754.692470</td>\n",
       "      <td>24.033375</td>\n",
       "      <td>465.93</td>\n",
       "      <td>1163.43</td>\n",
       "      <td>26.20</td>\n",
       "      <td>3.76</td>\n",
       "      <td>9.54</td>\n",
       "      <td>4.48</td>\n",
       "      <td>1.52</td>\n",
       "      <td>0.58</td>\n",
       "    </tr>\n",
       "    <tr>\n",
       "      <th>12</th>\n",
       "      <td>landeck_2010</td>\n",
       "      <td>landeck_br2_ezg</td>\n",
       "      <td>2010</td>\n",
       "      <td>378974.1</td>\n",
       "      <td>726933125</td>\n",
       "      <td>356.947421</td>\n",
       "      <td>14.123907</td>\n",
       "      <td>0.257898</td>\n",
       "      <td>34.219</td>\n",
       "      <td>34.477</td>\n",
       "      <td>...</td>\n",
       "      <td>21411.503340</td>\n",
       "      <td>29.454571</td>\n",
       "      <td>2123.67</td>\n",
       "      <td>1239.87</td>\n",
       "      <td>439.18</td>\n",
       "      <td>26.63</td>\n",
       "      <td>84.30</td>\n",
       "      <td>3.03</td>\n",
       "      <td>11.47</td>\n",
       "      <td>9.18</td>\n",
       "    </tr>\n",
       "    <tr>\n",
       "      <th>13</th>\n",
       "      <td>vent_2010</td>\n",
       "      <td>vent_pegel_ezg</td>\n",
       "      <td>2010</td>\n",
       "      <td>154528.5</td>\n",
       "      <td>96567500</td>\n",
       "      <td>0.960557</td>\n",
       "      <td>63.064842</td>\n",
       "      <td>0.000000</td>\n",
       "      <td>0.724</td>\n",
       "      <td>0.724</td>\n",
       "      <td>...</td>\n",
       "      <td>2617.173742</td>\n",
       "      <td>27.102014</td>\n",
       "      <td>2887.43</td>\n",
       "      <td>1373.00</td>\n",
       "      <td>390.87</td>\n",
       "      <td>22.49</td>\n",
       "      <td>38.36</td>\n",
       "      <td>3.35</td>\n",
       "      <td>9.44</td>\n",
       "      <td>7.87</td>\n",
       "    </tr>\n",
       "    <tr>\n",
       "      <th>14</th>\n",
       "      <td>innsreich_2010</td>\n",
       "      <td>innsreich_ezg</td>\n",
       "      <td>2010</td>\n",
       "      <td>115137.0</td>\n",
       "      <td>846703125</td>\n",
       "      <td>344.311337</td>\n",
       "      <td>0.991554</td>\n",
       "      <td>5.369113</td>\n",
       "      <td>111.329</td>\n",
       "      <td>116.698</td>\n",
       "      <td>...</td>\n",
       "      <td>26018.265490</td>\n",
       "      <td>30.728912</td>\n",
       "      <td>1897.84</td>\n",
       "      <td>1267.54</td>\n",
       "      <td>443.92</td>\n",
       "      <td>26.08</td>\n",
       "      <td>90.10</td>\n",
       "      <td>3.12</td>\n",
       "      <td>11.28</td>\n",
       "      <td>9.11</td>\n",
       "    </tr>\n",
       "    <tr>\n",
       "      <th>15</th>\n",
       "      <td>bruckh_2010</td>\n",
       "      <td>bruckh_ezg</td>\n",
       "      <td>2010</td>\n",
       "      <td>114665.1</td>\n",
       "      <td>316188125</td>\n",
       "      <td>118.516326</td>\n",
       "      <td>4.323956</td>\n",
       "      <td>0.376376</td>\n",
       "      <td>55.450</td>\n",
       "      <td>55.827</td>\n",
       "      <td>...</td>\n",
       "      <td>10959.248200</td>\n",
       "      <td>34.660531</td>\n",
       "      <td>1330.51</td>\n",
       "      <td>1205.20</td>\n",
       "      <td>333.99</td>\n",
       "      <td>20.82</td>\n",
       "      <td>41.82</td>\n",
       "      <td>3.41</td>\n",
       "      <td>8.55</td>\n",
       "      <td>7.09</td>\n",
       "    </tr>\n",
       "    <tr>\n",
       "      <th>16</th>\n",
       "      <td>koessen_2010</td>\n",
       "      <td>koessen_ezg</td>\n",
       "      <td>2010</td>\n",
       "      <td>356027.0</td>\n",
       "      <td>734265000</td>\n",
       "      <td>327.762693</td>\n",
       "      <td>8.339129</td>\n",
       "      <td>5.397308</td>\n",
       "      <td>159.672</td>\n",
       "      <td>165.069</td>\n",
       "      <td>...</td>\n",
       "      <td>30106.633620</td>\n",
       "      <td>41.002409</td>\n",
       "      <td>1189.11</td>\n",
       "      <td>1237.59</td>\n",
       "      <td>275.35</td>\n",
       "      <td>19.84</td>\n",
       "      <td>45.56</td>\n",
       "      <td>3.35</td>\n",
       "      <td>8.26</td>\n",
       "      <td>6.17</td>\n",
       "    </tr>\n",
       "    <tr>\n",
       "      <th>17</th>\n",
       "      <td>linden_2010</td>\n",
       "      <td>linden_ezg</td>\n",
       "      <td>2010</td>\n",
       "      <td>NaN</td>\n",
       "      <td>530707500</td>\n",
       "      <td>148.930827</td>\n",
       "      <td>0.000000</td>\n",
       "      <td>273.616772</td>\n",
       "      <td>85.592</td>\n",
       "      <td>359.209</td>\n",
       "      <td>...</td>\n",
       "      <td>11458.624530</td>\n",
       "      <td>21.591224</td>\n",
       "      <td>465.93</td>\n",
       "      <td>1163.43</td>\n",
       "      <td>26.20</td>\n",
       "      <td>3.76</td>\n",
       "      <td>9.54</td>\n",
       "      <td>4.48</td>\n",
       "      <td>1.52</td>\n",
       "      <td>0.58</td>\n",
       "    </tr>\n",
       "  </tbody>\n",
       "</table>\n",
       "<p>18 rows × 32 columns</p>\n",
       "</div>"
      ],
      "text/plain": [
       "          EZG_year         EZG_NAME  year  SedFracht_gemessen [t/a]  \\\n",
       "0     landeck_2008  landeck_br2_ezg  2008                  170833.1   \n",
       "1        vent_2008   vent_pegel_ezg  2008                  152567.1   \n",
       "2   innsreich_2008    innsreich_ezg  2008                       NaN   \n",
       "3      bruckh_2008       bruckh_ezg  2008                   71813.2   \n",
       "4     koessen_2008      koessen_ezg  2008                  164824.3   \n",
       "5      linden_2008       linden_ezg  2008                       NaN   \n",
       "6     landeck_2009  landeck_br2_ezg  2009                   50897.9   \n",
       "7        vent_2009   vent_pegel_ezg  2009                  146898.1   \n",
       "8   innsreich_2009    innsreich_ezg  2009                  133564.3   \n",
       "9      bruckh_2009       bruckh_ezg  2009                   59690.5   \n",
       "10    koessen_2009      koessen_ezg  2009                  265521.2   \n",
       "11     linden_2009       linden_ezg  2009                       NaN   \n",
       "12    landeck_2010  landeck_br2_ezg  2010                  378974.1   \n",
       "13       vent_2010   vent_pegel_ezg  2010                  154528.5   \n",
       "14  innsreich_2010    innsreich_ezg  2010                  115137.0   \n",
       "15     bruckh_2010       bruckh_ezg  2010                  114665.1   \n",
       "16    koessen_2010      koessen_ezg  2010                  356027.0   \n",
       "17     linden_2010       linden_ezg  2010                       NaN   \n",
       "\n",
       "    Area [m²]    IM_A_NAT   IM_A_MNT     IM_A_AL  BI_A_PST  IM_A_AGRL  \\\n",
       "0   726933125  356.947421  14.123907    0.257898    34.219     34.477   \n",
       "1    96567500    0.960557  63.064842    0.000000     0.724      0.724   \n",
       "2   846703125  344.311337   0.991554    5.369113   111.329    116.698   \n",
       "3   316188125  118.516326   4.323956    0.376376    55.450     55.827   \n",
       "4   734265000  327.762693   8.339129    5.397308   159.672    165.069   \n",
       "5   530707500  148.930827   0.000000  273.616772    85.592    359.209   \n",
       "6   726933125  356.947421  14.123907    0.257898    34.219     34.477   \n",
       "7    96567500    0.960557  63.064842    0.000000     0.724      0.724   \n",
       "8   846703125  344.311337   0.991554    5.369113   111.329    116.698   \n",
       "9   316188125  118.516326   4.323956    0.376376    55.450     55.827   \n",
       "10  734265000  327.762693   8.339129    5.397308   159.672    165.069   \n",
       "11  530707500  148.930827   0.000000  273.616772    85.592    359.209   \n",
       "12  726933125  356.947421  14.123907    0.257898    34.219     34.477   \n",
       "13   96567500    0.960557  63.064842    0.000000     0.724      0.724   \n",
       "14  846703125  344.311337   0.991554    5.369113   111.329    116.698   \n",
       "15  316188125  118.516326   4.323956    0.376376    55.450     55.827   \n",
       "16  734265000  327.762693   8.339129    5.397308   159.672    165.069   \n",
       "17  530707500  148.930827   0.000000  273.616772    85.592    359.209   \n",
       "\n",
       "          ...          IM_PREC_s [mm/summer]  IM_PREC_s _area[mm/summer]  \\\n",
       "0         ...                   17304.362420                   23.804614   \n",
       "1         ...                    2455.566295                   25.428496   \n",
       "2         ...                   25931.502790                   30.626440   \n",
       "3         ...                   11010.978800                   34.824138   \n",
       "4         ...                   21536.232970                   29.330328   \n",
       "5         ...                   10508.450940                   19.800834   \n",
       "6         ...                   15297.120320                   21.043367   \n",
       "7         ...                    1969.003359                   20.389917   \n",
       "8         ...                   19805.268680                   23.391042   \n",
       "9         ...                   14911.876880                   47.161407   \n",
       "10        ...                   31007.400900                   42.229169   \n",
       "11        ...                   12754.692470                   24.033375   \n",
       "12        ...                   21411.503340                   29.454571   \n",
       "13        ...                    2617.173742                   27.102014   \n",
       "14        ...                   26018.265490                   30.728912   \n",
       "15        ...                   10959.248200                   34.660531   \n",
       "16        ...                   30106.633620                   41.002409   \n",
       "17        ...                   11458.624530                   21.591224   \n",
       "\n",
       "       elev  dist2stream  elevabvstream  slope  streampowerindex  \\\n",
       "0   2123.67      1239.87         439.18  26.63             84.30   \n",
       "1   2887.43      1373.00         390.87  22.49             38.36   \n",
       "2   1897.84      1267.54         443.92  26.08             90.10   \n",
       "3   1330.51      1205.20         333.99  20.82             41.82   \n",
       "4   1189.11      1237.59         275.35  19.84             45.56   \n",
       "5    465.93      1163.43          26.20   3.76              9.54   \n",
       "6   2123.67      1239.87         439.18  26.63             84.30   \n",
       "7   2887.43      1373.00         390.87  22.49             38.36   \n",
       "8   1897.84      1267.54         443.92  26.08             90.10   \n",
       "9   1330.51      1205.20         333.99  20.82             41.82   \n",
       "10  1189.11      1237.59         275.35  19.84             45.56   \n",
       "11   465.93      1163.43          26.20   3.76              9.54   \n",
       "12  2123.67      1239.87         439.18  26.63             84.30   \n",
       "13  2887.43      1373.00         390.87  22.49             38.36   \n",
       "14  1897.84      1267.54         443.92  26.08             90.10   \n",
       "15  1330.51      1205.20         333.99  20.82             41.82   \n",
       "16  1189.11      1237.59         275.35  19.84             45.56   \n",
       "17   465.93      1163.43          26.20   3.76              9.54   \n",
       "\n",
       "    topowetnessindex  toporoughnessindex  sedtransportindex  \n",
       "0               3.03               11.47               9.18  \n",
       "1               3.35                9.44               7.87  \n",
       "2               3.12               11.28               9.11  \n",
       "3               3.41                8.55               7.09  \n",
       "4               3.35                8.26               6.17  \n",
       "5               4.48                1.52               0.58  \n",
       "6               3.03               11.47               9.18  \n",
       "7               3.35                9.44               7.87  \n",
       "8               3.12               11.28               9.11  \n",
       "9               3.41                8.55               7.09  \n",
       "10              3.35                8.26               6.17  \n",
       "11              4.48                1.52               0.58  \n",
       "12              3.03               11.47               9.18  \n",
       "13              3.35                9.44               7.87  \n",
       "14              3.12               11.28               9.11  \n",
       "15              3.41                8.55               7.09  \n",
       "16              3.35                8.26               6.17  \n",
       "17              4.48                1.52               0.58  \n",
       "\n",
       "[18 rows x 32 columns]"
      ]
     },
     "execution_count": 238,
     "metadata": {},
     "output_type": "execute_result"
    }
   ],
   "source": [
    "sdr_neu_alles"
   ]
  },
  {
   "cell_type": "code",
   "execution_count": 241,
   "metadata": {
    "collapsed": false
   },
   "outputs": [
    {
     "data": {
      "text/plain": [
       "<matplotlib.collections.PathCollection at 0xccf2b00>"
      ]
     },
     "execution_count": 241,
     "metadata": {},
     "output_type": "execute_result"
    },
    {
     "data": {
      "image/png": "[encoded data removed]",
      "text/plain": [
       "<matplotlib.figure.Figure at 0xba6feb8>"
      ]
     },
     "metadata": {},
     "output_type": "display_data"
    }
   ],
   "source": [
    "plt.scatter(sdr_neu_alles['SedFracht_gemessen [t/a]'], sdr_neu_alles['ER_gesamt'])"
   ]
  },
  {
   "cell_type": "code",
   "execution_count": 244,
   "metadata": {
    "collapsed": false
   },
   "outputs": [],
   "source": [
    "import seaborn as sns"
   ]
  },
  {
   "cell_type": "code",
   "execution_count": 245,
   "metadata": {
    "collapsed": false
   },
   "outputs": [
    {
     "data": {
      "text/plain": [
       "<matplotlib.axes._subplots.AxesSubplot at 0xd944358>"
      ]
     },
     "execution_count": 245,
     "metadata": {},
     "output_type": "execute_result"
    },
    {
     "data": {
      "image/png": "[encoded data removed]",
      "text/plain": [
       "<matplotlib.figure.Figure at 0xd8a0320>"
      ]
     },
     "metadata": {},
     "output_type": "display_data"
    }
   ],
   "source": [
    "sns.regplot(sdr_neu_alles['SedFracht_gemessen [t/a]'], sdr_neu_alles['ER_gesamt'])"
   ]
  },
  {
   "cell_type": "code",
   "execution_count": 258,
   "metadata": {
    "collapsed": false
   },
   "outputs": [
    {
     "data": {
      "image/png": "[encoded data removed]",
      "text/plain": [
       "<matplotlib.figure.Figure at 0xeba6320>"
      ]
     },
     "metadata": {},
     "output_type": "display_data"
    }
   ],
   "source": [
    "t = sns.lmplot(x='SedFracht_gemessen [t/a]', y='ER_gesamt', data=sdr_neu_alles, \n",
    "               hue='EZG_NAME', legend_out=True,size=7, fit_reg=False, scatter_kws={\"s\": 50})\n",
    "#sns.jointplot  stat_func=spearmanr, \n",
    "#sns.regplot(x='MeanJahresfracht', y='SumRusle', data=rusle_test_t, scatter=False, ax=t.axes[0,0])\n",
    "#t.annotate(stats.spearmanr)\n",
    "#t.fig.text(.5, .5, str(spearmanr(scatter_subset['MeanCfaktor'], scatter_subset['t_ha_a'])), ha ='left', fontsize = 15)\n",
    "plt.plot([0,500000], [0,500000], linestyle='--')\n",
    "plt.xlim(0,500000)\n",
    "plt.ylim(0,500000)\n",
    "plt.ylabel('RUSLE2015 from MoRE [t/a]')\n",
    "plt.xlabel('Measured total yearly sediment load [t/a]')\n",
    "plt.savefig('ER_vs_Sed.png')"
   ]
  },
  {
   "cell_type": "code",
   "execution_count": 260,
   "metadata": {
    "collapsed": false
   },
   "outputs": [
    {
     "data": {
      "text/plain": [
       "Index(['EZG_year', 'EZG_NAME', 'year', 'SedFracht_gemessen [t/a]', 'Area [m²]',\n",
       "       'IM_A_NAT', 'IM_A_MNT', 'IM_A_AL', 'BI_A_PST', 'IM_A_AGRL', 'IM_A_WS',\n",
       "       'ER_gesamt', 'ER_nat_SL [t/a]', 'ER_nat_SL_spec [t/a/ha]',\n",
       "       'ER_mnt_SL [t/a]', 'ER_mnt_SL_spec [t/a/ha]', 'ER_agrl_SL [t/a]',\n",
       "       'ER_agrl_SL_spec [t/a/ha]', 'BI_Q [m³/s]', 'BI_Q_dir [m³/s]',\n",
       "       'IM_PREC_yr [mm/a]', 'IM_PREC_yr_area [mm/a/km2]',\n",
       "       'IM_PREC_s [mm/summer]', 'IM_PREC_s _area[mm/summer]', 'elev',\n",
       "       'dist2stream', 'elevabvstream', 'slope', 'streampowerindex',\n",
       "       'topowetnessindex', 'toporoughnessindex', 'sedtransportindex'],\n",
       "      dtype='object')"
      ]
     },
     "execution_count": 260,
     "metadata": {},
     "output_type": "execute_result"
    }
   ],
   "source": [
    "sdr_neu_alles.columns"
   ]
  },
  {
   "cell_type": "code",
   "execution_count": 278,
   "metadata": {
    "collapsed": false
   },
   "outputs": [],
   "source": [
    "sdr_subset = sdr_neu_alles.drop([1,2,5,7,11,13,17])"
   ]
  },
  {
   "cell_type": "code",
   "execution_count": 283,
   "metadata": {
    "collapsed": false
   },
   "outputs": [
    {
     "data": {
      "text/html": [
       "<div>\n",
       "<table border=\"1\" class=\"dataframe\">\n",
       "  <thead>\n",
       "    <tr style=\"text-align: right;\">\n",
       "      <th></th>\n",
       "      <th>EZG_year</th>\n",
       "      <th>EZG_NAME</th>\n",
       "      <th>year</th>\n",
       "      <th>SedFracht_gemessen [t/a]</th>\n",
       "      <th>Area [m²]</th>\n",
       "      <th>IM_A_NAT</th>\n",
       "      <th>IM_A_MNT</th>\n",
       "      <th>IM_A_AL</th>\n",
       "      <th>BI_A_PST</th>\n",
       "      <th>IM_A_AGRL</th>\n",
       "      <th>...</th>\n",
       "      <th>IM_PREC_s [mm/summer]</th>\n",
       "      <th>IM_PREC_s _area[mm/summer]</th>\n",
       "      <th>elev</th>\n",
       "      <th>dist2stream</th>\n",
       "      <th>elevabvstream</th>\n",
       "      <th>slope</th>\n",
       "      <th>streampowerindex</th>\n",
       "      <th>topowetnessindex</th>\n",
       "      <th>toporoughnessindex</th>\n",
       "      <th>sedtransportindex</th>\n",
       "    </tr>\n",
       "  </thead>\n",
       "  <tbody>\n",
       "    <tr>\n",
       "      <th>0</th>\n",
       "      <td>landeck_2008</td>\n",
       "      <td>landeck_br2_ezg</td>\n",
       "      <td>2008</td>\n",
       "      <td>170833.1</td>\n",
       "      <td>726933125</td>\n",
       "      <td>356.947421</td>\n",
       "      <td>14.123907</td>\n",
       "      <td>0.257898</td>\n",
       "      <td>34.219</td>\n",
       "      <td>34.477</td>\n",
       "      <td>...</td>\n",
       "      <td>17304.36242</td>\n",
       "      <td>23.804614</td>\n",
       "      <td>2123.67</td>\n",
       "      <td>1239.87</td>\n",
       "      <td>439.18</td>\n",
       "      <td>26.63</td>\n",
       "      <td>84.30</td>\n",
       "      <td>3.03</td>\n",
       "      <td>11.47</td>\n",
       "      <td>9.18</td>\n",
       "    </tr>\n",
       "    <tr>\n",
       "      <th>3</th>\n",
       "      <td>bruckh_2008</td>\n",
       "      <td>bruckh_ezg</td>\n",
       "      <td>2008</td>\n",
       "      <td>71813.2</td>\n",
       "      <td>316188125</td>\n",
       "      <td>118.516326</td>\n",
       "      <td>4.323956</td>\n",
       "      <td>0.376376</td>\n",
       "      <td>55.450</td>\n",
       "      <td>55.827</td>\n",
       "      <td>...</td>\n",
       "      <td>11010.97880</td>\n",
       "      <td>34.824138</td>\n",
       "      <td>1330.51</td>\n",
       "      <td>1205.20</td>\n",
       "      <td>333.99</td>\n",
       "      <td>20.82</td>\n",
       "      <td>41.82</td>\n",
       "      <td>3.41</td>\n",
       "      <td>8.55</td>\n",
       "      <td>7.09</td>\n",
       "    </tr>\n",
       "    <tr>\n",
       "      <th>4</th>\n",
       "      <td>koessen_2008</td>\n",
       "      <td>koessen_ezg</td>\n",
       "      <td>2008</td>\n",
       "      <td>164824.3</td>\n",
       "      <td>734265000</td>\n",
       "      <td>327.762693</td>\n",
       "      <td>8.339129</td>\n",
       "      <td>5.397308</td>\n",
       "      <td>159.672</td>\n",
       "      <td>165.069</td>\n",
       "      <td>...</td>\n",
       "      <td>21536.23297</td>\n",
       "      <td>29.330328</td>\n",
       "      <td>1189.11</td>\n",
       "      <td>1237.59</td>\n",
       "      <td>275.35</td>\n",
       "      <td>19.84</td>\n",
       "      <td>45.56</td>\n",
       "      <td>3.35</td>\n",
       "      <td>8.26</td>\n",
       "      <td>6.17</td>\n",
       "    </tr>\n",
       "    <tr>\n",
       "      <th>6</th>\n",
       "      <td>landeck_2009</td>\n",
       "      <td>landeck_br2_ezg</td>\n",
       "      <td>2009</td>\n",
       "      <td>50897.9</td>\n",
       "      <td>726933125</td>\n",
       "      <td>356.947421</td>\n",
       "      <td>14.123907</td>\n",
       "      <td>0.257898</td>\n",
       "      <td>34.219</td>\n",
       "      <td>34.477</td>\n",
       "      <td>...</td>\n",
       "      <td>15297.12032</td>\n",
       "      <td>21.043367</td>\n",
       "      <td>2123.67</td>\n",
       "      <td>1239.87</td>\n",
       "      <td>439.18</td>\n",
       "      <td>26.63</td>\n",
       "      <td>84.30</td>\n",
       "      <td>3.03</td>\n",
       "      <td>11.47</td>\n",
       "      <td>9.18</td>\n",
       "    </tr>\n",
       "    <tr>\n",
       "      <th>8</th>\n",
       "      <td>innsreich_2009</td>\n",
       "      <td>innsreich_ezg</td>\n",
       "      <td>2009</td>\n",
       "      <td>133564.3</td>\n",
       "      <td>846703125</td>\n",
       "      <td>344.311337</td>\n",
       "      <td>0.991554</td>\n",
       "      <td>5.369113</td>\n",
       "      <td>111.329</td>\n",
       "      <td>116.698</td>\n",
       "      <td>...</td>\n",
       "      <td>19805.26868</td>\n",
       "      <td>23.391042</td>\n",
       "      <td>1897.84</td>\n",
       "      <td>1267.54</td>\n",
       "      <td>443.92</td>\n",
       "      <td>26.08</td>\n",
       "      <td>90.10</td>\n",
       "      <td>3.12</td>\n",
       "      <td>11.28</td>\n",
       "      <td>9.11</td>\n",
       "    </tr>\n",
       "    <tr>\n",
       "      <th>9</th>\n",
       "      <td>bruckh_2009</td>\n",
       "      <td>bruckh_ezg</td>\n",
       "      <td>2009</td>\n",
       "      <td>59690.5</td>\n",
       "      <td>316188125</td>\n",
       "      <td>118.516326</td>\n",
       "      <td>4.323956</td>\n",
       "      <td>0.376376</td>\n",
       "      <td>55.450</td>\n",
       "      <td>55.827</td>\n",
       "      <td>...</td>\n",
       "      <td>14911.87688</td>\n",
       "      <td>47.161407</td>\n",
       "      <td>1330.51</td>\n",
       "      <td>1205.20</td>\n",
       "      <td>333.99</td>\n",
       "      <td>20.82</td>\n",
       "      <td>41.82</td>\n",
       "      <td>3.41</td>\n",
       "      <td>8.55</td>\n",
       "      <td>7.09</td>\n",
       "    </tr>\n",
       "    <tr>\n",
       "      <th>10</th>\n",
       "      <td>koessen_2009</td>\n",
       "      <td>koessen_ezg</td>\n",
       "      <td>2009</td>\n",
       "      <td>265521.2</td>\n",
       "      <td>734265000</td>\n",
       "      <td>327.762693</td>\n",
       "      <td>8.339129</td>\n",
       "      <td>5.397308</td>\n",
       "      <td>159.672</td>\n",
       "      <td>165.069</td>\n",
       "      <td>...</td>\n",
       "      <td>31007.40090</td>\n",
       "      <td>42.229169</td>\n",
       "      <td>1189.11</td>\n",
       "      <td>1237.59</td>\n",
       "      <td>275.35</td>\n",
       "      <td>19.84</td>\n",
       "      <td>45.56</td>\n",
       "      <td>3.35</td>\n",
       "      <td>8.26</td>\n",
       "      <td>6.17</td>\n",
       "    </tr>\n",
       "    <tr>\n",
       "      <th>12</th>\n",
       "      <td>landeck_2010</td>\n",
       "      <td>landeck_br2_ezg</td>\n",
       "      <td>2010</td>\n",
       "      <td>378974.1</td>\n",
       "      <td>726933125</td>\n",
       "      <td>356.947421</td>\n",
       "      <td>14.123907</td>\n",
       "      <td>0.257898</td>\n",
       "      <td>34.219</td>\n",
       "      <td>34.477</td>\n",
       "      <td>...</td>\n",
       "      <td>21411.50334</td>\n",
       "      <td>29.454571</td>\n",
       "      <td>2123.67</td>\n",
       "      <td>1239.87</td>\n",
       "      <td>439.18</td>\n",
       "      <td>26.63</td>\n",
       "      <td>84.30</td>\n",
       "      <td>3.03</td>\n",
       "      <td>11.47</td>\n",
       "      <td>9.18</td>\n",
       "    </tr>\n",
       "    <tr>\n",
       "      <th>14</th>\n",
       "      <td>innsreich_2010</td>\n",
       "      <td>innsreich_ezg</td>\n",
       "      <td>2010</td>\n",
       "      <td>115137.0</td>\n",
       "      <td>846703125</td>\n",
       "      <td>344.311337</td>\n",
       "      <td>0.991554</td>\n",
       "      <td>5.369113</td>\n",
       "      <td>111.329</td>\n",
       "      <td>116.698</td>\n",
       "      <td>...</td>\n",
       "      <td>26018.26549</td>\n",
       "      <td>30.728912</td>\n",
       "      <td>1897.84</td>\n",
       "      <td>1267.54</td>\n",
       "      <td>443.92</td>\n",
       "      <td>26.08</td>\n",
       "      <td>90.10</td>\n",
       "      <td>3.12</td>\n",
       "      <td>11.28</td>\n",
       "      <td>9.11</td>\n",
       "    </tr>\n",
       "    <tr>\n",
       "      <th>15</th>\n",
       "      <td>bruckh_2010</td>\n",
       "      <td>bruckh_ezg</td>\n",
       "      <td>2010</td>\n",
       "      <td>114665.1</td>\n",
       "      <td>316188125</td>\n",
       "      <td>118.516326</td>\n",
       "      <td>4.323956</td>\n",
       "      <td>0.376376</td>\n",
       "      <td>55.450</td>\n",
       "      <td>55.827</td>\n",
       "      <td>...</td>\n",
       "      <td>10959.24820</td>\n",
       "      <td>34.660531</td>\n",
       "      <td>1330.51</td>\n",
       "      <td>1205.20</td>\n",
       "      <td>333.99</td>\n",
       "      <td>20.82</td>\n",
       "      <td>41.82</td>\n",
       "      <td>3.41</td>\n",
       "      <td>8.55</td>\n",
       "      <td>7.09</td>\n",
       "    </tr>\n",
       "    <tr>\n",
       "      <th>16</th>\n",
       "      <td>koessen_2010</td>\n",
       "      <td>koessen_ezg</td>\n",
       "      <td>2010</td>\n",
       "      <td>356027.0</td>\n",
       "      <td>734265000</td>\n",
       "      <td>327.762693</td>\n",
       "      <td>8.339129</td>\n",
       "      <td>5.397308</td>\n",
       "      <td>159.672</td>\n",
       "      <td>165.069</td>\n",
       "      <td>...</td>\n",
       "      <td>30106.63362</td>\n",
       "      <td>41.002409</td>\n",
       "      <td>1189.11</td>\n",
       "      <td>1237.59</td>\n",
       "      <td>275.35</td>\n",
       "      <td>19.84</td>\n",
       "      <td>45.56</td>\n",
       "      <td>3.35</td>\n",
       "      <td>8.26</td>\n",
       "      <td>6.17</td>\n",
       "    </tr>\n",
       "  </tbody>\n",
       "</table>\n",
       "<p>11 rows × 32 columns</p>\n",
       "</div>"
      ],
      "text/plain": [
       "          EZG_year         EZG_NAME  year  SedFracht_gemessen [t/a]  \\\n",
       "0     landeck_2008  landeck_br2_ezg  2008                  170833.1   \n",
       "3      bruckh_2008       bruckh_ezg  2008                   71813.2   \n",
       "4     koessen_2008      koessen_ezg  2008                  164824.3   \n",
       "6     landeck_2009  landeck_br2_ezg  2009                   50897.9   \n",
       "8   innsreich_2009    innsreich_ezg  2009                  133564.3   \n",
       "9      bruckh_2009       bruckh_ezg  2009                   59690.5   \n",
       "10    koessen_2009      koessen_ezg  2009                  265521.2   \n",
       "12    landeck_2010  landeck_br2_ezg  2010                  378974.1   \n",
       "14  innsreich_2010    innsreich_ezg  2010                  115137.0   \n",
       "15     bruckh_2010       bruckh_ezg  2010                  114665.1   \n",
       "16    koessen_2010      koessen_ezg  2010                  356027.0   \n",
       "\n",
       "    Area [m²]    IM_A_NAT   IM_A_MNT   IM_A_AL  BI_A_PST  IM_A_AGRL  \\\n",
       "0   726933125  356.947421  14.123907  0.257898    34.219     34.477   \n",
       "3   316188125  118.516326   4.323956  0.376376    55.450     55.827   \n",
       "4   734265000  327.762693   8.339129  5.397308   159.672    165.069   \n",
       "6   726933125  356.947421  14.123907  0.257898    34.219     34.477   \n",
       "8   846703125  344.311337   0.991554  5.369113   111.329    116.698   \n",
       "9   316188125  118.516326   4.323956  0.376376    55.450     55.827   \n",
       "10  734265000  327.762693   8.339129  5.397308   159.672    165.069   \n",
       "12  726933125  356.947421  14.123907  0.257898    34.219     34.477   \n",
       "14  846703125  344.311337   0.991554  5.369113   111.329    116.698   \n",
       "15  316188125  118.516326   4.323956  0.376376    55.450     55.827   \n",
       "16  734265000  327.762693   8.339129  5.397308   159.672    165.069   \n",
       "\n",
       "          ...          IM_PREC_s [mm/summer]  IM_PREC_s _area[mm/summer]  \\\n",
       "0         ...                    17304.36242                   23.804614   \n",
       "3         ...                    11010.97880                   34.824138   \n",
       "4         ...                    21536.23297                   29.330328   \n",
       "6         ...                    15297.12032                   21.043367   \n",
       "8         ...                    19805.26868                   23.391042   \n",
       "9         ...                    14911.87688                   47.161407   \n",
       "10        ...                    31007.40090                   42.229169   \n",
       "12        ...                    21411.50334                   29.454571   \n",
       "14        ...                    26018.26549                   30.728912   \n",
       "15        ...                    10959.24820                   34.660531   \n",
       "16        ...                    30106.63362                   41.002409   \n",
       "\n",
       "       elev  dist2stream  elevabvstream  slope  streampowerindex  \\\n",
       "0   2123.67      1239.87         439.18  26.63             84.30   \n",
       "3   1330.51      1205.20         333.99  20.82             41.82   \n",
       "4   1189.11      1237.59         275.35  19.84             45.56   \n",
       "6   2123.67      1239.87         439.18  26.63             84.30   \n",
       "8   1897.84      1267.54         443.92  26.08             90.10   \n",
       "9   1330.51      1205.20         333.99  20.82             41.82   \n",
       "10  1189.11      1237.59         275.35  19.84             45.56   \n",
       "12  2123.67      1239.87         439.18  26.63             84.30   \n",
       "14  1897.84      1267.54         443.92  26.08             90.10   \n",
       "15  1330.51      1205.20         333.99  20.82             41.82   \n",
       "16  1189.11      1237.59         275.35  19.84             45.56   \n",
       "\n",
       "    topowetnessindex  toporoughnessindex  sedtransportindex  \n",
       "0               3.03               11.47               9.18  \n",
       "3               3.41                8.55               7.09  \n",
       "4               3.35                8.26               6.17  \n",
       "6               3.03               11.47               9.18  \n",
       "8               3.12               11.28               9.11  \n",
       "9               3.41                8.55               7.09  \n",
       "10              3.35                8.26               6.17  \n",
       "12              3.03               11.47               9.18  \n",
       "14              3.12               11.28               9.11  \n",
       "15              3.41                8.55               7.09  \n",
       "16              3.35                8.26               6.17  \n",
       "\n",
       "[11 rows x 32 columns]"
      ]
     },
     "execution_count": 283,
     "metadata": {},
     "output_type": "execute_result"
    }
   ],
   "source": [
    "sdr_subset"
   ]
  },
  {
   "cell_type": "code",
   "execution_count": 287,
   "metadata": {
    "collapsed": false
   },
   "outputs": [
    {
     "data": {
      "text/plain": [
       "<matplotlib.axes._subplots.AxesSubplot at 0x13b9b550>"
      ]
     },
     "execution_count": 287,
     "metadata": {},
     "output_type": "execute_result"
    },
    {
     "data": {
      "image/png": "[encoded data removed]",
      "text/plain": [
       "<matplotlib.figure.Figure at 0x13992940>"
      ]
     },
     "metadata": {},
     "output_type": "display_data"
    }
   ],
   "source": [
    "sns.regplot(sdr_subset['SedFracht_gemessen [t/a]'], sdr_subset['IM_A_WS'])"
   ]
  },
  {
   "cell_type": "code",
   "execution_count": 286,
   "metadata": {
    "collapsed": false
   },
   "outputs": [
    {
     "data": {
      "text/plain": [
       "<matplotlib.axes._subplots.AxesSubplot at 0x13bb5908>"
      ]
     },
     "execution_count": 286,
     "metadata": {},
     "output_type": "execute_result"
    },
    {
     "data": {
      "image/png": "[encoded data removed]",
      "text/plain": [
       "<matplotlib.figure.Figure at 0x13a932b0>"
      ]
     },
     "metadata": {},
     "output_type": "display_data"
    }
   ],
   "source": [
    "sns.regplot(sdr_subset['SedFracht_gemessen [t/a]'], sdr_subset['IM_A_AL'])"
   ]
  },
  {
   "cell_type": "code",
   "execution_count": 285,
   "metadata": {
    "collapsed": false
   },
   "outputs": [
    {
     "data": {
      "text/plain": [
       "<matplotlib.axes._subplots.AxesSubplot at 0x13a5b048>"
      ]
     },
     "execution_count": 285,
     "metadata": {},
     "output_type": "execute_result"
    },
    {
     "data": {
      "image/png": "[encoded data removed]",
      "text/plain": [
       "<matplotlib.figure.Figure at 0x13b97a20>"
      ]
     },
     "metadata": {},
     "output_type": "display_data"
    }
   ],
   "source": [
    "sns.regplot(sdr_subset['SedFracht_gemessen [t/a]'], sdr_subset['IM_A_MNT'])"
   ]
  },
  {
   "cell_type": "code",
   "execution_count": 284,
   "metadata": {
    "collapsed": false
   },
   "outputs": [
    {
     "data": {
      "text/plain": [
       "<matplotlib.axes._subplots.AxesSubplot at 0x13982080>"
      ]
     },
     "execution_count": 284,
     "metadata": {},
     "output_type": "execute_result"
    },
    {
     "data": {
      "image/png": "[encoded data removed]",
      "text/plain": [
       "<matplotlib.figure.Figure at 0x139df160>"
      ]
     },
     "metadata": {},
     "output_type": "display_data"
    }
   ],
   "source": [
    "sns.regplot(sdr_subset['SedFracht_gemessen [t/a]'], sdr_subset['IM_A_NAT'])"
   ]
  },
  {
   "cell_type": "code",
   "execution_count": 280,
   "metadata": {
    "collapsed": false
   },
   "outputs": [
    {
     "data": {
      "text/plain": [
       "<matplotlib.axes._subplots.AxesSubplot at 0x13964b00>"
      ]
     },
     "execution_count": 280,
     "metadata": {},
     "output_type": "execute_result"
    },
    {
     "data": {
      "image/png": "[encoded data removed]",
      "text/plain": [
       "<matplotlib.figure.Figure at 0x11e896d8>"
      ]
     },
     "metadata": {},
     "output_type": "display_data"
    }
   ],
   "source": [
    "sns.regplot(sdr_subset['SedFracht_gemessen [t/a]'], sdr_subset['IM_PREC_yr [mm/a]'])"
   ]
  },
  {
   "cell_type": "code",
   "execution_count": 276,
   "metadata": {
    "collapsed": false
   },
   "outputs": [
    {
     "data": {
      "text/plain": [
       "<matplotlib.axes._subplots.AxesSubplot at 0x11f5e2e8>"
      ]
     },
     "execution_count": 276,
     "metadata": {},
     "output_type": "execute_result"
    },
    {
     "data": {
      "image/png": "[encoded data removed]",
      "text/plain": [
       "<matplotlib.figure.Figure at 0x11e837b8>"
      ]
     },
     "metadata": {},
     "output_type": "display_data"
    }
   ],
   "source": [
    "sns.regplot(sdr_neu_alles['SedFracht_gemessen [t/a]'], sdr_neu_alles['IM_PREC_yr [mm/a]'])"
   ]
  },
  {
   "cell_type": "code",
   "execution_count": 266,
   "metadata": {
    "collapsed": false
   },
   "outputs": [
    {
     "data": {
      "text/plain": [
       "<matplotlib.axes._subplots.AxesSubplot at 0x1251d4e0>"
      ]
     },
     "execution_count": 266,
     "metadata": {},
     "output_type": "execute_result"
    },
    {
     "data": {
      "image/png": "[encoded data removed]",
      "text/plain": [
       "<matplotlib.figure.Figure at 0x11ed5ba8>"
      ]
     },
     "metadata": {},
     "output_type": "display_data"
    }
   ],
   "source": [
    "sns.regplot(sdr_neu_alles['SedFracht_gemessen [t/a]'], sdr_neu_alles['IM_PREC_s _area[mm/summer]'])"
   ]
  },
  {
   "cell_type": "code",
   "execution_count": 267,
   "metadata": {
    "collapsed": false
   },
   "outputs": [
    {
     "data": {
      "text/plain": [
       "<matplotlib.axes._subplots.AxesSubplot at 0x125a5400>"
      ]
     },
     "execution_count": 267,
     "metadata": {},
     "output_type": "execute_result"
    },
    {
     "data": {
      "image/png": "[encoded data removed]",
      "text/plain": [
       "<matplotlib.figure.Figure at 0x125c6898>"
      ]
     },
     "metadata": {},
     "output_type": "display_data"
    }
   ],
   "source": [
    "sns.regplot(sdr_neu_alles['SedFracht_gemessen [t/a]'], sdr_neu_alles['BI_Q_dir [m³/s]'])"
   ]
  },
  {
   "cell_type": "code",
   "execution_count": 268,
   "metadata": {
    "collapsed": false
   },
   "outputs": [
    {
     "data": {
      "text/plain": [
       "<matplotlib.axes._subplots.AxesSubplot at 0x125e7828>"
      ]
     },
     "execution_count": 268,
     "metadata": {},
     "output_type": "execute_result"
    },
    {
     "data": {
      "image/png": "[encoded data removed]",
      "text/plain": [
       "<matplotlib.figure.Figure at 0x12680ba8>"
      ]
     },
     "metadata": {},
     "output_type": "display_data"
    }
   ],
   "source": [
    "sns.regplot(sdr_neu_alles['SedFracht_gemessen [t/a]'], sdr_neu_alles['BI_Q [m³/s]'])"
   ]
  },
  {
   "cell_type": "code",
   "execution_count": null,
   "metadata": {
    "collapsed": true
   },
   "outputs": [],
   "source": [
    "zonalstat_areas = pd.read_csv('D:\\Projekte\\Innprojekt\\Auswertungen\\Sedimenteintrag\\SDR_neu_Inn\\SDR_ZonalStat_areas.csv', sep=';', decimal=',', \n",
    "                            encoding='latin-1', header=0)\n",
    "zonalstat_areas.drop([1,2,5,7,11,13,17], inplace=True)\n",
    "\n",
    "zonalstat_dgm = pd.read_csv('D:\\Projekte\\Innprojekt\\Auswertungen\\Sedimenteintrag\\SDR_neu_Inn\\SDR_ZonalStat_dgm.csv', sep=';', decimal=',', \n",
    "                            encoding='latin-1', header=0)\n",
    "zonalstat_dgm.drop([1,2,5,7,11,13,17], inplace=True)"
   ]
  },
  {
   "cell_type": "code",
   "execution_count": 308,
   "metadata": {
    "collapsed": true
   },
   "outputs": [],
   "source": [
    "zonalstat_er_more = pd.read_csv('D:\\Projekte\\Innprojekt\\Auswertungen\\Sedimenteintrag\\SDR_neu_Inn\\SDR_ZonalStat_er_more.csv', sep=';', decimal=',', \n",
    "                            encoding='latin-1', header=0)\n",
    "zonalstat_er_more.drop([1,2,5,7,11,13,17], inplace=True)"
   ]
  },
  {
   "cell_type": "code",
   "execution_count": 292,
   "metadata": {
    "collapsed": true
   },
   "outputs": [],
   "source": [
    "zonalstat_wasser = pd.read_csv('D:\\Projekte\\Innprojekt\\Auswertungen\\Sedimenteintrag\\SDR_neu_Inn\\SDR_ZonalStat_wasser.csv', sep=';', decimal=',', \n",
    "                            encoding='latin-1', header=0)\n",
    "zonalstat_wasser.drop([1,2,5,7,11,13,17], inplace=True)"
   ]
  },
  {
   "cell_type": "code",
   "execution_count": 293,
   "metadata": {
    "collapsed": false
   },
   "outputs": [
    {
     "data": {
      "text/html": [
       "<div>\n",
       "<table border=\"1\" class=\"dataframe\">\n",
       "  <thead>\n",
       "    <tr style=\"text-align: right;\">\n",
       "      <th></th>\n",
       "      <th>EZG_year</th>\n",
       "      <th>EZG_NAME</th>\n",
       "      <th>year</th>\n",
       "      <th>SedFracht_gemessen [t/a]</th>\n",
       "      <th>Area [m²]</th>\n",
       "      <th>IM_A_NAT</th>\n",
       "      <th>IM_A_NAT_Anteil</th>\n",
       "      <th>IM_A_MNT</th>\n",
       "      <th>IM_A_MNT_Anteil</th>\n",
       "      <th>IM_A_AL</th>\n",
       "      <th>IM_A_AL_Anteil</th>\n",
       "      <th>BI_A_PST</th>\n",
       "      <th>BI_A_PST_Anteil</th>\n",
       "      <th>IM_A_AGRL</th>\n",
       "      <th>IM_A_AGRL_Anteil</th>\n",
       "      <th>IM_A_WS</th>\n",
       "      <th>IM_A_WS_Anteil</th>\n",
       "    </tr>\n",
       "  </thead>\n",
       "  <tbody>\n",
       "    <tr>\n",
       "      <th>0</th>\n",
       "      <td>landeck_2008</td>\n",
       "      <td>landeck_br2_ezg</td>\n",
       "      <td>2008</td>\n",
       "      <td>170833.1</td>\n",
       "      <td>726933125</td>\n",
       "      <td>356.947421</td>\n",
       "      <td>0.491032</td>\n",
       "      <td>14.123907</td>\n",
       "      <td>0.0194</td>\n",
       "      <td>0.257898</td>\n",
       "      <td>0.000355</td>\n",
       "      <td>34.219</td>\n",
       "      <td>0.0471</td>\n",
       "      <td>34.477</td>\n",
       "      <td>0.047</td>\n",
       "      <td>3.548219</td>\n",
       "      <td>0.005</td>\n",
       "    </tr>\n",
       "    <tr>\n",
       "      <th>3</th>\n",
       "      <td>bruckh_2008</td>\n",
       "      <td>bruckh_ezg</td>\n",
       "      <td>2008</td>\n",
       "      <td>71813.2</td>\n",
       "      <td>316188125</td>\n",
       "      <td>118.516326</td>\n",
       "      <td>0.374829</td>\n",
       "      <td>4.323956</td>\n",
       "      <td>0.0137</td>\n",
       "      <td>0.376376</td>\n",
       "      <td>0.001190</td>\n",
       "      <td>55.450</td>\n",
       "      <td>0.1754</td>\n",
       "      <td>55.827</td>\n",
       "      <td>0.177</td>\n",
       "      <td>2.470029</td>\n",
       "      <td>0.008</td>\n",
       "    </tr>\n",
       "    <tr>\n",
       "      <th>4</th>\n",
       "      <td>koessen_2008</td>\n",
       "      <td>koessen_ezg</td>\n",
       "      <td>2008</td>\n",
       "      <td>164824.3</td>\n",
       "      <td>734265000</td>\n",
       "      <td>327.762693</td>\n",
       "      <td>0.446382</td>\n",
       "      <td>8.339129</td>\n",
       "      <td>0.0114</td>\n",
       "      <td>5.397308</td>\n",
       "      <td>0.007351</td>\n",
       "      <td>159.672</td>\n",
       "      <td>0.2175</td>\n",
       "      <td>165.069</td>\n",
       "      <td>0.225</td>\n",
       "      <td>6.367052</td>\n",
       "      <td>0.009</td>\n",
       "    </tr>\n",
       "    <tr>\n",
       "      <th>6</th>\n",
       "      <td>landeck_2009</td>\n",
       "      <td>landeck_br2_ezg</td>\n",
       "      <td>2009</td>\n",
       "      <td>50897.9</td>\n",
       "      <td>726933125</td>\n",
       "      <td>356.947421</td>\n",
       "      <td>0.491032</td>\n",
       "      <td>14.123907</td>\n",
       "      <td>0.0194</td>\n",
       "      <td>0.257898</td>\n",
       "      <td>0.000355</td>\n",
       "      <td>34.219</td>\n",
       "      <td>0.0471</td>\n",
       "      <td>34.477</td>\n",
       "      <td>0.047</td>\n",
       "      <td>3.548219</td>\n",
       "      <td>0.005</td>\n",
       "    </tr>\n",
       "    <tr>\n",
       "      <th>8</th>\n",
       "      <td>innsreich_2009</td>\n",
       "      <td>innsreich_ezg</td>\n",
       "      <td>2009</td>\n",
       "      <td>133564.3</td>\n",
       "      <td>846703125</td>\n",
       "      <td>344.311337</td>\n",
       "      <td>0.406649</td>\n",
       "      <td>0.991554</td>\n",
       "      <td>0.0012</td>\n",
       "      <td>5.369113</td>\n",
       "      <td>0.006341</td>\n",
       "      <td>111.329</td>\n",
       "      <td>0.1315</td>\n",
       "      <td>116.698</td>\n",
       "      <td>0.138</td>\n",
       "      <td>4.401518</td>\n",
       "      <td>0.005</td>\n",
       "    </tr>\n",
       "    <tr>\n",
       "      <th>9</th>\n",
       "      <td>bruckh_2009</td>\n",
       "      <td>bruckh_ezg</td>\n",
       "      <td>2009</td>\n",
       "      <td>59690.5</td>\n",
       "      <td>316188125</td>\n",
       "      <td>118.516326</td>\n",
       "      <td>0.374829</td>\n",
       "      <td>4.323956</td>\n",
       "      <td>0.0137</td>\n",
       "      <td>0.376376</td>\n",
       "      <td>0.001190</td>\n",
       "      <td>55.450</td>\n",
       "      <td>0.1754</td>\n",
       "      <td>55.827</td>\n",
       "      <td>0.177</td>\n",
       "      <td>2.470029</td>\n",
       "      <td>0.008</td>\n",
       "    </tr>\n",
       "    <tr>\n",
       "      <th>10</th>\n",
       "      <td>koessen_2009</td>\n",
       "      <td>koessen_ezg</td>\n",
       "      <td>2009</td>\n",
       "      <td>265521.2</td>\n",
       "      <td>734265000</td>\n",
       "      <td>327.762693</td>\n",
       "      <td>0.446382</td>\n",
       "      <td>8.339129</td>\n",
       "      <td>0.0114</td>\n",
       "      <td>5.397308</td>\n",
       "      <td>0.007351</td>\n",
       "      <td>159.672</td>\n",
       "      <td>0.2175</td>\n",
       "      <td>165.069</td>\n",
       "      <td>0.225</td>\n",
       "      <td>6.367052</td>\n",
       "      <td>0.009</td>\n",
       "    </tr>\n",
       "    <tr>\n",
       "      <th>12</th>\n",
       "      <td>landeck_2010</td>\n",
       "      <td>landeck_br2_ezg</td>\n",
       "      <td>2010</td>\n",
       "      <td>378974.1</td>\n",
       "      <td>726933125</td>\n",
       "      <td>356.947421</td>\n",
       "      <td>0.491032</td>\n",
       "      <td>14.123907</td>\n",
       "      <td>0.0194</td>\n",
       "      <td>0.257898</td>\n",
       "      <td>0.000355</td>\n",
       "      <td>34.219</td>\n",
       "      <td>0.0471</td>\n",
       "      <td>34.477</td>\n",
       "      <td>0.047</td>\n",
       "      <td>3.548219</td>\n",
       "      <td>0.005</td>\n",
       "    </tr>\n",
       "    <tr>\n",
       "      <th>14</th>\n",
       "      <td>innsreich_2010</td>\n",
       "      <td>innsreich_ezg</td>\n",
       "      <td>2010</td>\n",
       "      <td>115137.0</td>\n",
       "      <td>846703125</td>\n",
       "      <td>344.311337</td>\n",
       "      <td>0.406649</td>\n",
       "      <td>0.991554</td>\n",
       "      <td>0.0012</td>\n",
       "      <td>5.369113</td>\n",
       "      <td>0.006341</td>\n",
       "      <td>111.329</td>\n",
       "      <td>0.1315</td>\n",
       "      <td>116.698</td>\n",
       "      <td>0.138</td>\n",
       "      <td>4.401518</td>\n",
       "      <td>0.005</td>\n",
       "    </tr>\n",
       "    <tr>\n",
       "      <th>15</th>\n",
       "      <td>bruckh_2010</td>\n",
       "      <td>bruckh_ezg</td>\n",
       "      <td>2010</td>\n",
       "      <td>114665.1</td>\n",
       "      <td>316188125</td>\n",
       "      <td>118.516326</td>\n",
       "      <td>0.374829</td>\n",
       "      <td>4.323956</td>\n",
       "      <td>0.0137</td>\n",
       "      <td>0.376376</td>\n",
       "      <td>0.001190</td>\n",
       "      <td>55.450</td>\n",
       "      <td>0.1754</td>\n",
       "      <td>55.827</td>\n",
       "      <td>0.177</td>\n",
       "      <td>2.470029</td>\n",
       "      <td>0.008</td>\n",
       "    </tr>\n",
       "    <tr>\n",
       "      <th>16</th>\n",
       "      <td>koessen_2010</td>\n",
       "      <td>koessen_ezg</td>\n",
       "      <td>2010</td>\n",
       "      <td>356027.0</td>\n",
       "      <td>734265000</td>\n",
       "      <td>327.762693</td>\n",
       "      <td>0.446382</td>\n",
       "      <td>8.339129</td>\n",
       "      <td>0.0114</td>\n",
       "      <td>5.397308</td>\n",
       "      <td>0.007351</td>\n",
       "      <td>159.672</td>\n",
       "      <td>0.2175</td>\n",
       "      <td>165.069</td>\n",
       "      <td>0.225</td>\n",
       "      <td>6.367052</td>\n",
       "      <td>0.009</td>\n",
       "    </tr>\n",
       "  </tbody>\n",
       "</table>\n",
       "</div>"
      ],
      "text/plain": [
       "          EZG_year         EZG_NAME  year  SedFracht_gemessen [t/a]  \\\n",
       "0     landeck_2008  landeck_br2_ezg  2008                  170833.1   \n",
       "3      bruckh_2008       bruckh_ezg  2008                   71813.2   \n",
       "4     koessen_2008      koessen_ezg  2008                  164824.3   \n",
       "6     landeck_2009  landeck_br2_ezg  2009                   50897.9   \n",
       "8   innsreich_2009    innsreich_ezg  2009                  133564.3   \n",
       "9      bruckh_2009       bruckh_ezg  2009                   59690.5   \n",
       "10    koessen_2009      koessen_ezg  2009                  265521.2   \n",
       "12    landeck_2010  landeck_br2_ezg  2010                  378974.1   \n",
       "14  innsreich_2010    innsreich_ezg  2010                  115137.0   \n",
       "15     bruckh_2010       bruckh_ezg  2010                  114665.1   \n",
       "16    koessen_2010      koessen_ezg  2010                  356027.0   \n",
       "\n",
       "    Area [m²]    IM_A_NAT  IM_A_NAT_Anteil   IM_A_MNT  IM_A_MNT_Anteil  \\\n",
       "0   726933125  356.947421         0.491032  14.123907           0.0194   \n",
       "3   316188125  118.516326         0.374829   4.323956           0.0137   \n",
       "4   734265000  327.762693         0.446382   8.339129           0.0114   \n",
       "6   726933125  356.947421         0.491032  14.123907           0.0194   \n",
       "8   846703125  344.311337         0.406649   0.991554           0.0012   \n",
       "9   316188125  118.516326         0.374829   4.323956           0.0137   \n",
       "10  734265000  327.762693         0.446382   8.339129           0.0114   \n",
       "12  726933125  356.947421         0.491032  14.123907           0.0194   \n",
       "14  846703125  344.311337         0.406649   0.991554           0.0012   \n",
       "15  316188125  118.516326         0.374829   4.323956           0.0137   \n",
       "16  734265000  327.762693         0.446382   8.339129           0.0114   \n",
       "\n",
       "     IM_A_AL  IM_A_AL_Anteil  BI_A_PST  BI_A_PST_Anteil  IM_A_AGRL  \\\n",
       "0   0.257898        0.000355    34.219           0.0471     34.477   \n",
       "3   0.376376        0.001190    55.450           0.1754     55.827   \n",
       "4   5.397308        0.007351   159.672           0.2175    165.069   \n",
       "6   0.257898        0.000355    34.219           0.0471     34.477   \n",
       "8   5.369113        0.006341   111.329           0.1315    116.698   \n",
       "9   0.376376        0.001190    55.450           0.1754     55.827   \n",
       "10  5.397308        0.007351   159.672           0.2175    165.069   \n",
       "12  0.257898        0.000355    34.219           0.0471     34.477   \n",
       "14  5.369113        0.006341   111.329           0.1315    116.698   \n",
       "15  0.376376        0.001190    55.450           0.1754     55.827   \n",
       "16  5.397308        0.007351   159.672           0.2175    165.069   \n",
       "\n",
       "    IM_A_AGRL_Anteil   IM_A_WS  IM_A_WS_Anteil  \n",
       "0              0.047  3.548219           0.005  \n",
       "3              0.177  2.470029           0.008  \n",
       "4              0.225  6.367052           0.009  \n",
       "6              0.047  3.548219           0.005  \n",
       "8              0.138  4.401518           0.005  \n",
       "9              0.177  2.470029           0.008  \n",
       "10             0.225  6.367052           0.009  \n",
       "12             0.047  3.548219           0.005  \n",
       "14             0.138  4.401518           0.005  \n",
       "15             0.177  2.470029           0.008  \n",
       "16             0.225  6.367052           0.009  "
      ]
     },
     "execution_count": 293,
     "metadata": {},
     "output_type": "execute_result"
    }
   ],
   "source": [
    "zonalstat_areas"
   ]
  },
  {
   "cell_type": "code",
   "execution_count": 294,
   "metadata": {
    "collapsed": false
   },
   "outputs": [
    {
     "data": {
      "text/html": [
       "<div>\n",
       "<table border=\"1\" class=\"dataframe\">\n",
       "  <thead>\n",
       "    <tr style=\"text-align: right;\">\n",
       "      <th></th>\n",
       "      <th>EZG_year</th>\n",
       "      <th>EZG_NAME</th>\n",
       "      <th>year</th>\n",
       "      <th>elev</th>\n",
       "      <th>dist2stream</th>\n",
       "      <th>elevabvstream</th>\n",
       "      <th>slope</th>\n",
       "      <th>streampowerindex</th>\n",
       "      <th>topowetnessindex</th>\n",
       "      <th>toporoughnessindex</th>\n",
       "      <th>sedtransportindex</th>\n",
       "    </tr>\n",
       "  </thead>\n",
       "  <tbody>\n",
       "    <tr>\n",
       "      <th>0</th>\n",
       "      <td>landeck_2008</td>\n",
       "      <td>landeck_br2_ezg</td>\n",
       "      <td>2008</td>\n",
       "      <td>2123.67</td>\n",
       "      <td>1239.87</td>\n",
       "      <td>439.18</td>\n",
       "      <td>26.63</td>\n",
       "      <td>84.30</td>\n",
       "      <td>3.03</td>\n",
       "      <td>11.47</td>\n",
       "      <td>9.18</td>\n",
       "    </tr>\n",
       "    <tr>\n",
       "      <th>3</th>\n",
       "      <td>bruckh_2008</td>\n",
       "      <td>bruckh_ezg</td>\n",
       "      <td>2008</td>\n",
       "      <td>1330.51</td>\n",
       "      <td>1205.20</td>\n",
       "      <td>333.99</td>\n",
       "      <td>20.82</td>\n",
       "      <td>41.82</td>\n",
       "      <td>3.41</td>\n",
       "      <td>8.55</td>\n",
       "      <td>7.09</td>\n",
       "    </tr>\n",
       "    <tr>\n",
       "      <th>4</th>\n",
       "      <td>koessen_2008</td>\n",
       "      <td>koessen_ezg</td>\n",
       "      <td>2008</td>\n",
       "      <td>1189.11</td>\n",
       "      <td>1237.59</td>\n",
       "      <td>275.35</td>\n",
       "      <td>19.84</td>\n",
       "      <td>45.56</td>\n",
       "      <td>3.35</td>\n",
       "      <td>8.26</td>\n",
       "      <td>6.17</td>\n",
       "    </tr>\n",
       "    <tr>\n",
       "      <th>6</th>\n",
       "      <td>landeck_2009</td>\n",
       "      <td>landeck_br2_ezg</td>\n",
       "      <td>2009</td>\n",
       "      <td>2123.67</td>\n",
       "      <td>1239.87</td>\n",
       "      <td>439.18</td>\n",
       "      <td>26.63</td>\n",
       "      <td>84.30</td>\n",
       "      <td>3.03</td>\n",
       "      <td>11.47</td>\n",
       "      <td>9.18</td>\n",
       "    </tr>\n",
       "    <tr>\n",
       "      <th>8</th>\n",
       "      <td>innsreich_2009</td>\n",
       "      <td>innsreich_ezg</td>\n",
       "      <td>2009</td>\n",
       "      <td>1897.84</td>\n",
       "      <td>1267.54</td>\n",
       "      <td>443.92</td>\n",
       "      <td>26.08</td>\n",
       "      <td>90.10</td>\n",
       "      <td>3.12</td>\n",
       "      <td>11.28</td>\n",
       "      <td>9.11</td>\n",
       "    </tr>\n",
       "    <tr>\n",
       "      <th>9</th>\n",
       "      <td>bruckh_2009</td>\n",
       "      <td>bruckh_ezg</td>\n",
       "      <td>2009</td>\n",
       "      <td>1330.51</td>\n",
       "      <td>1205.20</td>\n",
       "      <td>333.99</td>\n",
       "      <td>20.82</td>\n",
       "      <td>41.82</td>\n",
       "      <td>3.41</td>\n",
       "      <td>8.55</td>\n",
       "      <td>7.09</td>\n",
       "    </tr>\n",
       "    <tr>\n",
       "      <th>10</th>\n",
       "      <td>koessen_2009</td>\n",
       "      <td>koessen_ezg</td>\n",
       "      <td>2009</td>\n",
       "      <td>1189.11</td>\n",
       "      <td>1237.59</td>\n",
       "      <td>275.35</td>\n",
       "      <td>19.84</td>\n",
       "      <td>45.56</td>\n",
       "      <td>3.35</td>\n",
       "      <td>8.26</td>\n",
       "      <td>6.17</td>\n",
       "    </tr>\n",
       "    <tr>\n",
       "      <th>12</th>\n",
       "      <td>landeck_2010</td>\n",
       "      <td>landeck_br2_ezg</td>\n",
       "      <td>2010</td>\n",
       "      <td>2123.67</td>\n",
       "      <td>1239.87</td>\n",
       "      <td>439.18</td>\n",
       "      <td>26.63</td>\n",
       "      <td>84.30</td>\n",
       "      <td>3.03</td>\n",
       "      <td>11.47</td>\n",
       "      <td>9.18</td>\n",
       "    </tr>\n",
       "    <tr>\n",
       "      <th>14</th>\n",
       "      <td>innsreich_2010</td>\n",
       "      <td>innsreich_ezg</td>\n",
       "      <td>2010</td>\n",
       "      <td>1897.84</td>\n",
       "      <td>1267.54</td>\n",
       "      <td>443.92</td>\n",
       "      <td>26.08</td>\n",
       "      <td>90.10</td>\n",
       "      <td>3.12</td>\n",
       "      <td>11.28</td>\n",
       "      <td>9.11</td>\n",
       "    </tr>\n",
       "    <tr>\n",
       "      <th>15</th>\n",
       "      <td>bruckh_2010</td>\n",
       "      <td>bruckh_ezg</td>\n",
       "      <td>2010</td>\n",
       "      <td>1330.51</td>\n",
       "      <td>1205.20</td>\n",
       "      <td>333.99</td>\n",
       "      <td>20.82</td>\n",
       "      <td>41.82</td>\n",
       "      <td>3.41</td>\n",
       "      <td>8.55</td>\n",
       "      <td>7.09</td>\n",
       "    </tr>\n",
       "    <tr>\n",
       "      <th>16</th>\n",
       "      <td>koessen_2010</td>\n",
       "      <td>koessen_ezg</td>\n",
       "      <td>2010</td>\n",
       "      <td>1189.11</td>\n",
       "      <td>1237.59</td>\n",
       "      <td>275.35</td>\n",
       "      <td>19.84</td>\n",
       "      <td>45.56</td>\n",
       "      <td>3.35</td>\n",
       "      <td>8.26</td>\n",
       "      <td>6.17</td>\n",
       "    </tr>\n",
       "  </tbody>\n",
       "</table>\n",
       "</div>"
      ],
      "text/plain": [
       "          EZG_year         EZG_NAME  year     elev  dist2stream  \\\n",
       "0     landeck_2008  landeck_br2_ezg  2008  2123.67      1239.87   \n",
       "3      bruckh_2008       bruckh_ezg  2008  1330.51      1205.20   \n",
       "4     koessen_2008      koessen_ezg  2008  1189.11      1237.59   \n",
       "6     landeck_2009  landeck_br2_ezg  2009  2123.67      1239.87   \n",
       "8   innsreich_2009    innsreich_ezg  2009  1897.84      1267.54   \n",
       "9      bruckh_2009       bruckh_ezg  2009  1330.51      1205.20   \n",
       "10    koessen_2009      koessen_ezg  2009  1189.11      1237.59   \n",
       "12    landeck_2010  landeck_br2_ezg  2010  2123.67      1239.87   \n",
       "14  innsreich_2010    innsreich_ezg  2010  1897.84      1267.54   \n",
       "15     bruckh_2010       bruckh_ezg  2010  1330.51      1205.20   \n",
       "16    koessen_2010      koessen_ezg  2010  1189.11      1237.59   \n",
       "\n",
       "    elevabvstream  slope  streampowerindex  topowetnessindex  \\\n",
       "0          439.18  26.63             84.30              3.03   \n",
       "3          333.99  20.82             41.82              3.41   \n",
       "4          275.35  19.84             45.56              3.35   \n",
       "6          439.18  26.63             84.30              3.03   \n",
       "8          443.92  26.08             90.10              3.12   \n",
       "9          333.99  20.82             41.82              3.41   \n",
       "10         275.35  19.84             45.56              3.35   \n",
       "12         439.18  26.63             84.30              3.03   \n",
       "14         443.92  26.08             90.10              3.12   \n",
       "15         333.99  20.82             41.82              3.41   \n",
       "16         275.35  19.84             45.56              3.35   \n",
       "\n",
       "    toporoughnessindex  sedtransportindex  \n",
       "0                11.47               9.18  \n",
       "3                 8.55               7.09  \n",
       "4                 8.26               6.17  \n",
       "6                11.47               9.18  \n",
       "8                11.28               9.11  \n",
       "9                 8.55               7.09  \n",
       "10                8.26               6.17  \n",
       "12               11.47               9.18  \n",
       "14               11.28               9.11  \n",
       "15                8.55               7.09  \n",
       "16                8.26               6.17  "
      ]
     },
     "execution_count": 294,
     "metadata": {},
     "output_type": "execute_result"
    }
   ],
   "source": [
    "zonalstat_dgm"
   ]
  },
  {
   "cell_type": "code",
   "execution_count": 309,
   "metadata": {
    "collapsed": false
   },
   "outputs": [
    {
     "data": {
      "text/html": [
       "<div>\n",
       "<table border=\"1\" class=\"dataframe\">\n",
       "  <thead>\n",
       "    <tr style=\"text-align: right;\">\n",
       "      <th></th>\n",
       "      <th>EZG_year</th>\n",
       "      <th>EZG_NAME</th>\n",
       "      <th>year</th>\n",
       "      <th>SedFracht_gemessen [t/a]</th>\n",
       "      <th>ER_gesamt</th>\n",
       "      <th>SDR_realworld</th>\n",
       "      <th>ER_nat_SL [t/a]</th>\n",
       "      <th>ER_nat_SL_spec [t/a/ha]</th>\n",
       "      <th>ER_mnt_SL [t/a]</th>\n",
       "      <th>ER_mnt_SL_spec [t/a/ha]</th>\n",
       "      <th>ER_agrl_SL [t/a]</th>\n",
       "      <th>ER_agrl_SL_spec [t/a/ha]</th>\n",
       "    </tr>\n",
       "  </thead>\n",
       "  <tbody>\n",
       "    <tr>\n",
       "      <th>0</th>\n",
       "      <td>landeck_2008</td>\n",
       "      <td>landeck_br2_ezg</td>\n",
       "      <td>2008</td>\n",
       "      <td>170833.1</td>\n",
       "      <td>317026.88</td>\n",
       "      <td>0.539</td>\n",
       "      <td>271810.79</td>\n",
       "      <td>7.61</td>\n",
       "      <td>5649.56</td>\n",
       "      <td>4.0</td>\n",
       "      <td>39566.53</td>\n",
       "      <td>11.48</td>\n",
       "    </tr>\n",
       "    <tr>\n",
       "      <th>3</th>\n",
       "      <td>bruckh_2008</td>\n",
       "      <td>bruckh_ezg</td>\n",
       "      <td>2008</td>\n",
       "      <td>71813.2</td>\n",
       "      <td>62259.94</td>\n",
       "      <td>1.153</td>\n",
       "      <td>21505.89</td>\n",
       "      <td>1.81</td>\n",
       "      <td>1729.58</td>\n",
       "      <td>4.0</td>\n",
       "      <td>39024.48</td>\n",
       "      <td>6.99</td>\n",
       "    </tr>\n",
       "    <tr>\n",
       "      <th>4</th>\n",
       "      <td>koessen_2008</td>\n",
       "      <td>koessen_ezg</td>\n",
       "      <td>2008</td>\n",
       "      <td>164824.3</td>\n",
       "      <td>126776.51</td>\n",
       "      <td>1.300</td>\n",
       "      <td>41910.41</td>\n",
       "      <td>1.28</td>\n",
       "      <td>3335.65</td>\n",
       "      <td>4.0</td>\n",
       "      <td>81530.45</td>\n",
       "      <td>4.94</td>\n",
       "    </tr>\n",
       "    <tr>\n",
       "      <th>6</th>\n",
       "      <td>landeck_2009</td>\n",
       "      <td>landeck_br2_ezg</td>\n",
       "      <td>2009</td>\n",
       "      <td>50897.9</td>\n",
       "      <td>329038.61</td>\n",
       "      <td>0.155</td>\n",
       "      <td>281388.33</td>\n",
       "      <td>7.88</td>\n",
       "      <td>5649.56</td>\n",
       "      <td>4.0</td>\n",
       "      <td>42000.71</td>\n",
       "      <td>12.18</td>\n",
       "    </tr>\n",
       "    <tr>\n",
       "      <th>8</th>\n",
       "      <td>innsreich_2009</td>\n",
       "      <td>innsreich_ezg</td>\n",
       "      <td>2009</td>\n",
       "      <td>133564.3</td>\n",
       "      <td>365746.21</td>\n",
       "      <td>0.365</td>\n",
       "      <td>198560.14</td>\n",
       "      <td>5.77</td>\n",
       "      <td>396.62</td>\n",
       "      <td>4.0</td>\n",
       "      <td>166789.45</td>\n",
       "      <td>14.29</td>\n",
       "    </tr>\n",
       "    <tr>\n",
       "      <th>9</th>\n",
       "      <td>bruckh_2009</td>\n",
       "      <td>bruckh_ezg</td>\n",
       "      <td>2009</td>\n",
       "      <td>59690.5</td>\n",
       "      <td>75337.39</td>\n",
       "      <td>0.792</td>\n",
       "      <td>26303.51</td>\n",
       "      <td>2.22</td>\n",
       "      <td>1729.58</td>\n",
       "      <td>4.0</td>\n",
       "      <td>47304.29</td>\n",
       "      <td>8.47</td>\n",
       "    </tr>\n",
       "    <tr>\n",
       "      <th>10</th>\n",
       "      <td>koessen_2009</td>\n",
       "      <td>koessen_ezg</td>\n",
       "      <td>2009</td>\n",
       "      <td>265521.2</td>\n",
       "      <td>152834.52</td>\n",
       "      <td>1.737</td>\n",
       "      <td>49451.73</td>\n",
       "      <td>1.51</td>\n",
       "      <td>3335.65</td>\n",
       "      <td>4.0</td>\n",
       "      <td>100047.13</td>\n",
       "      <td>6.06</td>\n",
       "    </tr>\n",
       "    <tr>\n",
       "      <th>12</th>\n",
       "      <td>landeck_2010</td>\n",
       "      <td>landeck_br2_ezg</td>\n",
       "      <td>2010</td>\n",
       "      <td>378974.1</td>\n",
       "      <td>407454.41</td>\n",
       "      <td>0.930</td>\n",
       "      <td>350774.19</td>\n",
       "      <td>9.83</td>\n",
       "      <td>5649.56</td>\n",
       "      <td>4.0</td>\n",
       "      <td>51030.66</td>\n",
       "      <td>14.80</td>\n",
       "    </tr>\n",
       "    <tr>\n",
       "      <th>14</th>\n",
       "      <td>innsreich_2010</td>\n",
       "      <td>innsreich_ezg</td>\n",
       "      <td>2010</td>\n",
       "      <td>115137.0</td>\n",
       "      <td>417833.11</td>\n",
       "      <td>0.276</td>\n",
       "      <td>228805.64</td>\n",
       "      <td>6.65</td>\n",
       "      <td>396.62</td>\n",
       "      <td>4.0</td>\n",
       "      <td>188630.86</td>\n",
       "      <td>16.16</td>\n",
       "    </tr>\n",
       "    <tr>\n",
       "      <th>15</th>\n",
       "      <td>bruckh_2010</td>\n",
       "      <td>bruckh_ezg</td>\n",
       "      <td>2010</td>\n",
       "      <td>114665.1</td>\n",
       "      <td>74343.62</td>\n",
       "      <td>1.542</td>\n",
       "      <td>25946.94</td>\n",
       "      <td>2.19</td>\n",
       "      <td>1729.58</td>\n",
       "      <td>4.0</td>\n",
       "      <td>46667.10</td>\n",
       "      <td>8.36</td>\n",
       "    </tr>\n",
       "    <tr>\n",
       "      <th>16</th>\n",
       "      <td>koessen_2010</td>\n",
       "      <td>koessen_ezg</td>\n",
       "      <td>2010</td>\n",
       "      <td>356027.0</td>\n",
       "      <td>149808.85</td>\n",
       "      <td>2.377</td>\n",
       "      <td>48542.17</td>\n",
       "      <td>1.48</td>\n",
       "      <td>3335.65</td>\n",
       "      <td>4.0</td>\n",
       "      <td>97931.03</td>\n",
       "      <td>5.93</td>\n",
       "    </tr>\n",
       "  </tbody>\n",
       "</table>\n",
       "</div>"
      ],
      "text/plain": [
       "          EZG_year         EZG_NAME  year  SedFracht_gemessen [t/a]  \\\n",
       "0     landeck_2008  landeck_br2_ezg  2008                  170833.1   \n",
       "3      bruckh_2008       bruckh_ezg  2008                   71813.2   \n",
       "4     koessen_2008      koessen_ezg  2008                  164824.3   \n",
       "6     landeck_2009  landeck_br2_ezg  2009                   50897.9   \n",
       "8   innsreich_2009    innsreich_ezg  2009                  133564.3   \n",
       "9      bruckh_2009       bruckh_ezg  2009                   59690.5   \n",
       "10    koessen_2009      koessen_ezg  2009                  265521.2   \n",
       "12    landeck_2010  landeck_br2_ezg  2010                  378974.1   \n",
       "14  innsreich_2010    innsreich_ezg  2010                  115137.0   \n",
       "15     bruckh_2010       bruckh_ezg  2010                  114665.1   \n",
       "16    koessen_2010      koessen_ezg  2010                  356027.0   \n",
       "\n",
       "    ER_gesamt  SDR_realworld  ER_nat_SL [t/a]  ER_nat_SL_spec [t/a/ha]  \\\n",
       "0   317026.88          0.539        271810.79                     7.61   \n",
       "3    62259.94          1.153         21505.89                     1.81   \n",
       "4   126776.51          1.300         41910.41                     1.28   \n",
       "6   329038.61          0.155        281388.33                     7.88   \n",
       "8   365746.21          0.365        198560.14                     5.77   \n",
       "9    75337.39          0.792         26303.51                     2.22   \n",
       "10  152834.52          1.737         49451.73                     1.51   \n",
       "12  407454.41          0.930        350774.19                     9.83   \n",
       "14  417833.11          0.276        228805.64                     6.65   \n",
       "15   74343.62          1.542         25946.94                     2.19   \n",
       "16  149808.85          2.377         48542.17                     1.48   \n",
       "\n",
       "    ER_mnt_SL [t/a]  ER_mnt_SL_spec [t/a/ha]  ER_agrl_SL [t/a]  \\\n",
       "0           5649.56                      4.0          39566.53   \n",
       "3           1729.58                      4.0          39024.48   \n",
       "4           3335.65                      4.0          81530.45   \n",
       "6           5649.56                      4.0          42000.71   \n",
       "8            396.62                      4.0         166789.45   \n",
       "9           1729.58                      4.0          47304.29   \n",
       "10          3335.65                      4.0         100047.13   \n",
       "12          5649.56                      4.0          51030.66   \n",
       "14           396.62                      4.0         188630.86   \n",
       "15          1729.58                      4.0          46667.10   \n",
       "16          3335.65                      4.0          97931.03   \n",
       "\n",
       "    ER_agrl_SL_spec [t/a/ha]  \n",
       "0                      11.48  \n",
       "3                       6.99  \n",
       "4                       4.94  \n",
       "6                      12.18  \n",
       "8                      14.29  \n",
       "9                       8.47  \n",
       "10                      6.06  \n",
       "12                     14.80  \n",
       "14                     16.16  \n",
       "15                      8.36  \n",
       "16                      5.93  "
      ]
     },
     "execution_count": 309,
     "metadata": {},
     "output_type": "execute_result"
    }
   ],
   "source": [
    "zonalstat_er_more"
   ]
  },
  {
   "cell_type": "code",
   "execution_count": 296,
   "metadata": {
    "collapsed": false,
    "scrolled": true
   },
   "outputs": [
    {
     "data": {
      "text/html": [
       "<div>\n",
       "<table border=\"1\" class=\"dataframe\">\n",
       "  <thead>\n",
       "    <tr style=\"text-align: right;\">\n",
       "      <th></th>\n",
       "      <th>EZG_year</th>\n",
       "      <th>EZG_NAME</th>\n",
       "      <th>year</th>\n",
       "      <th>BI_Q [m³/s]</th>\n",
       "      <th>BI_Q_dir [m³/s]</th>\n",
       "      <th>IM_PREC_yr [mm/a]</th>\n",
       "      <th>IM_PREC_yr_area [mm/a/km2]</th>\n",
       "      <th>IM_PREC_s [mm/summer]</th>\n",
       "      <th>IM_PREC_s _area[mm/summer]</th>\n",
       "    </tr>\n",
       "  </thead>\n",
       "  <tbody>\n",
       "    <tr>\n",
       "      <th>0</th>\n",
       "      <td>landeck_2008</td>\n",
       "      <td>landeck_br2_ezg</td>\n",
       "      <td>2008</td>\n",
       "      <td>29.413885</td>\n",
       "      <td>18.892000</td>\n",
       "      <td>31661.93908</td>\n",
       "      <td>43.555505</td>\n",
       "      <td>17304.36242</td>\n",
       "      <td>23.804614</td>\n",
       "    </tr>\n",
       "    <tr>\n",
       "      <th>3</th>\n",
       "      <td>bruckh_2008</td>\n",
       "      <td>bruckh_ezg</td>\n",
       "      <td>2008</td>\n",
       "      <td>11.902167</td>\n",
       "      <td>3.626768</td>\n",
       "      <td>18835.80132</td>\n",
       "      <td>59.571501</td>\n",
       "      <td>11010.97880</td>\n",
       "      <td>34.824138</td>\n",
       "    </tr>\n",
       "    <tr>\n",
       "      <th>4</th>\n",
       "      <td>koessen_2008</td>\n",
       "      <td>koessen_ezg</td>\n",
       "      <td>2008</td>\n",
       "      <td>23.690911</td>\n",
       "      <td>10.869262</td>\n",
       "      <td>41390.84165</td>\n",
       "      <td>56.370441</td>\n",
       "      <td>21536.23297</td>\n",
       "      <td>29.330328</td>\n",
       "    </tr>\n",
       "    <tr>\n",
       "      <th>6</th>\n",
       "      <td>landeck_2009</td>\n",
       "      <td>landeck_br2_ezg</td>\n",
       "      <td>2009</td>\n",
       "      <td>25.939382</td>\n",
       "      <td>16.079380</td>\n",
       "      <td>26607.85176</td>\n",
       "      <td>36.602888</td>\n",
       "      <td>15297.12032</td>\n",
       "      <td>21.043367</td>\n",
       "    </tr>\n",
       "    <tr>\n",
       "      <th>8</th>\n",
       "      <td>innsreich_2009</td>\n",
       "      <td>innsreich_ezg</td>\n",
       "      <td>2009</td>\n",
       "      <td>19.967390</td>\n",
       "      <td>8.178742</td>\n",
       "      <td>33020.27666</td>\n",
       "      <td>38.998647</td>\n",
       "      <td>19805.26868</td>\n",
       "      <td>23.391042</td>\n",
       "    </tr>\n",
       "    <tr>\n",
       "      <th>9</th>\n",
       "      <td>bruckh_2009</td>\n",
       "      <td>bruckh_ezg</td>\n",
       "      <td>2009</td>\n",
       "      <td>13.511204</td>\n",
       "      <td>4.748510</td>\n",
       "      <td>22066.12130</td>\n",
       "      <td>69.787951</td>\n",
       "      <td>14911.87688</td>\n",
       "      <td>47.161407</td>\n",
       "    </tr>\n",
       "    <tr>\n",
       "      <th>10</th>\n",
       "      <td>koessen_2009</td>\n",
       "      <td>koessen_ezg</td>\n",
       "      <td>2009</td>\n",
       "      <td>28.033451</td>\n",
       "      <td>14.793651</td>\n",
       "      <td>49151.74136</td>\n",
       "      <td>66.940058</td>\n",
       "      <td>31007.40090</td>\n",
       "      <td>42.229169</td>\n",
       "    </tr>\n",
       "    <tr>\n",
       "      <th>12</th>\n",
       "      <td>landeck_2010</td>\n",
       "      <td>landeck_br2_ezg</td>\n",
       "      <td>2010</td>\n",
       "      <td>25.653623</td>\n",
       "      <td>14.996704</td>\n",
       "      <td>29803.28552</td>\n",
       "      <td>40.998662</td>\n",
       "      <td>21411.50334</td>\n",
       "      <td>29.454571</td>\n",
       "    </tr>\n",
       "    <tr>\n",
       "      <th>14</th>\n",
       "      <td>innsreich_2010</td>\n",
       "      <td>innsreich_ezg</td>\n",
       "      <td>2010</td>\n",
       "      <td>17.562410</td>\n",
       "      <td>6.361864</td>\n",
       "      <td>35351.23930</td>\n",
       "      <td>41.751634</td>\n",
       "      <td>26018.26549</td>\n",
       "      <td>30.728912</td>\n",
       "    </tr>\n",
       "    <tr>\n",
       "      <th>15</th>\n",
       "      <td>bruckh_2010</td>\n",
       "      <td>bruckh_ezg</td>\n",
       "      <td>2010</td>\n",
       "      <td>10.731153</td>\n",
       "      <td>3.280241</td>\n",
       "      <td>14506.82636</td>\n",
       "      <td>45.880364</td>\n",
       "      <td>10959.24820</td>\n",
       "      <td>34.660531</td>\n",
       "    </tr>\n",
       "    <tr>\n",
       "      <th>16</th>\n",
       "      <td>koessen_2010</td>\n",
       "      <td>koessen_ezg</td>\n",
       "      <td>2010</td>\n",
       "      <td>21.613724</td>\n",
       "      <td>10.110466</td>\n",
       "      <td>41531.08624</td>\n",
       "      <td>56.561441</td>\n",
       "      <td>30106.63362</td>\n",
       "      <td>41.002409</td>\n",
       "    </tr>\n",
       "  </tbody>\n",
       "</table>\n",
       "</div>"
      ],
      "text/plain": [
       "          EZG_year         EZG_NAME  year  BI_Q [m³/s]  BI_Q_dir [m³/s]  \\\n",
       "0     landeck_2008  landeck_br2_ezg  2008    29.413885        18.892000   \n",
       "3      bruckh_2008       bruckh_ezg  2008    11.902167         3.626768   \n",
       "4     koessen_2008      koessen_ezg  2008    23.690911        10.869262   \n",
       "6     landeck_2009  landeck_br2_ezg  2009    25.939382        16.079380   \n",
       "8   innsreich_2009    innsreich_ezg  2009    19.967390         8.178742   \n",
       "9      bruckh_2009       bruckh_ezg  2009    13.511204         4.748510   \n",
       "10    koessen_2009      koessen_ezg  2009    28.033451        14.793651   \n",
       "12    landeck_2010  landeck_br2_ezg  2010    25.653623        14.996704   \n",
       "14  innsreich_2010    innsreich_ezg  2010    17.562410         6.361864   \n",
       "15     bruckh_2010       bruckh_ezg  2010    10.731153         3.280241   \n",
       "16    koessen_2010      koessen_ezg  2010    21.613724        10.110466   \n",
       "\n",
       "    IM_PREC_yr [mm/a]  IM_PREC_yr_area [mm/a/km2]  IM_PREC_s [mm/summer]  \\\n",
       "0         31661.93908                   43.555505            17304.36242   \n",
       "3         18835.80132                   59.571501            11010.97880   \n",
       "4         41390.84165                   56.370441            21536.23297   \n",
       "6         26607.85176                   36.602888            15297.12032   \n",
       "8         33020.27666                   38.998647            19805.26868   \n",
       "9         22066.12130                   69.787951            14911.87688   \n",
       "10        49151.74136                   66.940058            31007.40090   \n",
       "12        29803.28552                   40.998662            21411.50334   \n",
       "14        35351.23930                   41.751634            26018.26549   \n",
       "15        14506.82636                   45.880364            10959.24820   \n",
       "16        41531.08624                   56.561441            30106.63362   \n",
       "\n",
       "    IM_PREC_s _area[mm/summer]  \n",
       "0                    23.804614  \n",
       "3                    34.824138  \n",
       "4                    29.330328  \n",
       "6                    21.043367  \n",
       "8                    23.391042  \n",
       "9                    47.161407  \n",
       "10                   42.229169  \n",
       "12                   29.454571  \n",
       "14                   30.728912  \n",
       "15                   34.660531  \n",
       "16                   41.002409  "
      ]
     },
     "execution_count": 296,
     "metadata": {},
     "output_type": "execute_result"
    }
   ],
   "source": [
    "zonalstat_wasser"
   ]
  },
  {
   "cell_type": "code",
   "execution_count": 300,
   "metadata": {
    "collapsed": false,
    "scrolled": true
   },
   "outputs": [
    {
     "data": {
      "text/plain": [
       "<matplotlib.axes._subplots.AxesSubplot at 0x13c6de48>"
      ]
     },
     "execution_count": 300,
     "metadata": {},
     "output_type": "execute_result"
    },
    {
     "data": {
      "image/png": "[encoded data removed]",
      "text/plain": [
       "<matplotlib.figure.Figure at 0x13b2d898>"
      ]
     },
     "metadata": {},
     "output_type": "display_data"
    }
   ],
   "source": [
    "sns.regplot(zonalstat_wasser['IM_PREC_yr [mm/a]'], zonalstat_wasser['BI_Q [m³/s]'])"
   ]
  },
  {
   "cell_type": "code",
   "execution_count": 304,
   "metadata": {
    "collapsed": false
   },
   "outputs": [
    {
     "data": {
      "text/plain": [
       "<matplotlib.axes._subplots.AxesSubplot at 0x14de8470>"
      ]
     },
     "execution_count": 304,
     "metadata": {},
     "output_type": "execute_result"
    },
    {
     "data": {
      "image/png": "[encoded data removed]",
      "text/plain": [
       "<matplotlib.figure.Figure at 0x14c8bb70>"
      ]
     },
     "metadata": {},
     "output_type": "display_data"
    }
   ],
   "source": [
    "sns.regplot(zonalstat_wasser['IM_PREC_yr [mm/a]'], zonalstat_areas['SedFracht_gemessen [t/a]'])"
   ]
  },
  {
   "cell_type": "code",
   "execution_count": 303,
   "metadata": {
    "collapsed": false
   },
   "outputs": [
    {
     "data": {
      "text/plain": [
       "<matplotlib.axes._subplots.AxesSubplot at 0x14db2ba8>"
      ]
     },
     "execution_count": 303,
     "metadata": {},
     "output_type": "execute_result"
    },
    {
     "data": {
      "image/png": "[encoded data removed]",
      "text/plain": [
       "<matplotlib.figure.Figure at 0x14dbba58>"
      ]
     },
     "metadata": {},
     "output_type": "display_data"
    }
   ],
   "source": [
    "sns.regplot(zonalstat_wasser['IM_PREC_s [mm/summer]'], zonalstat_wasser['BI_Q [m³/s]'])"
   ]
  },
  {
   "cell_type": "code",
   "execution_count": 305,
   "metadata": {
    "collapsed": true
   },
   "outputs": [],
   "source": [
    "SDR_perfect = zonalstat_areas['SedFracht_gemessen [t/a]'] / zonalstat_er_more['ER_gesamt']"
   ]
  },
  {
   "cell_type": "code",
   "execution_count": 306,
   "metadata": {
    "collapsed": false,
    "scrolled": true
   },
   "outputs": [
    {
     "data": {
      "text/plain": [
       "0     0.538860\n",
       "3     1.153442\n",
       "4     1.300117\n",
       "6     0.154687\n",
       "8     0.365183\n",
       "9     0.792309\n",
       "10    1.737312\n",
       "12    0.930102\n",
       "14    0.275557\n",
       "15    1.542366\n",
       "16    2.376542\n",
       "dtype: float64"
      ]
     },
     "execution_count": 306,
     "metadata": {},
     "output_type": "execute_result"
    }
   ],
   "source": [
    "SDR_perfect"
   ]
  },
  {
   "cell_type": "code",
   "execution_count": 341,
   "metadata": {
    "collapsed": false
   },
   "outputs": [
    {
     "name": "stdout",
     "output_type": "stream",
     "text": [
      "slope: -0.000170386759961\n",
      "intercept: 1640.56445191\n",
      "r_value: -0.0469468187671\n",
      "r-squared: 0.00220400379235\n",
      "p_value: 0.890978560962\n",
      "std_err: 0.00120845170716\n"
     ]
    }
   ],
   "source": [
    "linregress_elev = scipy.stats.linregress(zonalstat_areas['SedFracht_gemessen [t/a]'], \n",
    "                                                                     zonalstat_dgm['elev'])\n",
    "print('slope:', linregress_elev.slope)\n",
    "print('intercept:', linregress_elev.intercept)\n",
    "print('r_value:', linregress_elev.rvalue)\n",
    "print('r-squared:', linregress_elev.rvalue**2)\n",
    "print('p_value:', linregress_elev.pvalue)\n",
    "print('std_err:', linregress_elev.stderr)"
   ]
  },
  {
   "cell_type": "code",
   "execution_count": 344,
   "metadata": {
    "collapsed": false
   },
   "outputs": [
    {
     "name": "stdout",
     "output_type": "stream",
     "text": [
      "(-0.046946818767100003, 0.89097856096218375)\n"
     ]
    }
   ],
   "source": [
    "pearsons_elev = scipy.stats.pearsonr(zonalstat_areas['SedFracht_gemessen [t/a]'], \n",
    "                                                                     zonalstat_dgm['elev'])\n",
    "\n",
    "print(pearsons_elev)"
   ]
  },
  {
   "cell_type": "code",
   "execution_count": 345,
   "metadata": {
    "collapsed": false
   },
   "outputs": [
    {
     "name": "stdout",
     "output_type": "stream",
     "text": [
      "SpearmanrResult(correlation=-0.15463842820677165, pvalue=0.64983507494718573)\n"
     ]
    }
   ],
   "source": [
    "spearman_elev = scipy.stats.spearmanr(zonalstat_areas['SedFracht_gemessen [t/a]'], \n",
    "                                                                     zonalstat_dgm['elev'])\n",
    "\n",
    "print(spearman_elev)"
   ]
  },
  {
   "cell_type": "code",
   "execution_count": 347,
   "metadata": {
    "collapsed": false
   },
   "outputs": [
    {
     "name": "stdout",
     "output_type": "stream",
     "text": [
      "1.04694681877\n"
     ]
    }
   ],
   "source": [
    "distance_elev = scipy.spatial.distance.correlation(zonalstat_areas['SedFracht_gemessen [t/a]'], \n",
    "                                                                     zonalstat_dgm['elev'])\n",
    "\n",
    "print(distance_elev)"
   ]
  },
  {
   "cell_type": "code",
   "execution_count": 340,
   "metadata": {
    "collapsed": false
   },
   "outputs": [
    {
     "name": "stdout",
     "output_type": "stream",
     "text": [
      "slope: 4.62580788819e-05\n",
      "intercept: 1226.90951953\n",
      "r_value: 0.239672635813\n",
      "r-squared: 0.0574429723576\n",
      "p_value: 0.477809588521\n",
      "std_err: 6.24599602479e-05\n"
     ]
    }
   ],
   "source": [
    "linregress_dist2stream = scipy.stats.linregress(zonalstat_areas['SedFracht_gemessen [t/a]'], \n",
    "                                                                     zonalstat_dgm['dist2stream'])\n",
    "print('slope:', linregress_dist2stream.slope)\n",
    "print('intercept:', linregress_dist2stream.intercept)\n",
    "print('r_value:', linregress_dist2stream.rvalue)\n",
    "print('r-squared:', linregress_dist2stream.rvalue**2)\n",
    "print('p_value:', linregress_dist2stream.pvalue)\n",
    "print('std_err:', linregress_dist2stream.stderr)"
   ]
  },
  {
   "cell_type": "code",
   "execution_count": 339,
   "metadata": {
    "collapsed": false
   },
   "outputs": [
    {
     "name": "stdout",
     "output_type": "stream",
     "text": [
      "slope: -0.000130665413716\n",
      "intercept: 389.027770438\n",
      "r_value: -0.199827685315\n",
      "r-squared: 0.0399311038184\n",
      "p_value: 0.555793257024\n",
      "std_err: 0.00021356738759\n"
     ]
    }
   ],
   "source": [
    "linregress_elevabvstream = scipy.stats.linregress(zonalstat_areas['SedFracht_gemessen [t/a]'], \n",
    "                                                                     zonalstat_dgm['elevabvstream'])\n",
    "print('slope:', linregress_elevabvstream.slope)\n",
    "print('intercept:', linregress_elevabvstream.intercept)\n",
    "print('r_value:', linregress_elevabvstream.rvalue)\n",
    "print('r-squared:', linregress_elevabvstream.rvalue**2)\n",
    "print('p_value:', linregress_elevabvstream.pvalue)\n",
    "print('std_err:', linregress_elevabvstream.stderr)"
   ]
  },
  {
   "cell_type": "code",
   "execution_count": 336,
   "metadata": {
    "collapsed": false
   },
   "outputs": [
    {
     "name": "stdout",
     "output_type": "stream",
     "text": [
      "slope: -1.92070133903e-06\n",
      "intercept: 23.4222417698\n",
      "r_value: -0.0685740495877\n",
      "r-squared: 0.00470240027686\n",
      "p_value: 0.84121805291\n",
      "std_err: 9.31440817539e-06\n"
     ]
    }
   ],
   "source": [
    "linregress_slope = scipy.stats.linregress(zonalstat_areas['SedFracht_gemessen [t/a]'], \n",
    "                                                                     zonalstat_dgm['slope'])\n",
    "print('slope:', linregress_slope.slope)\n",
    "print('intercept:', linregress_slope.intercept)\n",
    "print('r_value:', linregress_slope.rvalue)\n",
    "print('r-squared:', linregress_slope.rvalue**2)\n",
    "print('p_value:', linregress_slope.pvalue)\n",
    "print('std_err:', linregress_slope.stderr)"
   ]
  },
  {
   "cell_type": "code",
   "execution_count": 335,
   "metadata": {
    "collapsed": false
   },
   "outputs": [
    {
     "name": "stdout",
     "output_type": "stream",
     "text": [
      "slope: 1.70783299177e-06\n",
      "intercept: 62.9114497845\n",
      "r_value: 0.0086597239372\n",
      "r-squared: 7.49908186685e-05\n",
      "p_value: 0.979840112696\n",
      "std_err: 6.57360814677e-05\n"
     ]
    }
   ],
   "source": [
    "linregress_streampowerindex = scipy.stats.linregress(zonalstat_areas['SedFracht_gemessen [t/a]'], \n",
    "                                                                     zonalstat_dgm['streampowerindex'])\n",
    "print('slope:', linregress_streampowerindex.slope)\n",
    "print('intercept:', linregress_streampowerindex.intercept)\n",
    "print('r_value:', linregress_streampowerindex.rvalue)\n",
    "print('r-squared:', linregress_streampowerindex.rvalue**2)\n",
    "print('p_value:', linregress_streampowerindex.pvalue)\n",
    "print('std_err:', linregress_streampowerindex.stderr)"
   ]
  },
  {
   "cell_type": "code",
   "execution_count": 334,
   "metadata": {
    "collapsed": false,
    "scrolled": true
   },
   "outputs": [
    {
     "name": "stdout",
     "output_type": "stream",
     "text": [
      "slope: -1.72083231643e-07\n",
      "intercept: 3.26671378564\n",
      "r_value: -0.116784088779\n",
      "r-squared: 0.0136385233918\n",
      "p_value: 0.732384474433\n",
      "std_err: 4.87811094202e-07\n"
     ]
    }
   ],
   "source": [
    "linregress_topowetnessindex = scipy.stats.linregress(zonalstat_areas['SedFracht_gemessen [t/a]'], \n",
    "                                                                     zonalstat_dgm['topowetnessindex'])\n",
    "print('slope:', linregress_topowetnessindex.slope)\n",
    "print('intercept:', linregress_topowetnessindex.intercept)\n",
    "print('r_value:', linregress_topowetnessindex.rvalue)\n",
    "print('r-squared:', linregress_topowetnessindex.rvalue**2)\n",
    "print('p_value:', linregress_topowetnessindex.pvalue)\n",
    "print('std_err:', linregress_topowetnessindex.stderr)"
   ]
  },
  {
   "cell_type": "code",
   "execution_count": 332,
   "metadata": {
    "collapsed": false
   },
   "outputs": [
    {
     "name": "stdout",
     "output_type": "stream",
     "text": [
      "slope: -6.04201333151e-07\n",
      "intercept: 9.8670068463\n",
      "r_value: -0.0441168595594\n",
      "r-squared: 0.00194629729739\n",
      "p_value: 0.897519599344\n",
      "std_err: 4.56071348606e-06\n"
     ]
    }
   ],
   "source": [
    "linregress_toporoughnessindex = scipy.stats.linregress(zonalstat_areas['SedFracht_gemessen [t/a]'], \n",
    "                                                                     zonalstat_dgm['toporoughnessindex'])\n",
    "print('slope:', linregress_toporoughnessindex.slope)\n",
    "print('intercept:', linregress_toporoughnessindex.intercept)\n",
    "print('r_value:', linregress_toporoughnessindex.rvalue)\n",
    "print('r-squared:', linregress_toporoughnessindex.rvalue**2)\n",
    "print('p_value:', linregress_toporoughnessindex.pvalue)\n",
    "print('std_err:', linregress_toporoughnessindex.stderr)"
   ]
  },
  {
   "cell_type": "code",
   "execution_count": 333,
   "metadata": {
    "collapsed": false
   },
   "outputs": [
    {
     "name": "stdout",
     "output_type": "stream",
     "text": [
      "slope: -1.96709411715e-06\n",
      "intercept: 8.1129062045\n",
      "r_value: -0.164864520894\n",
      "r-squared: 0.0271803102495\n",
      "p_value: 0.628086821613\n",
      "std_err: 3.92277009712e-06\n"
     ]
    }
   ],
   "source": [
    "linregress_sedtransportindex = scipy.stats.linregress(zonalstat_areas['SedFracht_gemessen [t/a]'], \n",
    "                                                                     zonalstat_dgm['sedtransportindex'])\n",
    "print('slope:', linregress_sedtransportindex.slope)\n",
    "print('intercept:', linregress_sedtransportindex.intercept)\n",
    "print('r_value:', linregress_sedtransportindex.rvalue)\n",
    "print('r-squared:', linregress_sedtransportindex.rvalue**2)\n",
    "print('p_value:', linregress_sedtransportindex.pvalue)\n",
    "print('std_err:', linregress_sedtransportindex.stderr)"
   ]
  },
  {
   "cell_type": "code",
   "execution_count": 348,
   "metadata": {
    "collapsed": true
   },
   "outputs": [],
   "source": [
    "sdr_basic = pd.read_csv('D:\\Projekte\\Innprojekt\\Auswertungen\\Sedimenteintrag\\SDR_neu_Inn\\SDR_ZonalStat_sdr_basic_subset.csv', sep=';', decimal=',', \n",
    "                            encoding='latin-1', header=0)"
   ]
  },
  {
   "cell_type": "code",
   "execution_count": 349,
   "metadata": {
    "collapsed": false
   },
   "outputs": [
    {
     "data": {
      "text/html": [
       "<div>\n",
       "<table border=\"1\" class=\"dataframe\">\n",
       "  <thead>\n",
       "    <tr style=\"text-align: right;\">\n",
       "      <th></th>\n",
       "      <th>EZG_year</th>\n",
       "      <th>EZG_NAME</th>\n",
       "      <th>year</th>\n",
       "      <th>SedFracht_gemessen [t/a]</th>\n",
       "      <th>ER_gesamt</th>\n",
       "      <th>SDR_realworld</th>\n",
       "      <th>IM_A_MNT_Anteil</th>\n",
       "      <th>IM_A_NAT_Anteil</th>\n",
       "      <th>IM_A_AGRL_Anteil</th>\n",
       "      <th>IM_PREC_yr [mm/a]</th>\n",
       "      <th>BI_Q_dir [m³/s]</th>\n",
       "      <th>toporoughnessindex</th>\n",
       "      <th>slope</th>\n",
       "    </tr>\n",
       "  </thead>\n",
       "  <tbody>\n",
       "    <tr>\n",
       "      <th>0</th>\n",
       "      <td>landeck_2008</td>\n",
       "      <td>landeck_br2_ezg</td>\n",
       "      <td>2008</td>\n",
       "      <td>170833.1</td>\n",
       "      <td>317026.88</td>\n",
       "      <td>0.539</td>\n",
       "      <td>0.019429</td>\n",
       "      <td>0.491032</td>\n",
       "      <td>0.047428</td>\n",
       "      <td>31661.93908</td>\n",
       "      <td>18.892268</td>\n",
       "      <td>11.467255</td>\n",
       "      <td>26.627967</td>\n",
       "    </tr>\n",
       "    <tr>\n",
       "      <th>1</th>\n",
       "      <td>bruckh_2008</td>\n",
       "      <td>bruckh_ezg</td>\n",
       "      <td>2008</td>\n",
       "      <td>71813.2</td>\n",
       "      <td>62259.94</td>\n",
       "      <td>1.153</td>\n",
       "      <td>0.013675</td>\n",
       "      <td>0.374829</td>\n",
       "      <td>0.176562</td>\n",
       "      <td>18835.80132</td>\n",
       "      <td>3.626768</td>\n",
       "      <td>8.548645</td>\n",
       "      <td>20.816681</td>\n",
       "    </tr>\n",
       "    <tr>\n",
       "      <th>2</th>\n",
       "      <td>koessen_2008</td>\n",
       "      <td>koessen_ezg</td>\n",
       "      <td>2008</td>\n",
       "      <td>164824.3</td>\n",
       "      <td>126776.51</td>\n",
       "      <td>1.300</td>\n",
       "      <td>0.011357</td>\n",
       "      <td>0.446382</td>\n",
       "      <td>0.224808</td>\n",
       "      <td>41390.84165</td>\n",
       "      <td>10.869262</td>\n",
       "      <td>8.263672</td>\n",
       "      <td>19.841515</td>\n",
       "    </tr>\n",
       "    <tr>\n",
       "      <th>3</th>\n",
       "      <td>landeck_2009</td>\n",
       "      <td>landeck_br2_ezg</td>\n",
       "      <td>2009</td>\n",
       "      <td>50897.9</td>\n",
       "      <td>329038.61</td>\n",
       "      <td>0.155</td>\n",
       "      <td>0.019429</td>\n",
       "      <td>0.491032</td>\n",
       "      <td>0.047428</td>\n",
       "      <td>26607.85176</td>\n",
       "      <td>16.079380</td>\n",
       "      <td>11.467255</td>\n",
       "      <td>26.627967</td>\n",
       "    </tr>\n",
       "    <tr>\n",
       "      <th>4</th>\n",
       "      <td>innsreich_2009</td>\n",
       "      <td>innsreich_ezg</td>\n",
       "      <td>2009</td>\n",
       "      <td>133564.3</td>\n",
       "      <td>365746.21</td>\n",
       "      <td>0.365</td>\n",
       "      <td>0.001171</td>\n",
       "      <td>0.406649</td>\n",
       "      <td>0.137826</td>\n",
       "      <td>33020.27666</td>\n",
       "      <td>8.178742</td>\n",
       "      <td>11.284750</td>\n",
       "      <td>26.084484</td>\n",
       "    </tr>\n",
       "    <tr>\n",
       "      <th>5</th>\n",
       "      <td>bruckh_2009</td>\n",
       "      <td>bruckh_ezg</td>\n",
       "      <td>2009</td>\n",
       "      <td>59690.5</td>\n",
       "      <td>75337.39</td>\n",
       "      <td>0.792</td>\n",
       "      <td>0.013675</td>\n",
       "      <td>0.374829</td>\n",
       "      <td>0.176562</td>\n",
       "      <td>22066.12130</td>\n",
       "      <td>4.748510</td>\n",
       "      <td>8.548645</td>\n",
       "      <td>20.816681</td>\n",
       "    </tr>\n",
       "    <tr>\n",
       "      <th>6</th>\n",
       "      <td>koessen_2009</td>\n",
       "      <td>koessen_ezg</td>\n",
       "      <td>2009</td>\n",
       "      <td>265521.2</td>\n",
       "      <td>152834.52</td>\n",
       "      <td>1.737</td>\n",
       "      <td>0.011357</td>\n",
       "      <td>0.446382</td>\n",
       "      <td>0.224808</td>\n",
       "      <td>49151.74136</td>\n",
       "      <td>14.793651</td>\n",
       "      <td>8.263672</td>\n",
       "      <td>19.841515</td>\n",
       "    </tr>\n",
       "    <tr>\n",
       "      <th>7</th>\n",
       "      <td>landeck_2010</td>\n",
       "      <td>landeck_br2_ezg</td>\n",
       "      <td>2010</td>\n",
       "      <td>378974.1</td>\n",
       "      <td>407454.41</td>\n",
       "      <td>0.930</td>\n",
       "      <td>0.019429</td>\n",
       "      <td>0.491032</td>\n",
       "      <td>0.047428</td>\n",
       "      <td>29803.28552</td>\n",
       "      <td>14.996704</td>\n",
       "      <td>11.467255</td>\n",
       "      <td>26.627967</td>\n",
       "    </tr>\n",
       "    <tr>\n",
       "      <th>8</th>\n",
       "      <td>innsreich_2010</td>\n",
       "      <td>innsreich_ezg</td>\n",
       "      <td>2010</td>\n",
       "      <td>115137.0</td>\n",
       "      <td>417833.11</td>\n",
       "      <td>0.276</td>\n",
       "      <td>0.001171</td>\n",
       "      <td>0.406649</td>\n",
       "      <td>0.137826</td>\n",
       "      <td>35351.23930</td>\n",
       "      <td>6.361864</td>\n",
       "      <td>11.284750</td>\n",
       "      <td>26.084484</td>\n",
       "    </tr>\n",
       "    <tr>\n",
       "      <th>9</th>\n",
       "      <td>bruckh_2010</td>\n",
       "      <td>bruckh_ezg</td>\n",
       "      <td>2010</td>\n",
       "      <td>114665.1</td>\n",
       "      <td>74343.62</td>\n",
       "      <td>1.542</td>\n",
       "      <td>0.013675</td>\n",
       "      <td>0.374829</td>\n",
       "      <td>0.176562</td>\n",
       "      <td>14506.82636</td>\n",
       "      <td>3.280241</td>\n",
       "      <td>8.548645</td>\n",
       "      <td>20.816681</td>\n",
       "    </tr>\n",
       "    <tr>\n",
       "      <th>10</th>\n",
       "      <td>koessen_2010</td>\n",
       "      <td>koessen_ezg</td>\n",
       "      <td>2010</td>\n",
       "      <td>356027.0</td>\n",
       "      <td>149808.85</td>\n",
       "      <td>2.377</td>\n",
       "      <td>0.011357</td>\n",
       "      <td>0.446382</td>\n",
       "      <td>0.224808</td>\n",
       "      <td>41531.08624</td>\n",
       "      <td>10.110466</td>\n",
       "      <td>8.263672</td>\n",
       "      <td>19.841515</td>\n",
       "    </tr>\n",
       "  </tbody>\n",
       "</table>\n",
       "</div>"
      ],
      "text/plain": [
       "          EZG_year         EZG_NAME  year  SedFracht_gemessen [t/a]  \\\n",
       "0     landeck_2008  landeck_br2_ezg  2008                  170833.1   \n",
       "1      bruckh_2008       bruckh_ezg  2008                   71813.2   \n",
       "2     koessen_2008      koessen_ezg  2008                  164824.3   \n",
       "3     landeck_2009  landeck_br2_ezg  2009                   50897.9   \n",
       "4   innsreich_2009    innsreich_ezg  2009                  133564.3   \n",
       "5      bruckh_2009       bruckh_ezg  2009                   59690.5   \n",
       "6     koessen_2009      koessen_ezg  2009                  265521.2   \n",
       "7     landeck_2010  landeck_br2_ezg  2010                  378974.1   \n",
       "8   innsreich_2010    innsreich_ezg  2010                  115137.0   \n",
       "9      bruckh_2010       bruckh_ezg  2010                  114665.1   \n",
       "10    koessen_2010      koessen_ezg  2010                  356027.0   \n",
       "\n",
       "    ER_gesamt  SDR_realworld  IM_A_MNT_Anteil  IM_A_NAT_Anteil  \\\n",
       "0   317026.88          0.539         0.019429         0.491032   \n",
       "1    62259.94          1.153         0.013675         0.374829   \n",
       "2   126776.51          1.300         0.011357         0.446382   \n",
       "3   329038.61          0.155         0.019429         0.491032   \n",
       "4   365746.21          0.365         0.001171         0.406649   \n",
       "5    75337.39          0.792         0.013675         0.374829   \n",
       "6   152834.52          1.737         0.011357         0.446382   \n",
       "7   407454.41          0.930         0.019429         0.491032   \n",
       "8   417833.11          0.276         0.001171         0.406649   \n",
       "9    74343.62          1.542         0.013675         0.374829   \n",
       "10  149808.85          2.377         0.011357         0.446382   \n",
       "\n",
       "    IM_A_AGRL_Anteil  IM_PREC_yr [mm/a]  BI_Q_dir [m³/s]  toporoughnessindex  \\\n",
       "0           0.047428        31661.93908        18.892268           11.467255   \n",
       "1           0.176562        18835.80132         3.626768            8.548645   \n",
       "2           0.224808        41390.84165        10.869262            8.263672   \n",
       "3           0.047428        26607.85176        16.079380           11.467255   \n",
       "4           0.137826        33020.27666         8.178742           11.284750   \n",
       "5           0.176562        22066.12130         4.748510            8.548645   \n",
       "6           0.224808        49151.74136        14.793651            8.263672   \n",
       "7           0.047428        29803.28552        14.996704           11.467255   \n",
       "8           0.137826        35351.23930         6.361864           11.284750   \n",
       "9           0.176562        14506.82636         3.280241            8.548645   \n",
       "10          0.224808        41531.08624        10.110466            8.263672   \n",
       "\n",
       "        slope  \n",
       "0   26.627967  \n",
       "1   20.816681  \n",
       "2   19.841515  \n",
       "3   26.627967  \n",
       "4   26.084484  \n",
       "5   20.816681  \n",
       "6   19.841515  \n",
       "7   26.627967  \n",
       "8   26.084484  \n",
       "9   20.816681  \n",
       "10  19.841515  "
      ]
     },
     "execution_count": 349,
     "metadata": {},
     "output_type": "execute_result"
    }
   ],
   "source": [
    "sdr_basic"
   ]
  },
  {
   "cell_type": "code",
   "execution_count": 356,
   "metadata": {
    "collapsed": false
   },
   "outputs": [
    {
     "data": {
      "image/png": "[encoded data removed]",
      "text/plain": [
       "<matplotlib.figure.Figure at 0x14ebec18>"
      ]
     },
     "metadata": {},
     "output_type": "display_data"
    }
   ],
   "source": [
    "x = sdr_basic['SedFracht_gemessen [t/a]'].values\n",
    "y = sdr_basic['toporoughnessindex'].values\n",
    "\n",
    "# calculate polynomial\n",
    "z = np.polyfit(x, y, 3)\n",
    "f = np.poly1d(z)\n",
    "\n",
    "# calculate new x's and y's\n",
    "x_new = np.linspace(x[0], x[-1], 50)\n",
    "y_new = f(x_new)\n",
    "\n",
    "plt.plot(x,y,'o', x_new, y_new)\n",
    "plt.xlim([x[0]-1, x[-1] + 1 ])\n",
    "plt.show()"
   ]
  },
  {
   "cell_type": "markdown",
   "metadata": {},
   "source": [
    "http://scikit-learn.org/stable/auto_examples/tree/plot_tree_regression.html#sphx-glr-auto-examples-tree-plot-tree-regression-py"
   ]
  },
  {
   "cell_type": "code",
   "execution_count": null,
   "metadata": {
    "collapsed": true
   },
   "outputs": [],
   "source": [
    "# Create a random dataset\n",
    "rng = np.random.RandomState(1)\n",
    "X = np.sort(5 * rng.rand(80, 1), axis=0)\n",
    "y = np.sin(X).ravel()\n",
    "y[::5] += 3 * (0.5 - rng.rand(16))\n",
    "\n",
    "# Fit regression model\n",
    "regr_1 = DecisionTreeRegressor(max_depth=2)\n",
    "regr_2 = DecisionTreeRegressor(max_depth=5)\n",
    "regr_1.fit(X, y)\n",
    "regr_2.fit(X, y)\n",
    "\n",
    "# Predict\n",
    "X_test = np.arange(0.0, 5.0, 0.01)[:, np.newaxis]\n",
    "y_1 = regr_1.predict(X_test)\n",
    "y_2 = regr_2.predict(X_test)\n",
    "\n",
    "# Plot the results\n",
    "plt.figure()\n",
    "plt.scatter(X, y, c=\"darkorange\", label=\"data\")\n",
    "plt.plot(X_test, y_1, color=\"cornflowerblue\", label=\"max_depth=2\", linewidth=2)\n",
    "plt.plot(X_test, y_2, color=\"yellowgreen\", label=\"max_depth=5\", linewidth=2)\n",
    "plt.xlabel(\"data\")\n",
    "plt.ylabel(\"target\")\n",
    "plt.title(\"Decision Tree Regression\")\n",
    "plt.legend()\n",
    "plt.show()"
   ]
  },
  {
   "cell_type": "code",
   "execution_count": 365,
   "metadata": {
    "collapsed": true
   },
   "outputs": [],
   "source": [
    "sdr_test_features = ['IM_A_NAT_Anteil', 'IM_PREC_yr [mm/a]', 'BI_Q_dir [m³/s]', 'toporoughnessindex']"
   ]
  },
  {
   "cell_type": "code",
   "execution_count": 367,
   "metadata": {
    "collapsed": true
   },
   "outputs": [],
   "source": [
    "from sklearn.tree import DecisionTreeRegressor"
   ]
  },
  {
   "cell_type": "code",
   "execution_count": 368,
   "metadata": {
    "collapsed": false
   },
   "outputs": [
    {
     "data": {
      "text/plain": [
       "DecisionTreeRegressor(criterion='mse', max_depth=None, max_features=None,\n",
       "           max_leaf_nodes=None, min_samples_leaf=1, min_samples_split=2,\n",
       "           min_weight_fraction_leaf=0.0, presort=False, random_state=None,\n",
       "           splitter='best')"
      ]
     },
     "execution_count": 368,
     "metadata": {},
     "output_type": "execute_result"
    }
   ],
   "source": [
    "y = sdr_basic['SDR_realworld']\n",
    "X = sdr_basic[sdr_test_features]\n",
    "\n",
    "rt = DecisionTreeRegressor()\n",
    "rt.fit(X, y)"
   ]
  },
  {
   "cell_type": "code",
   "execution_count": 408,
   "metadata": {
    "collapsed": true
   },
   "outputs": [],
   "source": [
    "def visualize_tree(tree, feature_names):\n",
    "    from sklearn.tree import export_graphviz\n",
    "    \"\"\"Create tree png using graphviz.\n",
    "\n",
    "    Args\n",
    "    ----\n",
    "    tree -- scikit-learn DecsisionTree.\n",
    "    feature_names -- list of feature names.\n",
    "    \"\"\"\n",
    "    with open(\"rt3.dot\", 'w') as f:\n",
    "        export_graphviz(tree, out_file=f,\n",
    "                        feature_names=feature_names)\n",
    "\n",
    "    command = [\"dot\", \"-Tpng\", \"rt3.dot\", \"-o\", \"rt3.png\"]\n",
    "    try:\n",
    "        subprocess.check_call(command)\n",
    "    except:\n",
    "        exit(\"Could not run dot, ie graphviz, to \"\n",
    "             \"produce visualization\")"
   ]
  },
  {
   "cell_type": "code",
   "execution_count": 379,
   "metadata": {
    "collapsed": false
   },
   "outputs": [],
   "source": [
    "visualize_tree(rt, sdr_test_features)"
   ]
  },
  {
   "cell_type": "code",
   "execution_count": 404,
   "metadata": {
    "collapsed": false,
    "scrolled": true
   },
   "outputs": [
    {
     "data": {
      "text/html": [
       "<div>\n",
       "<table border=\"1\" class=\"dataframe\">\n",
       "  <thead>\n",
       "    <tr style=\"text-align: right;\">\n",
       "      <th></th>\n",
       "      <th>EZG_year</th>\n",
       "      <th>EZG_NAME</th>\n",
       "      <th>year</th>\n",
       "      <th>SedFracht_gemessen [t/a]</th>\n",
       "      <th>ER_gesamt</th>\n",
       "      <th>SDR_realworld</th>\n",
       "      <th>Area [m²]</th>\n",
       "      <th>IM_A_NAT</th>\n",
       "      <th>IM_A_NAT_Anteil</th>\n",
       "      <th>IM_A_MNT</th>\n",
       "      <th>...</th>\n",
       "      <th>IM_PREC_yr [mm/a]</th>\n",
       "      <th>IM_PREC_s [mm/summer]</th>\n",
       "      <th>elev</th>\n",
       "      <th>dist2stream</th>\n",
       "      <th>elevabvstream</th>\n",
       "      <th>slope</th>\n",
       "      <th>streampowerindex</th>\n",
       "      <th>topowetnessindex</th>\n",
       "      <th>toporoughnessindex</th>\n",
       "      <th>sedtransportindex</th>\n",
       "    </tr>\n",
       "  </thead>\n",
       "  <tbody>\n",
       "    <tr>\n",
       "      <th>0</th>\n",
       "      <td>landeck_2008</td>\n",
       "      <td>landeck_br2_ezg</td>\n",
       "      <td>2008</td>\n",
       "      <td>170833.1</td>\n",
       "      <td>317026.88220</td>\n",
       "      <td>0.538860</td>\n",
       "      <td>726933125</td>\n",
       "      <td>356.947421</td>\n",
       "      <td>0.491032</td>\n",
       "      <td>14.123907</td>\n",
       "      <td>...</td>\n",
       "      <td>31661.93908</td>\n",
       "      <td>17304.36242</td>\n",
       "      <td>2123.67</td>\n",
       "      <td>1239.87</td>\n",
       "      <td>439.18</td>\n",
       "      <td>26.63</td>\n",
       "      <td>84.30</td>\n",
       "      <td>3.03</td>\n",
       "      <td>11.47</td>\n",
       "      <td>9.18</td>\n",
       "    </tr>\n",
       "    <tr>\n",
       "      <th>1</th>\n",
       "      <td>bruckh_2008</td>\n",
       "      <td>bruckh_ezg</td>\n",
       "      <td>2008</td>\n",
       "      <td>71813.2</td>\n",
       "      <td>62259.94383</td>\n",
       "      <td>1.153441</td>\n",
       "      <td>316188125</td>\n",
       "      <td>118.516326</td>\n",
       "      <td>0.374829</td>\n",
       "      <td>4.323956</td>\n",
       "      <td>...</td>\n",
       "      <td>18835.80132</td>\n",
       "      <td>11010.97880</td>\n",
       "      <td>1330.51</td>\n",
       "      <td>1205.20</td>\n",
       "      <td>333.99</td>\n",
       "      <td>20.82</td>\n",
       "      <td>41.82</td>\n",
       "      <td>3.41</td>\n",
       "      <td>8.55</td>\n",
       "      <td>7.09</td>\n",
       "    </tr>\n",
       "    <tr>\n",
       "      <th>2</th>\n",
       "      <td>koessen_2008</td>\n",
       "      <td>koessen_ezg</td>\n",
       "      <td>2008</td>\n",
       "      <td>164824.3</td>\n",
       "      <td>126776.51100</td>\n",
       "      <td>1.300117</td>\n",
       "      <td>734265000</td>\n",
       "      <td>327.762693</td>\n",
       "      <td>0.446382</td>\n",
       "      <td>8.339129</td>\n",
       "      <td>...</td>\n",
       "      <td>41390.84165</td>\n",
       "      <td>21536.23297</td>\n",
       "      <td>1189.11</td>\n",
       "      <td>1237.59</td>\n",
       "      <td>275.35</td>\n",
       "      <td>19.84</td>\n",
       "      <td>45.56</td>\n",
       "      <td>3.35</td>\n",
       "      <td>8.26</td>\n",
       "      <td>6.17</td>\n",
       "    </tr>\n",
       "    <tr>\n",
       "      <th>3</th>\n",
       "      <td>landeck_2009</td>\n",
       "      <td>landeck_br2_ezg</td>\n",
       "      <td>2009</td>\n",
       "      <td>50897.9</td>\n",
       "      <td>329038.61050</td>\n",
       "      <td>0.154687</td>\n",
       "      <td>726933125</td>\n",
       "      <td>356.947421</td>\n",
       "      <td>0.491032</td>\n",
       "      <td>14.123907</td>\n",
       "      <td>...</td>\n",
       "      <td>26607.85176</td>\n",
       "      <td>15297.12032</td>\n",
       "      <td>2123.67</td>\n",
       "      <td>1239.87</td>\n",
       "      <td>439.18</td>\n",
       "      <td>26.63</td>\n",
       "      <td>84.30</td>\n",
       "      <td>3.03</td>\n",
       "      <td>11.47</td>\n",
       "      <td>9.18</td>\n",
       "    </tr>\n",
       "    <tr>\n",
       "      <th>4</th>\n",
       "      <td>innsreich_2009</td>\n",
       "      <td>innsreich_ezg</td>\n",
       "      <td>2009</td>\n",
       "      <td>133564.3</td>\n",
       "      <td>365746.20840</td>\n",
       "      <td>0.365183</td>\n",
       "      <td>846703125</td>\n",
       "      <td>344.311337</td>\n",
       "      <td>0.406649</td>\n",
       "      <td>0.991554</td>\n",
       "      <td>...</td>\n",
       "      <td>33020.27666</td>\n",
       "      <td>19805.26868</td>\n",
       "      <td>1897.84</td>\n",
       "      <td>1267.54</td>\n",
       "      <td>443.92</td>\n",
       "      <td>26.08</td>\n",
       "      <td>90.10</td>\n",
       "      <td>3.12</td>\n",
       "      <td>11.28</td>\n",
       "      <td>9.11</td>\n",
       "    </tr>\n",
       "    <tr>\n",
       "      <th>5</th>\n",
       "      <td>bruckh_2009</td>\n",
       "      <td>bruckh_ezg</td>\n",
       "      <td>2009</td>\n",
       "      <td>59690.5</td>\n",
       "      <td>75337.38618</td>\n",
       "      <td>0.792309</td>\n",
       "      <td>316188125</td>\n",
       "      <td>118.516326</td>\n",
       "      <td>0.374829</td>\n",
       "      <td>4.323956</td>\n",
       "      <td>...</td>\n",
       "      <td>22066.12130</td>\n",
       "      <td>14911.87688</td>\n",
       "      <td>1330.51</td>\n",
       "      <td>1205.20</td>\n",
       "      <td>333.99</td>\n",
       "      <td>20.82</td>\n",
       "      <td>41.82</td>\n",
       "      <td>3.41</td>\n",
       "      <td>8.55</td>\n",
       "      <td>7.09</td>\n",
       "    </tr>\n",
       "    <tr>\n",
       "      <th>6</th>\n",
       "      <td>koessen_2009</td>\n",
       "      <td>koessen_ezg</td>\n",
       "      <td>2009</td>\n",
       "      <td>265521.2</td>\n",
       "      <td>152834.51620</td>\n",
       "      <td>1.737312</td>\n",
       "      <td>734265000</td>\n",
       "      <td>327.762693</td>\n",
       "      <td>0.446382</td>\n",
       "      <td>8.339129</td>\n",
       "      <td>...</td>\n",
       "      <td>49151.74136</td>\n",
       "      <td>31007.40090</td>\n",
       "      <td>1189.11</td>\n",
       "      <td>1237.59</td>\n",
       "      <td>275.35</td>\n",
       "      <td>19.84</td>\n",
       "      <td>45.56</td>\n",
       "      <td>3.35</td>\n",
       "      <td>8.26</td>\n",
       "      <td>6.17</td>\n",
       "    </tr>\n",
       "    <tr>\n",
       "      <th>7</th>\n",
       "      <td>landeck_2010</td>\n",
       "      <td>landeck_br2_ezg</td>\n",
       "      <td>2010</td>\n",
       "      <td>378974.1</td>\n",
       "      <td>407454.41090</td>\n",
       "      <td>0.930102</td>\n",
       "      <td>726933125</td>\n",
       "      <td>356.947421</td>\n",
       "      <td>0.491032</td>\n",
       "      <td>14.123907</td>\n",
       "      <td>...</td>\n",
       "      <td>29803.28552</td>\n",
       "      <td>21411.50334</td>\n",
       "      <td>2123.67</td>\n",
       "      <td>1239.87</td>\n",
       "      <td>439.18</td>\n",
       "      <td>26.63</td>\n",
       "      <td>84.30</td>\n",
       "      <td>3.03</td>\n",
       "      <td>11.47</td>\n",
       "      <td>9.18</td>\n",
       "    </tr>\n",
       "    <tr>\n",
       "      <th>8</th>\n",
       "      <td>innsreich_2010</td>\n",
       "      <td>innsreich_ezg</td>\n",
       "      <td>2010</td>\n",
       "      <td>115137.0</td>\n",
       "      <td>417833.11220</td>\n",
       "      <td>0.275557</td>\n",
       "      <td>846703125</td>\n",
       "      <td>344.311337</td>\n",
       "      <td>0.406649</td>\n",
       "      <td>0.991554</td>\n",
       "      <td>...</td>\n",
       "      <td>35351.23930</td>\n",
       "      <td>26018.26549</td>\n",
       "      <td>1897.84</td>\n",
       "      <td>1267.54</td>\n",
       "      <td>443.92</td>\n",
       "      <td>26.08</td>\n",
       "      <td>90.10</td>\n",
       "      <td>3.12</td>\n",
       "      <td>11.28</td>\n",
       "      <td>9.11</td>\n",
       "    </tr>\n",
       "    <tr>\n",
       "      <th>9</th>\n",
       "      <td>bruckh_2010</td>\n",
       "      <td>bruckh_ezg</td>\n",
       "      <td>2010</td>\n",
       "      <td>114665.1</td>\n",
       "      <td>74343.61901</td>\n",
       "      <td>1.542366</td>\n",
       "      <td>316188125</td>\n",
       "      <td>118.516326</td>\n",
       "      <td>0.374829</td>\n",
       "      <td>4.323956</td>\n",
       "      <td>...</td>\n",
       "      <td>14506.82636</td>\n",
       "      <td>10959.24820</td>\n",
       "      <td>1330.51</td>\n",
       "      <td>1205.20</td>\n",
       "      <td>333.99</td>\n",
       "      <td>20.82</td>\n",
       "      <td>41.82</td>\n",
       "      <td>3.41</td>\n",
       "      <td>8.55</td>\n",
       "      <td>7.09</td>\n",
       "    </tr>\n",
       "    <tr>\n",
       "      <th>10</th>\n",
       "      <td>koessen_2010</td>\n",
       "      <td>koessen_ezg</td>\n",
       "      <td>2010</td>\n",
       "      <td>356027.0</td>\n",
       "      <td>149808.84800</td>\n",
       "      <td>2.376542</td>\n",
       "      <td>734265000</td>\n",
       "      <td>327.762693</td>\n",
       "      <td>0.446382</td>\n",
       "      <td>8.339129</td>\n",
       "      <td>...</td>\n",
       "      <td>41531.08624</td>\n",
       "      <td>30106.63362</td>\n",
       "      <td>1189.11</td>\n",
       "      <td>1237.59</td>\n",
       "      <td>275.35</td>\n",
       "      <td>19.84</td>\n",
       "      <td>45.56</td>\n",
       "      <td>3.35</td>\n",
       "      <td>8.26</td>\n",
       "      <td>6.17</td>\n",
       "    </tr>\n",
       "  </tbody>\n",
       "</table>\n",
       "<p>11 rows × 31 columns</p>\n",
       "</div>"
      ],
      "text/plain": [
       "          EZG_year         EZG_NAME  year  SedFracht_gemessen [t/a]  \\\n",
       "0     landeck_2008  landeck_br2_ezg  2008                  170833.1   \n",
       "1      bruckh_2008       bruckh_ezg  2008                   71813.2   \n",
       "2     koessen_2008      koessen_ezg  2008                  164824.3   \n",
       "3     landeck_2009  landeck_br2_ezg  2009                   50897.9   \n",
       "4   innsreich_2009    innsreich_ezg  2009                  133564.3   \n",
       "5      bruckh_2009       bruckh_ezg  2009                   59690.5   \n",
       "6     koessen_2009      koessen_ezg  2009                  265521.2   \n",
       "7     landeck_2010  landeck_br2_ezg  2010                  378974.1   \n",
       "8   innsreich_2010    innsreich_ezg  2010                  115137.0   \n",
       "9      bruckh_2010       bruckh_ezg  2010                  114665.1   \n",
       "10    koessen_2010      koessen_ezg  2010                  356027.0   \n",
       "\n",
       "       ER_gesamt  SDR_realworld  Area [m²]    IM_A_NAT  IM_A_NAT_Anteil  \\\n",
       "0   317026.88220       0.538860  726933125  356.947421         0.491032   \n",
       "1    62259.94383       1.153441  316188125  118.516326         0.374829   \n",
       "2   126776.51100       1.300117  734265000  327.762693         0.446382   \n",
       "3   329038.61050       0.154687  726933125  356.947421         0.491032   \n",
       "4   365746.20840       0.365183  846703125  344.311337         0.406649   \n",
       "5    75337.38618       0.792309  316188125  118.516326         0.374829   \n",
       "6   152834.51620       1.737312  734265000  327.762693         0.446382   \n",
       "7   407454.41090       0.930102  726933125  356.947421         0.491032   \n",
       "8   417833.11220       0.275557  846703125  344.311337         0.406649   \n",
       "9    74343.61901       1.542366  316188125  118.516326         0.374829   \n",
       "10  149808.84800       2.376542  734265000  327.762693         0.446382   \n",
       "\n",
       "     IM_A_MNT        ...          IM_PREC_yr [mm/a]  IM_PREC_s [mm/summer]  \\\n",
       "0   14.123907        ...                31661.93908            17304.36242   \n",
       "1    4.323956        ...                18835.80132            11010.97880   \n",
       "2    8.339129        ...                41390.84165            21536.23297   \n",
       "3   14.123907        ...                26607.85176            15297.12032   \n",
       "4    0.991554        ...                33020.27666            19805.26868   \n",
       "5    4.323956        ...                22066.12130            14911.87688   \n",
       "6    8.339129        ...                49151.74136            31007.40090   \n",
       "7   14.123907        ...                29803.28552            21411.50334   \n",
       "8    0.991554        ...                35351.23930            26018.26549   \n",
       "9    4.323956        ...                14506.82636            10959.24820   \n",
       "10   8.339129        ...                41531.08624            30106.63362   \n",
       "\n",
       "       elev  dist2stream  elevabvstream  slope  streampowerindex  \\\n",
       "0   2123.67      1239.87         439.18  26.63             84.30   \n",
       "1   1330.51      1205.20         333.99  20.82             41.82   \n",
       "2   1189.11      1237.59         275.35  19.84             45.56   \n",
       "3   2123.67      1239.87         439.18  26.63             84.30   \n",
       "4   1897.84      1267.54         443.92  26.08             90.10   \n",
       "5   1330.51      1205.20         333.99  20.82             41.82   \n",
       "6   1189.11      1237.59         275.35  19.84             45.56   \n",
       "7   2123.67      1239.87         439.18  26.63             84.30   \n",
       "8   1897.84      1267.54         443.92  26.08             90.10   \n",
       "9   1330.51      1205.20         333.99  20.82             41.82   \n",
       "10  1189.11      1237.59         275.35  19.84             45.56   \n",
       "\n",
       "    topowetnessindex  toporoughnessindex  sedtransportindex  \n",
       "0               3.03               11.47               9.18  \n",
       "1               3.41                8.55               7.09  \n",
       "2               3.35                8.26               6.17  \n",
       "3               3.03               11.47               9.18  \n",
       "4               3.12               11.28               9.11  \n",
       "5               3.41                8.55               7.09  \n",
       "6               3.35                8.26               6.17  \n",
       "7               3.03               11.47               9.18  \n",
       "8               3.12               11.28               9.11  \n",
       "9               3.41                8.55               7.09  \n",
       "10              3.35                8.26               6.17  \n",
       "\n",
       "[11 rows x 31 columns]"
      ]
     },
     "execution_count": 404,
     "metadata": {},
     "output_type": "execute_result"
    }
   ],
   "source": [
    "sdr_ohneER_subset = pd.read_csv('D:\\Projekte\\Innprojekt\\Auswertungen\\Sedimenteintrag\\SDR_neu_Inn\\SDR_ZonalStat_ohneER_subset.csv', sep=';', decimal=',', \n",
    "                            encoding='latin-1', header=0)\n",
    "sdr_ohneER_subset"
   ]
  },
  {
   "cell_type": "code",
   "execution_count": 407,
   "metadata": {
    "collapsed": false
   },
   "outputs": [
    {
     "name": "stdout",
     "output_type": "stream",
     "text": [
      "Index(['Area [m²]', 'IM_A_NAT', 'IM_A_NAT_Anteil', 'IM_A_MNT',\n",
      "       'IM_A_MNT_Anteil', 'IM_A_AL', 'IM_A_AL_Anteil', 'BI_A_PST',\n",
      "       'BI_A_PST_Anteil', 'IM_A_AGRL', 'IM_A_AGRL_Anteil', 'IM_A_WS',\n",
      "       'IM_A_WS_Anteil', 'BI_Q [m³/s]', 'BI_Q_dir [m³/s]', 'IM_PREC_yr [mm/a]',\n",
      "       'IM_PREC_s [mm/summer]', 'elev', 'dist2stream', 'elevabvstream',\n",
      "       'slope', 'streampowerindex', 'topowetnessindex', 'toporoughnessindex',\n",
      "       'sedtransportindex'],\n",
      "      dtype='object')\n"
     ]
    }
   ],
   "source": [
    "print(sdr_ohneER_subset.ix[:,6:].columns)"
   ]
  },
  {
   "cell_type": "code",
   "execution_count": 409,
   "metadata": {
    "collapsed": false,
    "scrolled": true
   },
   "outputs": [
    {
     "data": {
      "text/plain": [
       "DecisionTreeRegressor(criterion='mse', max_depth=None, max_features=None,\n",
       "           max_leaf_nodes=None, min_samples_leaf=1, min_samples_split=2,\n",
       "           min_weight_fraction_leaf=0.0, presort=False, random_state=None,\n",
       "           splitter='best')"
      ]
     },
     "execution_count": 409,
     "metadata": {},
     "output_type": "execute_result"
    }
   ],
   "source": [
    "y_fastalles = sdr_ohneER_subset['SDR_realworld']\n",
    "X_fastalles = sdr_ohneER_subset.ix[:,6:]\n",
    "\n",
    "rt3 = DecisionTreeRegressor()\n",
    "rt3.fit(X_fastalles, y_fastalles)"
   ]
  },
  {
   "cell_type": "code",
   "execution_count": 410,
   "metadata": {
    "collapsed": true
   },
   "outputs": [],
   "source": [
    "visualize_tree(rt3, sdr_ohneER_subset.ix[:,6:].columns)"
   ]
  },
  {
   "cell_type": "code",
   "execution_count": 401,
   "metadata": {
    "collapsed": false
   },
   "outputs": [
    {
     "ename": "NameError",
     "evalue": "name 'export_graphviz' is not defined",
     "output_type": "error",
     "traceback": [
      "\u001b[0;31m---------------------------------------------------------------------------\u001b[0m",
      "\u001b[0;31mNameError\u001b[0m                                 Traceback (most recent call last)",
      "\u001b[0;32m<ipython-input-401-b204d058383f>\u001b[0m in \u001b[0;36m<module>\u001b[0;34m()\u001b[0m\n\u001b[0;32m----> 1\u001b[0;31m export_graphviz(rt2, out_file=t,\n\u001b[0m\u001b[1;32m      2\u001b[0m                         feature_names=sdr_alles_subset.ix[:,5:].columns)\n",
      "\u001b[0;31mNameError\u001b[0m: name 'export_graphviz' is not defined"
     ]
    }
   ],
   "source": [
    "export_graphviz(rt2, out_file=t,\n",
    "                        feature_names=sdr_alles_subset.ix[:,5:].columns)"
   ]
  }
 ],
 "metadata": {
  "kernelspec": {
   "display_name": "Python [default]",
   "language": "python",
   "name": "python3"
  },
  "language_info": {
   "codemirror_mode": {
    "name": "ipython",
    "version": 3
   },
   "file_extension": ".py",
   "mimetype": "text/x-python",
   "name": "python",
   "nbconvert_exporter": "python",
   "pygments_lexer": "ipython3",
   "version": "3.5.2"
  }
 },
 "nbformat": 4,
 "nbformat_minor": 0
}
