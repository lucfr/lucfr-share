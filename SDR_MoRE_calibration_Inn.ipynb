{
 "cells": [
  {
   "cell_type": "code",
   "execution_count": 1,
   "metadata": {
    "collapsed": true
   },
   "outputs": [],
   "source": [
    "%matplotlib inline\n",
    "\n",
    "import pandas as pd\n",
    "import numpy as np\n",
    "import os\n",
    "import matplotlib.pyplot as plt\n",
    "import seaborn as sns"
   ]
  },
  {
   "cell_type": "code",
   "execution_count": 2,
   "metadata": {
    "collapsed": true
   },
   "outputs": [],
   "source": [
    "import lmfit"
   ]
  },
  {
   "cell_type": "code",
   "execution_count": 6,
   "metadata": {
    "collapsed": false
   },
   "outputs": [
    {
     "data": {
      "text/html": [
       "<div>\n",
       "<table border=\"1\" class=\"dataframe\">\n",
       "  <thead>\n",
       "    <tr style=\"text-align: right;\">\n",
       "      <th></th>\n",
       "      <th>EZG_year</th>\n",
       "      <th>EZG_NAME</th>\n",
       "      <th>year</th>\n",
       "      <th>SedFracht_gemessen [t/a]</th>\n",
       "      <th>ER_gesamt</th>\n",
       "      <th>SDR_realworld</th>\n",
       "      <th>Area [m²]</th>\n",
       "      <th>IM_A_NAT</th>\n",
       "      <th>IM_A_NAT_Anteil</th>\n",
       "      <th>IM_A_MNT</th>\n",
       "      <th>...</th>\n",
       "      <th>IM_PREC_yr [mm/a]</th>\n",
       "      <th>IM_PREC_s [mm/summer]</th>\n",
       "      <th>elev</th>\n",
       "      <th>dist2stream</th>\n",
       "      <th>elevabvstream</th>\n",
       "      <th>slope</th>\n",
       "      <th>streampowerindex</th>\n",
       "      <th>topowetnessindex</th>\n",
       "      <th>toporoughnessindex</th>\n",
       "      <th>sedtransportindex</th>\n",
       "    </tr>\n",
       "  </thead>\n",
       "  <tbody>\n",
       "    <tr>\n",
       "      <th>0</th>\n",
       "      <td>landeck_2008</td>\n",
       "      <td>landeck_br2_ezg</td>\n",
       "      <td>2008</td>\n",
       "      <td>170833.1</td>\n",
       "      <td>317026.88220</td>\n",
       "      <td>0.538860</td>\n",
       "      <td>726933125</td>\n",
       "      <td>356.947421</td>\n",
       "      <td>0.491032</td>\n",
       "      <td>14.123907</td>\n",
       "      <td>...</td>\n",
       "      <td>31661.93908</td>\n",
       "      <td>17304.36242</td>\n",
       "      <td>2123.67</td>\n",
       "      <td>1239.87</td>\n",
       "      <td>439.18</td>\n",
       "      <td>26.63</td>\n",
       "      <td>84.30</td>\n",
       "      <td>3.03</td>\n",
       "      <td>11.47</td>\n",
       "      <td>9.18</td>\n",
       "    </tr>\n",
       "    <tr>\n",
       "      <th>1</th>\n",
       "      <td>bruckh_2008</td>\n",
       "      <td>bruckh_ezg</td>\n",
       "      <td>2008</td>\n",
       "      <td>71813.2</td>\n",
       "      <td>62259.94383</td>\n",
       "      <td>1.153441</td>\n",
       "      <td>316188125</td>\n",
       "      <td>118.516326</td>\n",
       "      <td>0.374829</td>\n",
       "      <td>4.323956</td>\n",
       "      <td>...</td>\n",
       "      <td>18835.80132</td>\n",
       "      <td>11010.97880</td>\n",
       "      <td>1330.51</td>\n",
       "      <td>1205.20</td>\n",
       "      <td>333.99</td>\n",
       "      <td>20.82</td>\n",
       "      <td>41.82</td>\n",
       "      <td>3.41</td>\n",
       "      <td>8.55</td>\n",
       "      <td>7.09</td>\n",
       "    </tr>\n",
       "    <tr>\n",
       "      <th>2</th>\n",
       "      <td>koessen_2008</td>\n",
       "      <td>koessen_ezg</td>\n",
       "      <td>2008</td>\n",
       "      <td>164824.3</td>\n",
       "      <td>126776.51100</td>\n",
       "      <td>1.300117</td>\n",
       "      <td>734265000</td>\n",
       "      <td>327.762693</td>\n",
       "      <td>0.446382</td>\n",
       "      <td>8.339129</td>\n",
       "      <td>...</td>\n",
       "      <td>41390.84165</td>\n",
       "      <td>21536.23297</td>\n",
       "      <td>1189.11</td>\n",
       "      <td>1237.59</td>\n",
       "      <td>275.35</td>\n",
       "      <td>19.84</td>\n",
       "      <td>45.56</td>\n",
       "      <td>3.35</td>\n",
       "      <td>8.26</td>\n",
       "      <td>6.17</td>\n",
       "    </tr>\n",
       "    <tr>\n",
       "      <th>3</th>\n",
       "      <td>landeck_2009</td>\n",
       "      <td>landeck_br2_ezg</td>\n",
       "      <td>2009</td>\n",
       "      <td>50897.9</td>\n",
       "      <td>329038.61050</td>\n",
       "      <td>0.154687</td>\n",
       "      <td>726933125</td>\n",
       "      <td>356.947421</td>\n",
       "      <td>0.491032</td>\n",
       "      <td>14.123907</td>\n",
       "      <td>...</td>\n",
       "      <td>26607.85176</td>\n",
       "      <td>15297.12032</td>\n",
       "      <td>2123.67</td>\n",
       "      <td>1239.87</td>\n",
       "      <td>439.18</td>\n",
       "      <td>26.63</td>\n",
       "      <td>84.30</td>\n",
       "      <td>3.03</td>\n",
       "      <td>11.47</td>\n",
       "      <td>9.18</td>\n",
       "    </tr>\n",
       "    <tr>\n",
       "      <th>4</th>\n",
       "      <td>innsreich_2009</td>\n",
       "      <td>innsreich_ezg</td>\n",
       "      <td>2009</td>\n",
       "      <td>133564.3</td>\n",
       "      <td>365746.20840</td>\n",
       "      <td>0.365183</td>\n",
       "      <td>846703125</td>\n",
       "      <td>344.311337</td>\n",
       "      <td>0.406649</td>\n",
       "      <td>0.991554</td>\n",
       "      <td>...</td>\n",
       "      <td>33020.27666</td>\n",
       "      <td>19805.26868</td>\n",
       "      <td>1897.84</td>\n",
       "      <td>1267.54</td>\n",
       "      <td>443.92</td>\n",
       "      <td>26.08</td>\n",
       "      <td>90.10</td>\n",
       "      <td>3.12</td>\n",
       "      <td>11.28</td>\n",
       "      <td>9.11</td>\n",
       "    </tr>\n",
       "    <tr>\n",
       "      <th>5</th>\n",
       "      <td>bruckh_2009</td>\n",
       "      <td>bruckh_ezg</td>\n",
       "      <td>2009</td>\n",
       "      <td>59690.5</td>\n",
       "      <td>75337.38618</td>\n",
       "      <td>0.792309</td>\n",
       "      <td>316188125</td>\n",
       "      <td>118.516326</td>\n",
       "      <td>0.374829</td>\n",
       "      <td>4.323956</td>\n",
       "      <td>...</td>\n",
       "      <td>22066.12130</td>\n",
       "      <td>14911.87688</td>\n",
       "      <td>1330.51</td>\n",
       "      <td>1205.20</td>\n",
       "      <td>333.99</td>\n",
       "      <td>20.82</td>\n",
       "      <td>41.82</td>\n",
       "      <td>3.41</td>\n",
       "      <td>8.55</td>\n",
       "      <td>7.09</td>\n",
       "    </tr>\n",
       "    <tr>\n",
       "      <th>6</th>\n",
       "      <td>koessen_2009</td>\n",
       "      <td>koessen_ezg</td>\n",
       "      <td>2009</td>\n",
       "      <td>265521.2</td>\n",
       "      <td>152834.51620</td>\n",
       "      <td>1.737312</td>\n",
       "      <td>734265000</td>\n",
       "      <td>327.762693</td>\n",
       "      <td>0.446382</td>\n",
       "      <td>8.339129</td>\n",
       "      <td>...</td>\n",
       "      <td>49151.74136</td>\n",
       "      <td>31007.40090</td>\n",
       "      <td>1189.11</td>\n",
       "      <td>1237.59</td>\n",
       "      <td>275.35</td>\n",
       "      <td>19.84</td>\n",
       "      <td>45.56</td>\n",
       "      <td>3.35</td>\n",
       "      <td>8.26</td>\n",
       "      <td>6.17</td>\n",
       "    </tr>\n",
       "    <tr>\n",
       "      <th>7</th>\n",
       "      <td>landeck_2010</td>\n",
       "      <td>landeck_br2_ezg</td>\n",
       "      <td>2010</td>\n",
       "      <td>378974.1</td>\n",
       "      <td>407454.41090</td>\n",
       "      <td>0.930102</td>\n",
       "      <td>726933125</td>\n",
       "      <td>356.947421</td>\n",
       "      <td>0.491032</td>\n",
       "      <td>14.123907</td>\n",
       "      <td>...</td>\n",
       "      <td>29803.28552</td>\n",
       "      <td>21411.50334</td>\n",
       "      <td>2123.67</td>\n",
       "      <td>1239.87</td>\n",
       "      <td>439.18</td>\n",
       "      <td>26.63</td>\n",
       "      <td>84.30</td>\n",
       "      <td>3.03</td>\n",
       "      <td>11.47</td>\n",
       "      <td>9.18</td>\n",
       "    </tr>\n",
       "    <tr>\n",
       "      <th>8</th>\n",
       "      <td>innsreich_2010</td>\n",
       "      <td>innsreich_ezg</td>\n",
       "      <td>2010</td>\n",
       "      <td>115137.0</td>\n",
       "      <td>417833.11220</td>\n",
       "      <td>0.275557</td>\n",
       "      <td>846703125</td>\n",
       "      <td>344.311337</td>\n",
       "      <td>0.406649</td>\n",
       "      <td>0.991554</td>\n",
       "      <td>...</td>\n",
       "      <td>35351.23930</td>\n",
       "      <td>26018.26549</td>\n",
       "      <td>1897.84</td>\n",
       "      <td>1267.54</td>\n",
       "      <td>443.92</td>\n",
       "      <td>26.08</td>\n",
       "      <td>90.10</td>\n",
       "      <td>3.12</td>\n",
       "      <td>11.28</td>\n",
       "      <td>9.11</td>\n",
       "    </tr>\n",
       "    <tr>\n",
       "      <th>9</th>\n",
       "      <td>bruckh_2010</td>\n",
       "      <td>bruckh_ezg</td>\n",
       "      <td>2010</td>\n",
       "      <td>114665.1</td>\n",
       "      <td>74343.61901</td>\n",
       "      <td>1.542366</td>\n",
       "      <td>316188125</td>\n",
       "      <td>118.516326</td>\n",
       "      <td>0.374829</td>\n",
       "      <td>4.323956</td>\n",
       "      <td>...</td>\n",
       "      <td>14506.82636</td>\n",
       "      <td>10959.24820</td>\n",
       "      <td>1330.51</td>\n",
       "      <td>1205.20</td>\n",
       "      <td>333.99</td>\n",
       "      <td>20.82</td>\n",
       "      <td>41.82</td>\n",
       "      <td>3.41</td>\n",
       "      <td>8.55</td>\n",
       "      <td>7.09</td>\n",
       "    </tr>\n",
       "    <tr>\n",
       "      <th>10</th>\n",
       "      <td>koessen_2010</td>\n",
       "      <td>koessen_ezg</td>\n",
       "      <td>2010</td>\n",
       "      <td>356027.0</td>\n",
       "      <td>149808.84800</td>\n",
       "      <td>2.376542</td>\n",
       "      <td>734265000</td>\n",
       "      <td>327.762693</td>\n",
       "      <td>0.446382</td>\n",
       "      <td>8.339129</td>\n",
       "      <td>...</td>\n",
       "      <td>41531.08624</td>\n",
       "      <td>30106.63362</td>\n",
       "      <td>1189.11</td>\n",
       "      <td>1237.59</td>\n",
       "      <td>275.35</td>\n",
       "      <td>19.84</td>\n",
       "      <td>45.56</td>\n",
       "      <td>3.35</td>\n",
       "      <td>8.26</td>\n",
       "      <td>6.17</td>\n",
       "    </tr>\n",
       "  </tbody>\n",
       "</table>\n",
       "<p>11 rows × 32 columns</p>\n",
       "</div>"
      ],
      "text/plain": [
       "          EZG_year         EZG_NAME  year  SedFracht_gemessen [t/a]  \\\n",
       "0     landeck_2008  landeck_br2_ezg  2008                  170833.1   \n",
       "1      bruckh_2008       bruckh_ezg  2008                   71813.2   \n",
       "2     koessen_2008      koessen_ezg  2008                  164824.3   \n",
       "3     landeck_2009  landeck_br2_ezg  2009                   50897.9   \n",
       "4   innsreich_2009    innsreich_ezg  2009                  133564.3   \n",
       "5      bruckh_2009       bruckh_ezg  2009                   59690.5   \n",
       "6     koessen_2009      koessen_ezg  2009                  265521.2   \n",
       "7     landeck_2010  landeck_br2_ezg  2010                  378974.1   \n",
       "8   innsreich_2010    innsreich_ezg  2010                  115137.0   \n",
       "9      bruckh_2010       bruckh_ezg  2010                  114665.1   \n",
       "10    koessen_2010      koessen_ezg  2010                  356027.0   \n",
       "\n",
       "       ER_gesamt  SDR_realworld  Area [m²]    IM_A_NAT  IM_A_NAT_Anteil  \\\n",
       "0   317026.88220       0.538860  726933125  356.947421         0.491032   \n",
       "1    62259.94383       1.153441  316188125  118.516326         0.374829   \n",
       "2   126776.51100       1.300117  734265000  327.762693         0.446382   \n",
       "3   329038.61050       0.154687  726933125  356.947421         0.491032   \n",
       "4   365746.20840       0.365183  846703125  344.311337         0.406649   \n",
       "5    75337.38618       0.792309  316188125  118.516326         0.374829   \n",
       "6   152834.51620       1.737312  734265000  327.762693         0.446382   \n",
       "7   407454.41090       0.930102  726933125  356.947421         0.491032   \n",
       "8   417833.11220       0.275557  846703125  344.311337         0.406649   \n",
       "9    74343.61901       1.542366  316188125  118.516326         0.374829   \n",
       "10  149808.84800       2.376542  734265000  327.762693         0.446382   \n",
       "\n",
       "     IM_A_MNT        ...          IM_PREC_yr [mm/a]  IM_PREC_s [mm/summer]  \\\n",
       "0   14.123907        ...                31661.93908            17304.36242   \n",
       "1    4.323956        ...                18835.80132            11010.97880   \n",
       "2    8.339129        ...                41390.84165            21536.23297   \n",
       "3   14.123907        ...                26607.85176            15297.12032   \n",
       "4    0.991554        ...                33020.27666            19805.26868   \n",
       "5    4.323956        ...                22066.12130            14911.87688   \n",
       "6    8.339129        ...                49151.74136            31007.40090   \n",
       "7   14.123907        ...                29803.28552            21411.50334   \n",
       "8    0.991554        ...                35351.23930            26018.26549   \n",
       "9    4.323956        ...                14506.82636            10959.24820   \n",
       "10   8.339129        ...                41531.08624            30106.63362   \n",
       "\n",
       "       elev  dist2stream  elevabvstream  slope  streampowerindex  \\\n",
       "0   2123.67      1239.87         439.18  26.63             84.30   \n",
       "1   1330.51      1205.20         333.99  20.82             41.82   \n",
       "2   1189.11      1237.59         275.35  19.84             45.56   \n",
       "3   2123.67      1239.87         439.18  26.63             84.30   \n",
       "4   1897.84      1267.54         443.92  26.08             90.10   \n",
       "5   1330.51      1205.20         333.99  20.82             41.82   \n",
       "6   1189.11      1237.59         275.35  19.84             45.56   \n",
       "7   2123.67      1239.87         439.18  26.63             84.30   \n",
       "8   1897.84      1267.54         443.92  26.08             90.10   \n",
       "9   1330.51      1205.20         333.99  20.82             41.82   \n",
       "10  1189.11      1237.59         275.35  19.84             45.56   \n",
       "\n",
       "    topowetnessindex  toporoughnessindex  sedtransportindex  \n",
       "0               3.03               11.47               9.18  \n",
       "1               3.41                8.55               7.09  \n",
       "2               3.35                8.26               6.17  \n",
       "3               3.03               11.47               9.18  \n",
       "4               3.12               11.28               9.11  \n",
       "5               3.41                8.55               7.09  \n",
       "6               3.35                8.26               6.17  \n",
       "7               3.03               11.47               9.18  \n",
       "8               3.12               11.28               9.11  \n",
       "9               3.41                8.55               7.09  \n",
       "10              3.35                8.26               6.17  \n",
       "\n",
       "[11 rows x 32 columns]"
      ]
     },
     "execution_count": 6,
     "metadata": {},
     "output_type": "execute_result"
    }
   ],
   "source": [
    "daten_4_calib = pd.read_csv('D:\\Projekte\\Innprojekt\\Auswertungen\\Sedimenteintrag\\SDR_neu_Inn\\SDR_ZonalStat_calib.csv', sep=';', decimal=',', \n",
    "                            encoding='latin-1', header=0)\n",
    "daten_4_calib"
   ]
  },
  {
   "cell_type": "code",
   "execution_count": 86,
   "metadata": {
    "collapsed": false
   },
   "outputs": [
    {
     "data": {
      "text/html": [
       "<div>\n",
       "<table border=\"1\" class=\"dataframe\">\n",
       "  <thead>\n",
       "    <tr style=\"text-align: right;\">\n",
       "      <th></th>\n",
       "      <th>EZG_year</th>\n",
       "      <th>EZG_NAME</th>\n",
       "      <th>year</th>\n",
       "      <th>SedFracht_gemessen [t/a]</th>\n",
       "      <th>ER_gesamt</th>\n",
       "      <th>SDR_realworld</th>\n",
       "      <th>Area [m²]</th>\n",
       "      <th>IM_A_NAT</th>\n",
       "      <th>IM_A_NAT_Anteil</th>\n",
       "      <th>IM_A_MNT</th>\n",
       "      <th>...</th>\n",
       "      <th>IM_PREC_yr [mm/a]</th>\n",
       "      <th>IM_PREC_s [mm/summer]</th>\n",
       "      <th>elev</th>\n",
       "      <th>dist2stream</th>\n",
       "      <th>elevabvstream</th>\n",
       "      <th>slope</th>\n",
       "      <th>streampowerindex</th>\n",
       "      <th>topowetnessindex</th>\n",
       "      <th>toporoughnessindex</th>\n",
       "      <th>sedtransportindex</th>\n",
       "    </tr>\n",
       "  </thead>\n",
       "  <tbody>\n",
       "    <tr>\n",
       "      <th>0</th>\n",
       "      <td>landeck_2008</td>\n",
       "      <td>landeck_br2_ezg</td>\n",
       "      <td>2008</td>\n",
       "      <td>170833.1</td>\n",
       "      <td>317026.88220</td>\n",
       "      <td>0.538860</td>\n",
       "      <td>726933125</td>\n",
       "      <td>356.947421</td>\n",
       "      <td>0.491032</td>\n",
       "      <td>14.123907</td>\n",
       "      <td>...</td>\n",
       "      <td>31661.93908</td>\n",
       "      <td>17304.36242</td>\n",
       "      <td>2123.67</td>\n",
       "      <td>1239.87</td>\n",
       "      <td>439.18</td>\n",
       "      <td>26.63</td>\n",
       "      <td>84.30</td>\n",
       "      <td>3.03</td>\n",
       "      <td>11.47</td>\n",
       "      <td>9.18</td>\n",
       "    </tr>\n",
       "    <tr>\n",
       "      <th>1</th>\n",
       "      <td>bruckh_2008</td>\n",
       "      <td>bruckh_ezg</td>\n",
       "      <td>2008</td>\n",
       "      <td>71813.2</td>\n",
       "      <td>62259.94383</td>\n",
       "      <td>1.153441</td>\n",
       "      <td>316188125</td>\n",
       "      <td>118.516326</td>\n",
       "      <td>0.374829</td>\n",
       "      <td>4.323956</td>\n",
       "      <td>...</td>\n",
       "      <td>18835.80132</td>\n",
       "      <td>11010.97880</td>\n",
       "      <td>1330.51</td>\n",
       "      <td>1205.20</td>\n",
       "      <td>333.99</td>\n",
       "      <td>20.82</td>\n",
       "      <td>41.82</td>\n",
       "      <td>3.41</td>\n",
       "      <td>8.55</td>\n",
       "      <td>7.09</td>\n",
       "    </tr>\n",
       "    <tr>\n",
       "      <th>2</th>\n",
       "      <td>koessen_2008</td>\n",
       "      <td>koessen_ezg</td>\n",
       "      <td>2008</td>\n",
       "      <td>164824.3</td>\n",
       "      <td>126776.51100</td>\n",
       "      <td>1.300117</td>\n",
       "      <td>734265000</td>\n",
       "      <td>327.762693</td>\n",
       "      <td>0.446382</td>\n",
       "      <td>8.339129</td>\n",
       "      <td>...</td>\n",
       "      <td>41390.84165</td>\n",
       "      <td>21536.23297</td>\n",
       "      <td>1189.11</td>\n",
       "      <td>1237.59</td>\n",
       "      <td>275.35</td>\n",
       "      <td>19.84</td>\n",
       "      <td>45.56</td>\n",
       "      <td>3.35</td>\n",
       "      <td>8.26</td>\n",
       "      <td>6.17</td>\n",
       "    </tr>\n",
       "    <tr>\n",
       "      <th>3</th>\n",
       "      <td>landeck_2009</td>\n",
       "      <td>landeck_br2_ezg</td>\n",
       "      <td>2009</td>\n",
       "      <td>50897.9</td>\n",
       "      <td>329038.61050</td>\n",
       "      <td>0.154687</td>\n",
       "      <td>726933125</td>\n",
       "      <td>356.947421</td>\n",
       "      <td>0.491032</td>\n",
       "      <td>14.123907</td>\n",
       "      <td>...</td>\n",
       "      <td>26607.85176</td>\n",
       "      <td>15297.12032</td>\n",
       "      <td>2123.67</td>\n",
       "      <td>1239.87</td>\n",
       "      <td>439.18</td>\n",
       "      <td>26.63</td>\n",
       "      <td>84.30</td>\n",
       "      <td>3.03</td>\n",
       "      <td>11.47</td>\n",
       "      <td>9.18</td>\n",
       "    </tr>\n",
       "    <tr>\n",
       "      <th>4</th>\n",
       "      <td>innsreich_2009</td>\n",
       "      <td>innsreich_ezg</td>\n",
       "      <td>2009</td>\n",
       "      <td>133564.3</td>\n",
       "      <td>365746.20840</td>\n",
       "      <td>0.365183</td>\n",
       "      <td>846703125</td>\n",
       "      <td>344.311337</td>\n",
       "      <td>0.406649</td>\n",
       "      <td>0.991554</td>\n",
       "      <td>...</td>\n",
       "      <td>33020.27666</td>\n",
       "      <td>19805.26868</td>\n",
       "      <td>1897.84</td>\n",
       "      <td>1267.54</td>\n",
       "      <td>443.92</td>\n",
       "      <td>26.08</td>\n",
       "      <td>90.10</td>\n",
       "      <td>3.12</td>\n",
       "      <td>11.28</td>\n",
       "      <td>9.11</td>\n",
       "    </tr>\n",
       "    <tr>\n",
       "      <th>5</th>\n",
       "      <td>bruckh_2009</td>\n",
       "      <td>bruckh_ezg</td>\n",
       "      <td>2009</td>\n",
       "      <td>59690.5</td>\n",
       "      <td>75337.38618</td>\n",
       "      <td>0.792309</td>\n",
       "      <td>316188125</td>\n",
       "      <td>118.516326</td>\n",
       "      <td>0.374829</td>\n",
       "      <td>4.323956</td>\n",
       "      <td>...</td>\n",
       "      <td>22066.12130</td>\n",
       "      <td>14911.87688</td>\n",
       "      <td>1330.51</td>\n",
       "      <td>1205.20</td>\n",
       "      <td>333.99</td>\n",
       "      <td>20.82</td>\n",
       "      <td>41.82</td>\n",
       "      <td>3.41</td>\n",
       "      <td>8.55</td>\n",
       "      <td>7.09</td>\n",
       "    </tr>\n",
       "    <tr>\n",
       "      <th>6</th>\n",
       "      <td>koessen_2009</td>\n",
       "      <td>koessen_ezg</td>\n",
       "      <td>2009</td>\n",
       "      <td>265521.2</td>\n",
       "      <td>152834.51620</td>\n",
       "      <td>1.737312</td>\n",
       "      <td>734265000</td>\n",
       "      <td>327.762693</td>\n",
       "      <td>0.446382</td>\n",
       "      <td>8.339129</td>\n",
       "      <td>...</td>\n",
       "      <td>49151.74136</td>\n",
       "      <td>31007.40090</td>\n",
       "      <td>1189.11</td>\n",
       "      <td>1237.59</td>\n",
       "      <td>275.35</td>\n",
       "      <td>19.84</td>\n",
       "      <td>45.56</td>\n",
       "      <td>3.35</td>\n",
       "      <td>8.26</td>\n",
       "      <td>6.17</td>\n",
       "    </tr>\n",
       "    <tr>\n",
       "      <th>7</th>\n",
       "      <td>landeck_2010</td>\n",
       "      <td>landeck_br2_ezg</td>\n",
       "      <td>2010</td>\n",
       "      <td>378974.1</td>\n",
       "      <td>407454.41090</td>\n",
       "      <td>0.930102</td>\n",
       "      <td>726933125</td>\n",
       "      <td>356.947421</td>\n",
       "      <td>0.491032</td>\n",
       "      <td>14.123907</td>\n",
       "      <td>...</td>\n",
       "      <td>29803.28552</td>\n",
       "      <td>21411.50334</td>\n",
       "      <td>2123.67</td>\n",
       "      <td>1239.87</td>\n",
       "      <td>439.18</td>\n",
       "      <td>26.63</td>\n",
       "      <td>84.30</td>\n",
       "      <td>3.03</td>\n",
       "      <td>11.47</td>\n",
       "      <td>9.18</td>\n",
       "    </tr>\n",
       "    <tr>\n",
       "      <th>8</th>\n",
       "      <td>innsreich_2010</td>\n",
       "      <td>innsreich_ezg</td>\n",
       "      <td>2010</td>\n",
       "      <td>115137.0</td>\n",
       "      <td>417833.11220</td>\n",
       "      <td>0.275557</td>\n",
       "      <td>846703125</td>\n",
       "      <td>344.311337</td>\n",
       "      <td>0.406649</td>\n",
       "      <td>0.991554</td>\n",
       "      <td>...</td>\n",
       "      <td>35351.23930</td>\n",
       "      <td>26018.26549</td>\n",
       "      <td>1897.84</td>\n",
       "      <td>1267.54</td>\n",
       "      <td>443.92</td>\n",
       "      <td>26.08</td>\n",
       "      <td>90.10</td>\n",
       "      <td>3.12</td>\n",
       "      <td>11.28</td>\n",
       "      <td>9.11</td>\n",
       "    </tr>\n",
       "    <tr>\n",
       "      <th>9</th>\n",
       "      <td>bruckh_2010</td>\n",
       "      <td>bruckh_ezg</td>\n",
       "      <td>2010</td>\n",
       "      <td>114665.1</td>\n",
       "      <td>74343.61901</td>\n",
       "      <td>1.542366</td>\n",
       "      <td>316188125</td>\n",
       "      <td>118.516326</td>\n",
       "      <td>0.374829</td>\n",
       "      <td>4.323956</td>\n",
       "      <td>...</td>\n",
       "      <td>14506.82636</td>\n",
       "      <td>10959.24820</td>\n",
       "      <td>1330.51</td>\n",
       "      <td>1205.20</td>\n",
       "      <td>333.99</td>\n",
       "      <td>20.82</td>\n",
       "      <td>41.82</td>\n",
       "      <td>3.41</td>\n",
       "      <td>8.55</td>\n",
       "      <td>7.09</td>\n",
       "    </tr>\n",
       "    <tr>\n",
       "      <th>10</th>\n",
       "      <td>koessen_2010</td>\n",
       "      <td>koessen_ezg</td>\n",
       "      <td>2010</td>\n",
       "      <td>356027.0</td>\n",
       "      <td>149808.84800</td>\n",
       "      <td>2.376542</td>\n",
       "      <td>734265000</td>\n",
       "      <td>327.762693</td>\n",
       "      <td>0.446382</td>\n",
       "      <td>8.339129</td>\n",
       "      <td>...</td>\n",
       "      <td>41531.08624</td>\n",
       "      <td>30106.63362</td>\n",
       "      <td>1189.11</td>\n",
       "      <td>1237.59</td>\n",
       "      <td>275.35</td>\n",
       "      <td>19.84</td>\n",
       "      <td>45.56</td>\n",
       "      <td>3.35</td>\n",
       "      <td>8.26</td>\n",
       "      <td>6.17</td>\n",
       "    </tr>\n",
       "  </tbody>\n",
       "</table>\n",
       "<p>11 rows × 32 columns</p>\n",
       "</div>"
      ],
      "text/plain": [
       "          EZG_year         EZG_NAME  year  SedFracht_gemessen [t/a]  \\\n",
       "0     landeck_2008  landeck_br2_ezg  2008                  170833.1   \n",
       "1      bruckh_2008       bruckh_ezg  2008                   71813.2   \n",
       "2     koessen_2008      koessen_ezg  2008                  164824.3   \n",
       "3     landeck_2009  landeck_br2_ezg  2009                   50897.9   \n",
       "4   innsreich_2009    innsreich_ezg  2009                  133564.3   \n",
       "5      bruckh_2009       bruckh_ezg  2009                   59690.5   \n",
       "6     koessen_2009      koessen_ezg  2009                  265521.2   \n",
       "7     landeck_2010  landeck_br2_ezg  2010                  378974.1   \n",
       "8   innsreich_2010    innsreich_ezg  2010                  115137.0   \n",
       "9      bruckh_2010       bruckh_ezg  2010                  114665.1   \n",
       "10    koessen_2010      koessen_ezg  2010                  356027.0   \n",
       "\n",
       "       ER_gesamt  SDR_realworld  Area [m²]    IM_A_NAT  IM_A_NAT_Anteil  \\\n",
       "0   317026.88220       0.538860  726933125  356.947421         0.491032   \n",
       "1    62259.94383       1.153441  316188125  118.516326         0.374829   \n",
       "2   126776.51100       1.300117  734265000  327.762693         0.446382   \n",
       "3   329038.61050       0.154687  726933125  356.947421         0.491032   \n",
       "4   365746.20840       0.365183  846703125  344.311337         0.406649   \n",
       "5    75337.38618       0.792309  316188125  118.516326         0.374829   \n",
       "6   152834.51620       1.737312  734265000  327.762693         0.446382   \n",
       "7   407454.41090       0.930102  726933125  356.947421         0.491032   \n",
       "8   417833.11220       0.275557  846703125  344.311337         0.406649   \n",
       "9    74343.61901       1.542366  316188125  118.516326         0.374829   \n",
       "10  149808.84800       2.376542  734265000  327.762693         0.446382   \n",
       "\n",
       "     IM_A_MNT        ...          IM_PREC_yr [mm/a]  IM_PREC_s [mm/summer]  \\\n",
       "0   14.123907        ...                31661.93908            17304.36242   \n",
       "1    4.323956        ...                18835.80132            11010.97880   \n",
       "2    8.339129        ...                41390.84165            21536.23297   \n",
       "3   14.123907        ...                26607.85176            15297.12032   \n",
       "4    0.991554        ...                33020.27666            19805.26868   \n",
       "5    4.323956        ...                22066.12130            14911.87688   \n",
       "6    8.339129        ...                49151.74136            31007.40090   \n",
       "7   14.123907        ...                29803.28552            21411.50334   \n",
       "8    0.991554        ...                35351.23930            26018.26549   \n",
       "9    4.323956        ...                14506.82636            10959.24820   \n",
       "10   8.339129        ...                41531.08624            30106.63362   \n",
       "\n",
       "       elev  dist2stream  elevabvstream  slope  streampowerindex  \\\n",
       "0   2123.67      1239.87         439.18  26.63             84.30   \n",
       "1   1330.51      1205.20         333.99  20.82             41.82   \n",
       "2   1189.11      1237.59         275.35  19.84             45.56   \n",
       "3   2123.67      1239.87         439.18  26.63             84.30   \n",
       "4   1897.84      1267.54         443.92  26.08             90.10   \n",
       "5   1330.51      1205.20         333.99  20.82             41.82   \n",
       "6   1189.11      1237.59         275.35  19.84             45.56   \n",
       "7   2123.67      1239.87         439.18  26.63             84.30   \n",
       "8   1897.84      1267.54         443.92  26.08             90.10   \n",
       "9   1330.51      1205.20         333.99  20.82             41.82   \n",
       "10  1189.11      1237.59         275.35  19.84             45.56   \n",
       "\n",
       "    topowetnessindex  toporoughnessindex  sedtransportindex  \n",
       "0               3.03               11.47               9.18  \n",
       "1               3.41                8.55               7.09  \n",
       "2               3.35                8.26               6.17  \n",
       "3               3.03               11.47               9.18  \n",
       "4               3.12               11.28               9.11  \n",
       "5               3.41                8.55               7.09  \n",
       "6               3.35                8.26               6.17  \n",
       "7               3.03               11.47               9.18  \n",
       "8               3.12               11.28               9.11  \n",
       "9               3.41                8.55               7.09  \n",
       "10              3.35                8.26               6.17  \n",
       "\n",
       "[11 rows x 32 columns]"
      ]
     },
     "execution_count": 86,
     "metadata": {},
     "output_type": "execute_result"
    }
   ],
   "source": [
    "daten_calib = daten_4_calib\n",
    "daten_calib"
   ]
  },
  {
   "cell_type": "code",
   "execution_count": 5,
   "metadata": {
    "collapsed": false
   },
   "outputs": [],
   "source": [
    "# with lmfit:\n",
    "\n",
    "a = lmfit.Parameter(name='ER_FCT_a_SDR', value=0.006684, vary=True)\n",
    "d = lmfit.Parameter(name='ER_FCT_d_SDR', value=-0.25, vary=True)\n",
    "exp_a = lmfit.Parameter(name='ER_EXP_a_SDR', value=0.3, vary=True)\n",
    "e = lmfit.Parameter(name='ER_FCT_e_SDR', value=20, vary=True)\n",
    "exp_b = lmfit.Parameter(name='ER_EXP_b_SDR', value=1.5, vary=True)\n",
    "\n",
    "ER_SLP_dem25 = \n",
    "ER_SHR_a_al_tot\n",
    "\n",
    "def SDR_MoRE(params, slope, anteilA):\n",
    "    parvals = pars.valuesdict()\n",
    "    # oder die values der einzelnen Parameter\n",
    "    \n",
    "    SDR = a * (slope + d)^exp_a * (anteilA + e)^exp_b\n",
    "\n",
    "lmfit.minimize()"
   ]
  },
  {
   "cell_type": "code",
   "execution_count": 7,
   "metadata": {
    "collapsed": true
   },
   "outputs": [],
   "source": [
    "# with scipy:\n",
    "\n",
    "from scipy.optimize import curve_fit"
   ]
  },
  {
   "cell_type": "code",
   "execution_count": 8,
   "metadata": {
    "collapsed": true
   },
   "outputs": [],
   "source": [
    "slope = daten_4_calib['slope']\n",
    "anteil_AL = daten_4_calib['ER_SHR_a_al_tot']\n",
    "SDR_realword = daten_4_calib['SDR_realworld']"
   ]
  },
  {
   "cell_type": "code",
   "execution_count": 9,
   "metadata": {
    "collapsed": true
   },
   "outputs": [],
   "source": [
    "X = (slope, anteil_AL)"
   ]
  },
  {
   "cell_type": "code",
   "execution_count": 11,
   "metadata": {
    "collapsed": false
   },
   "outputs": [
    {
     "data": {
      "text/plain": [
       "tuple"
      ]
     },
     "execution_count": 11,
     "metadata": {},
     "output_type": "execute_result"
    }
   ],
   "source": [
    "type(X)"
   ]
  },
  {
   "cell_type": "code",
   "execution_count": 16,
   "metadata": {
    "collapsed": true
   },
   "outputs": [],
   "source": [
    "def SDR_MoRE(X, a, d, exp_a, e, exp_b):\n",
    "    x, y = X\n",
    "    return a * (x + d)**exp_a * (y + e)**exp_b"
   ]
  },
  {
   "cell_type": "code",
   "execution_count": 13,
   "metadata": {
    "collapsed": true
   },
   "outputs": [],
   "source": [
    "p0 = (0.006684, -0.25, 0.3, 20, 1.5)"
   ]
  },
  {
   "cell_type": "code",
   "execution_count": 18,
   "metadata": {
    "collapsed": true
   },
   "outputs": [],
   "source": [
    "p0_2 = (0.00001, 0.00001, 0.00001, 0.00001, 0.00001)"
   ]
  },
  {
   "cell_type": "code",
   "execution_count": 19,
   "metadata": {
    "collapsed": false
   },
   "outputs": [],
   "source": [
    "popt, pcov = curve_fit(SDR_MoRE, X, SDR_realword, p0_2)"
   ]
  },
  {
   "cell_type": "code",
   "execution_count": 20,
   "metadata": {
    "collapsed": false
   },
   "outputs": [
    {
     "name": "stdout",
     "output_type": "stream",
     "text": [
      "[ 0.00910828  3.57518001  1.48706212 -0.03547754  0.04494723]\n"
     ]
    }
   ],
   "source": [
    "print(popt)"
   ]
  },
  {
   "cell_type": "code",
   "execution_count": 26,
   "metadata": {
    "collapsed": true
   },
   "outputs": [],
   "source": [
    "X2 = (daten_4_calib['IM_A_NAT_Anteil']*100, daten_4_calib['BI_Q_dir [m³/s]'])\n",
    "\n",
    "popt2, pcov2 = curve_fit(SDR_MoRE, X2, SDR_realword, p0_2, maxfev=5000)\n",
    "\n",
    "print(popt2)"
   ]
  },
  {
   "cell_type": "code",
   "execution_count": 50,
   "metadata": {
    "collapsed": false,
    "scrolled": true
   },
   "outputs": [
    {
     "data": {
      "text/plain": [
       "[<matplotlib.lines.Line2D at 0xc7e1080>]"
      ]
     },
     "execution_count": 50,
     "metadata": {},
     "output_type": "execute_result"
    },
    {
     "data": {
      "image/png": "[encoded data removed]",
      "text/plain": [
       "<matplotlib.figure.Figure at 0xc7b0e10>"
      ]
     },
     "metadata": {},
     "output_type": "display_data"
    }
   ],
   "source": [
    "# xx = np.linspace(0, 1, 5)\n",
    "\n",
    "yy2 = SDR_MoRE(X2, *popt2)\n",
    "\n",
    "plt.plot(daten_4_calib['SDR_realworld'], 'ko')\n",
    "plt.plot(yy2)"
   ]
  },
  {
   "cell_type": "code",
   "execution_count": 63,
   "metadata": {
    "collapsed": false
   },
   "outputs": [
    {
     "name": "stdout",
     "output_type": "stream",
     "text": [
      "[ 0.01038874  1.32193536  1.42867801 -0.12        0.03434688]\n"
     ]
    }
   ],
   "source": [
    "X3 = (daten_4_calib['BI_Q [m³/s]'], daten_4_calib['IM_A_MNT_Anteil']*100)\n",
    "\n",
    "popt3, pcov3 = curve_fit(SDR_MoRE, X3, SDR_realword, p0_2, maxfev=5000)\n",
    "\n",
    "print(popt3)"
   ]
  },
  {
   "cell_type": "code",
   "execution_count": 64,
   "metadata": {
    "collapsed": false,
    "scrolled": true
   },
   "outputs": [
    {
     "data": {
      "text/plain": [
       "[<matplotlib.lines.Line2D at 0xc9282b0>]"
      ]
     },
     "execution_count": 64,
     "metadata": {},
     "output_type": "execute_result"
    },
    {
     "data": {
      "image/png": "[encoded data removed]",
      "text/plain": [
       "<matplotlib.figure.Figure at 0xc8104e0>"
      ]
     },
     "metadata": {},
     "output_type": "display_data"
    }
   ],
   "source": [
    "yy3 = SDR_MoRE(X3, *popt3)\n",
    "\n",
    "plt.plot(daten_4_calib['SDR_realworld'], 'ko')\n",
    "plt.plot(yy3)"
   ]
  },
  {
   "cell_type": "code",
   "execution_count": 70,
   "metadata": {
    "collapsed": false
   },
   "outputs": [
    {
     "data": {
      "text/plain": [
       "<matplotlib.axes._subplots.AxesSubplot at 0xc9fc128>"
      ]
     },
     "execution_count": 70,
     "metadata": {},
     "output_type": "execute_result"
    },
    {
     "data": {
      "image/png": "[encoded data removed]",
      "text/plain": [
       "<matplotlib.figure.Figure at 0xca08358>"
      ]
     },
     "metadata": {},
     "output_type": "display_data"
    }
   ],
   "source": [
    "test_popt3 = SDR_MoRE(X3, *popt3) * daten_4_calib['ER_gesamt']\n",
    "\n",
    "sns.regplot(daten_4_calib['SedFracht_gemessen [t/a]'], test_popt3)"
   ]
  },
  {
   "cell_type": "code",
   "execution_count": 72,
   "metadata": {
    "collapsed": false
   },
   "outputs": [
    {
     "name": "stdout",
     "output_type": "stream",
     "text": [
      "[    69.924632     9250.60983366    -77.864941    39353.65482848\n",
      "     67.07327262]\n"
     ]
    },
    {
     "data": {
      "text/plain": [
       "[<matplotlib.lines.Line2D at 0xcc039e8>]"
      ]
     },
     "execution_count": 72,
     "metadata": {},
     "output_type": "execute_result"
    },
    {
     "data": {
      "image/png": "[encoded data removed]",
      "text/plain": [
       "<matplotlib.figure.Figure at 0xca8ae10>"
      ]
     },
     "metadata": {},
     "output_type": "display_data"
    }
   ],
   "source": [
    "X4 = (daten_4_calib['elevabvstream'], daten_4_calib['IM_A_NAT_Anteil']*100)\n",
    "\n",
    "popt4, pcov4 = curve_fit(SDR_MoRE, X4, SDR_realword, p0_2, maxfev=5000)\n",
    "\n",
    "print(popt4)\n",
    "\n",
    "yy4 = SDR_MoRE(X4, *popt4)\n",
    "\n",
    "plt.plot(daten_4_calib['SDR_realworld'], 'ko')\n",
    "plt.plot(yy4)"
   ]
  },
  {
   "cell_type": "code",
   "execution_count": 75,
   "metadata": {
    "collapsed": false,
    "scrolled": true
   },
   "outputs": [
    {
     "data": {
      "text/plain": [
       "0     0.486976\n",
       "1     1.116927\n",
       "2     1.823242\n",
       "3     0.486976\n",
       "4     0.462095\n",
       "5     1.116927\n",
       "6     1.823242\n",
       "7     0.486976\n",
       "8     0.462095\n",
       "9     1.116927\n",
       "10    1.823242\n",
       "dtype: float64"
      ]
     },
     "execution_count": 75,
     "metadata": {},
     "output_type": "execute_result"
    }
   ],
   "source": [
    "yy4"
   ]
  },
  {
   "cell_type": "code",
   "execution_count": 73,
   "metadata": {
    "collapsed": false,
    "scrolled": true
   },
   "outputs": [
    {
     "data": {
      "text/plain": [
       "<matplotlib.axes._subplots.AxesSubplot at 0xd176128>"
      ]
     },
     "execution_count": 73,
     "metadata": {},
     "output_type": "execute_result"
    },
    {
     "data": {
      "image/png": "[encoded data removed]",
      "text/plain": [
       "<matplotlib.figure.Figure at 0xcb41390>"
      ]
     },
     "metadata": {},
     "output_type": "display_data"
    }
   ],
   "source": [
    "test_popt4 = SDR_MoRE(X4, *popt4) * daten_4_calib['ER_gesamt']\n",
    "\n",
    "sns.regplot(daten_4_calib['SedFracht_gemessen [t/a]'], test_popt4)"
   ]
  },
  {
   "cell_type": "code",
   "execution_count": 84,
   "metadata": {
    "collapsed": false
   },
   "outputs": [
    {
     "name": "stdout",
     "output_type": "stream",
     "text": [
      "[  1.78028285e-01   1.20153622e+04  -7.50756388e+01   1.52134852e+02\n",
      "   1.40990426e+02]\n"
     ]
    },
    {
     "data": {
      "text/plain": [
       "[<matplotlib.lines.Line2D at 0xd1fae48>]"
      ]
     },
     "execution_count": 84,
     "metadata": {},
     "output_type": "execute_result"
    },
    {
     "data": {
      "image/png": "[encoded data removed]",
      "text/plain": [
       "<matplotlib.figure.Figure at 0xcb58898>"
      ]
     },
     "metadata": {},
     "output_type": "display_data"
    }
   ],
   "source": [
    "X5 = (daten_4_calib['elevabvstream'], daten_4_calib['IM_A_WS_Anteil']*100)\n",
    "\n",
    "popt5, pcov5 = curve_fit(SDR_MoRE, X5, SDR_realword, p0_2, maxfev=5000)\n",
    "\n",
    "print(popt5)\n",
    "\n",
    "yy5 = SDR_MoRE(X5, *popt5)\n",
    "\n",
    "plt.plot(daten_4_calib['SDR_realworld'], 'ko')\n",
    "plt.plot(yy5)"
   ]
  },
  {
   "cell_type": "code",
   "execution_count": 85,
   "metadata": {
    "collapsed": false
   },
   "outputs": [
    {
     "data": {
      "text/plain": [
       "<matplotlib.axes._subplots.AxesSubplot at 0xd1d02b0>"
      ]
     },
     "execution_count": 85,
     "metadata": {},
     "output_type": "execute_result"
    },
    {
     "data": {
      "image/png": "[encoded data removed]",
      "text/plain": [
       "<matplotlib.figure.Figure at 0xccbaef0>"
      ]
     },
     "metadata": {},
     "output_type": "display_data"
    }
   ],
   "source": [
    "test_popt5 = SDR_MoRE(X5, *popt5) * daten_4_calib['ER_gesamt']\n",
    "\n",
    "sns.regplot(daten_4_calib['SedFracht_gemessen [t/a]'], test_popt5)"
   ]
  },
  {
   "cell_type": "code",
   "execution_count": 87,
   "metadata": {
    "collapsed": false
   },
   "outputs": [
    {
     "name": "stdout",
     "output_type": "stream",
     "text": [
      "[ 0.00910828  3.57518001  1.48706212 -0.03547754  0.04494723]\n"
     ]
    },
    {
     "data": {
      "text/plain": [
       "[<matplotlib.lines.Line2D at 0xd6e7cc0>]"
      ]
     },
     "execution_count": 87,
     "metadata": {},
     "output_type": "execute_result"
    },
    {
     "data": {
      "image/png": "[encoded data removed]",
      "text/plain": [
       "<matplotlib.figure.Figure at 0xd219a58>"
      ]
     },
     "metadata": {},
     "output_type": "display_data"
    }
   ],
   "source": [
    "X6 = (daten_calib['slope'], daten_calib['ER_SHR_a_al_tot'])\n",
    "\n",
    "popt6, pcov6 = curve_fit(SDR_MoRE, X6, SDR_realword, p0_2, maxfev=5000)\n",
    "\n",
    "print(popt6)\n",
    "\n",
    "yy6 = SDR_MoRE(X6, *popt6)\n",
    "\n",
    "plt.plot(daten_calib['SDR_realworld'], 'ko')\n",
    "plt.plot(yy6)"
   ]
  },
  {
   "cell_type": "code",
   "execution_count": 88,
   "metadata": {
    "collapsed": false
   },
   "outputs": [
    {
     "data": {
      "text/plain": [
       "<matplotlib.axes._subplots.AxesSubplot at 0xd6f2fd0>"
      ]
     },
     "execution_count": 88,
     "metadata": {},
     "output_type": "execute_result"
    },
    {
     "data": {
      "image/png": "[encoded data removed]",
      "text/plain": [
       "<matplotlib.figure.Figure at 0xccee278>"
      ]
     },
     "metadata": {},
     "output_type": "display_data"
    }
   ],
   "source": [
    "test_popt6 = SDR_MoRE(X6, *popt6) * daten_calib['ER_gesamt']\n",
    "\n",
    "sns.regplot(daten_calib['SedFracht_gemessen [t/a]'], test_popt6)"
   ]
  }
 ],
 "metadata": {
  "kernelspec": {
   "display_name": "Python 3",
   "language": "python",
   "name": "python3"
  },
  "language_info": {
   "codemirror_mode": {
    "name": "ipython",
    "version": 3
   },
   "file_extension": ".py",
   "mimetype": "text/x-python",
   "name": "python",
   "nbconvert_exporter": "python",
   "pygments_lexer": "ipython3",
   "version": "3.5.2"
  }
 },
 "nbformat": 4,
 "nbformat_minor": 0
}
